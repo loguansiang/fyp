{
  "nbformat": 4,
  "nbformat_minor": 0,
  "metadata": {
    "colab": {
      "name": "grus windowing method .ipynb",
      "provenance": []
    },
    "kernelspec": {
      "name": "python3",
      "display_name": "Python 3"
    },
    "language_info": {
      "name": "python"
    }
  },
  "cells": [
    {
      "cell_type": "code",
      "execution_count": null,
      "metadata": {
        "id": "HnbvOu4QrWxD"
      },
      "outputs": [],
      "source": [
        "import numpy as np\n",
        "import pandas as pd\n",
        "from keras.models import Sequential\n",
        "from keras.layers import LSTM, Dense, Dropout\n",
        "from keras import optimizers\n",
        "import matplotlib.pyplot as plt\n",
        "from keras.models import load_model\n",
        "from sklearn.preprocessing import MinMaxScaler\n",
        "from sklearn.model_selection import train_test_split\n",
        "import sklearn.metrics as metrics\n",
        "from keras.models import Sequential\n",
        "from keras.layers import LSTM, GRU, Dense, Dropout\n",
        "from keras import optimizers\n",
        "import numpy\n",
        "import matplotlib.pyplot as plt\n",
        "import pandas\n",
        "import math\n",
        "from keras.models import Sequential\n",
        "from keras.layers import Dense\n",
        "from keras.layers import LSTM\n",
        "from sklearn.preprocessing import MinMaxScaler\n",
        "from sklearn.metrics import mean_squared_error"
      ]
    },
    {
      "cell_type": "code",
      "source": [
        "url = 'https://raw.githubusercontent.com/loguansiang/fyp/main/SAND%20fyp.csv'\n",
        "df = pd.read_csv(url)"
      ],
      "metadata": {
        "id": "807TWupkrYks"
      },
      "execution_count": null,
      "outputs": []
    },
    {
      "cell_type": "code",
      "source": [
        "df['Date'] = pd.to_datetime(df['Date'])\n",
        "df.set_index('Date', inplace = True)"
      ],
      "metadata": {
        "id": "K2tLhEJ6rZuC"
      },
      "execution_count": null,
      "outputs": []
    },
    {
      "cell_type": "code",
      "source": [
        "df = df['Close']"
      ],
      "metadata": {
        "id": "PSh_NUWdrawQ"
      },
      "execution_count": null,
      "outputs": []
    },
    {
      "cell_type": "code",
      "source": [
        "df"
      ],
      "metadata": {
        "colab": {
          "base_uri": "https://localhost:8080/"
        },
        "id": "T_fyo4etrb1Z",
        "outputId": "e06e6a0e-9f8f-4643-a978-61ec2963cecc"
      },
      "execution_count": null,
      "outputs": [
        {
          "output_type": "execute_result",
          "data": {
            "text/plain": [
              "Date\n",
              "2020-08-14    0.065645\n",
              "2020-08-15    0.050964\n",
              "2020-08-16    0.060847\n",
              "2020-08-17    0.053999\n",
              "2020-08-18    0.051700\n",
              "                ...   \n",
              "2022-04-13    2.869923\n",
              "2022-04-14    2.780882\n",
              "2022-04-15    2.803639\n",
              "2022-04-16    2.822680\n",
              "2022-04-17    2.790278\n",
              "Name: Close, Length: 612, dtype: float64"
            ]
          },
          "metadata": {},
          "execution_count": 5
        }
      ]
    },
    {
      "cell_type": "code",
      "source": [
        "array = df.values.reshape(df.shape[0],1)\n",
        "scaler = MinMaxScaler()\n",
        "array = scaler.fit_transform(array)"
      ],
      "metadata": {
        "id": "Mj8Nxfz-redK"
      },
      "execution_count": null,
      "outputs": []
    },
    {
      "cell_type": "code",
      "source": [
        "train_size = int(len(array) * 0.67)\n",
        "test_size = len(array) - train_size\n",
        "train, test = array[0:train_size,:], array[train_size:len(array),:]\n",
        "print(len(train), len(test))"
      ],
      "metadata": {
        "colab": {
          "base_uri": "https://localhost:8080/"
        },
        "id": "Fn2_JgZqrf4Q",
        "outputId": "ebcd30fe-4c7c-44e7-bbad-01e1277101e4"
      },
      "execution_count": null,
      "outputs": [
        {
          "output_type": "stream",
          "name": "stdout",
          "text": [
            "410 202\n"
          ]
        }
      ]
    },
    {
      "cell_type": "code",
      "source": [
        "def create_dataset(dataset, look_back=1):\n",
        "\tdataX, dataY = [], []\n",
        "\tfor i in range(len(dataset)-look_back-1):\n",
        "\t\ta = dataset[i:(i+look_back), 0]\n",
        "\t\tdataX.append(a)\n",
        "\t\tdataY.append(dataset[i + look_back, 0])\n",
        "    \n",
        "\treturn numpy.array(dataX), numpy.array(dataY)\n",
        " "
      ],
      "metadata": {
        "id": "HVh32xu7rhci"
      },
      "execution_count": null,
      "outputs": []
    },
    {
      "cell_type": "code",
      "source": [
        "# reshape into X=t and Y=t+1\n",
        "\n",
        "look_back = 7\n",
        "trainX, trainY = create_dataset(train, look_back)\n",
        "testX, testY = create_dataset(test, look_back)"
      ],
      "metadata": {
        "id": "Ljv923RDrjJR"
      },
      "execution_count": null,
      "outputs": []
    },
    {
      "cell_type": "code",
      "source": [
        "import tensorflow as tf\n",
        "from tensorflow.keras import layers\n",
        "\n",
        "# Set random seed for as reproducible results as possible\n",
        "tf.random.set_seed(7)\n",
        "# create and fit the GRU network\n",
        "model = Sequential()\n",
        "model.add(GRU(4, input_shape=(look_back,1 )))\n",
        "model.add(Dropout(0.4))\n",
        "model.add(Dense(1))\n",
        "model.compile(loss='mean_squared_error', optimizer='adam')\n",
        "model.fit(trainX, trainY, epochs=50, batch_size=1, verbose=2)\n",
        "model.summary()"
      ],
      "metadata": {
        "colab": {
          "base_uri": "https://localhost:8080/"
        },
        "id": "mxs4FVFXtAi8",
        "outputId": "be269dea-f394-4f34-dc38-8c2c6ae2a598"
      },
      "execution_count": null,
      "outputs": [
        {
          "output_type": "stream",
          "name": "stdout",
          "text": [
            "Epoch 1/50\n",
            "402/402 - 5s - loss: 7.0324e-04 - 5s/epoch - 11ms/step\n",
            "Epoch 2/50\n",
            "402/402 - 1s - loss: 2.5811e-04 - 1s/epoch - 3ms/step\n",
            "Epoch 3/50\n",
            "402/402 - 1s - loss: 2.3138e-04 - 1s/epoch - 3ms/step\n",
            "Epoch 4/50\n",
            "402/402 - 2s - loss: 2.3345e-04 - 2s/epoch - 4ms/step\n",
            "Epoch 5/50\n",
            "402/402 - 1s - loss: 2.1960e-04 - 807ms/epoch - 2ms/step\n",
            "Epoch 6/50\n",
            "402/402 - 1s - loss: 2.0999e-04 - 757ms/epoch - 2ms/step\n",
            "Epoch 7/50\n",
            "402/402 - 1s - loss: 1.8530e-04 - 776ms/epoch - 2ms/step\n",
            "Epoch 8/50\n",
            "402/402 - 1s - loss: 2.2148e-04 - 776ms/epoch - 2ms/step\n",
            "Epoch 9/50\n",
            "402/402 - 1s - loss: 2.1855e-04 - 774ms/epoch - 2ms/step\n",
            "Epoch 10/50\n",
            "402/402 - 1s - loss: 2.2204e-04 - 775ms/epoch - 2ms/step\n",
            "Epoch 11/50\n",
            "402/402 - 1s - loss: 2.4144e-04 - 762ms/epoch - 2ms/step\n",
            "Epoch 12/50\n",
            "402/402 - 1s - loss: 2.1331e-04 - 765ms/epoch - 2ms/step\n",
            "Epoch 13/50\n",
            "402/402 - 1s - loss: 2.4211e-04 - 778ms/epoch - 2ms/step\n",
            "Epoch 14/50\n",
            "402/402 - 1s - loss: 1.7530e-04 - 780ms/epoch - 2ms/step\n",
            "Epoch 15/50\n",
            "402/402 - 1s - loss: 2.4226e-04 - 761ms/epoch - 2ms/step\n",
            "Epoch 16/50\n",
            "402/402 - 1s - loss: 2.0908e-04 - 778ms/epoch - 2ms/step\n",
            "Epoch 17/50\n",
            "402/402 - 1s - loss: 2.0112e-04 - 803ms/epoch - 2ms/step\n",
            "Epoch 18/50\n",
            "402/402 - 1s - loss: 2.4252e-04 - 792ms/epoch - 2ms/step\n",
            "Epoch 19/50\n",
            "402/402 - 1s - loss: 2.0985e-04 - 774ms/epoch - 2ms/step\n",
            "Epoch 20/50\n",
            "402/402 - 1s - loss: 2.1015e-04 - 763ms/epoch - 2ms/step\n",
            "Epoch 21/50\n",
            "402/402 - 1s - loss: 2.0069e-04 - 791ms/epoch - 2ms/step\n",
            "Epoch 22/50\n",
            "402/402 - 1s - loss: 1.7712e-04 - 743ms/epoch - 2ms/step\n",
            "Epoch 23/50\n",
            "402/402 - 1s - loss: 2.0614e-04 - 764ms/epoch - 2ms/step\n",
            "Epoch 24/50\n",
            "402/402 - 1s - loss: 1.9203e-04 - 762ms/epoch - 2ms/step\n",
            "Epoch 25/50\n",
            "402/402 - 1s - loss: 2.0377e-04 - 752ms/epoch - 2ms/step\n",
            "Epoch 26/50\n",
            "402/402 - 1s - loss: 2.1492e-04 - 753ms/epoch - 2ms/step\n",
            "Epoch 27/50\n",
            "402/402 - 1s - loss: 2.1648e-04 - 767ms/epoch - 2ms/step\n",
            "Epoch 28/50\n",
            "402/402 - 1s - loss: 1.8036e-04 - 766ms/epoch - 2ms/step\n",
            "Epoch 29/50\n",
            "402/402 - 1s - loss: 2.0821e-04 - 761ms/epoch - 2ms/step\n",
            "Epoch 30/50\n",
            "402/402 - 1s - loss: 2.2417e-04 - 765ms/epoch - 2ms/step\n",
            "Epoch 31/50\n",
            "402/402 - 1s - loss: 1.9660e-04 - 786ms/epoch - 2ms/step\n",
            "Epoch 32/50\n",
            "402/402 - 1s - loss: 2.2545e-04 - 770ms/epoch - 2ms/step\n",
            "Epoch 33/50\n",
            "402/402 - 1s - loss: 2.2568e-04 - 777ms/epoch - 2ms/step\n",
            "Epoch 34/50\n",
            "402/402 - 1s - loss: 2.2500e-04 - 761ms/epoch - 2ms/step\n",
            "Epoch 35/50\n",
            "402/402 - 1s - loss: 1.9653e-04 - 788ms/epoch - 2ms/step\n",
            "Epoch 36/50\n",
            "402/402 - 1s - loss: 2.2435e-04 - 788ms/epoch - 2ms/step\n",
            "Epoch 37/50\n",
            "402/402 - 1s - loss: 2.4238e-04 - 771ms/epoch - 2ms/step\n",
            "Epoch 38/50\n",
            "402/402 - 1s - loss: 1.7872e-04 - 776ms/epoch - 2ms/step\n",
            "Epoch 39/50\n",
            "402/402 - 1s - loss: 1.9041e-04 - 782ms/epoch - 2ms/step\n",
            "Epoch 40/50\n",
            "402/402 - 1s - loss: 1.8434e-04 - 763ms/epoch - 2ms/step\n",
            "Epoch 41/50\n",
            "402/402 - 1s - loss: 2.0659e-04 - 763ms/epoch - 2ms/step\n",
            "Epoch 42/50\n",
            "402/402 - 1s - loss: 1.6258e-04 - 777ms/epoch - 2ms/step\n",
            "Epoch 43/50\n",
            "402/402 - 1s - loss: 2.1178e-04 - 754ms/epoch - 2ms/step\n",
            "Epoch 44/50\n",
            "402/402 - 1s - loss: 1.9576e-04 - 763ms/epoch - 2ms/step\n",
            "Epoch 45/50\n",
            "402/402 - 1s - loss: 1.7984e-04 - 760ms/epoch - 2ms/step\n",
            "Epoch 46/50\n",
            "402/402 - 1s - loss: 1.5784e-04 - 790ms/epoch - 2ms/step\n",
            "Epoch 47/50\n",
            "402/402 - 1s - loss: 2.0265e-04 - 755ms/epoch - 2ms/step\n",
            "Epoch 48/50\n",
            "402/402 - 1s - loss: 1.7488e-04 - 765ms/epoch - 2ms/step\n",
            "Epoch 49/50\n",
            "402/402 - 1s - loss: 2.2477e-04 - 799ms/epoch - 2ms/step\n",
            "Epoch 50/50\n",
            "402/402 - 1s - loss: 2.2153e-04 - 756ms/epoch - 2ms/step\n",
            "Model: \"sequential\"\n",
            "_________________________________________________________________\n",
            " Layer (type)                Output Shape              Param #   \n",
            "=================================================================\n",
            " gru (GRU)                   (None, 4)                 84        \n",
            "                                                                 \n",
            " dropout (Dropout)           (None, 4)                 0         \n",
            "                                                                 \n",
            " dense (Dense)               (None, 1)                 5         \n",
            "                                                                 \n",
            "=================================================================\n",
            "Total params: 89\n",
            "Trainable params: 89\n",
            "Non-trainable params: 0\n",
            "_________________________________________________________________\n"
          ]
        }
      ]
    },
    {
      "cell_type": "code",
      "source": [
        "# make predictions\n",
        "trainPredict = model.predict(trainX)\n",
        "testPredict = model.predict(testX)\n",
        "# invert predictions\n",
        "trainPredict = scaler.inverse_transform(trainPredict)\n",
        "trainY = scaler.inverse_transform([trainY])\n",
        "testPredict = scaler.inverse_transform(testPredict)\n",
        "testY = scaler.inverse_transform([testY])\n",
        "# calculate root mean squared error\n",
        "trainScore = math.sqrt(mean_squared_error(trainY[0], trainPredict[:,0]))\n",
        "print('Train Score: %.2f RMSE' % (trainScore))\n",
        "testScore = math.sqrt(mean_squared_error(testY[0], testPredict[:,0]))\n",
        "print('Test Score: %.2f RMSE' % (testScore))"
      ],
      "metadata": {
        "colab": {
          "base_uri": "https://localhost:8080/"
        },
        "id": "6my3kcH6tCp5",
        "outputId": "c5e52f94-d128-487c-9313-2521eb1e5c67"
      },
      "execution_count": null,
      "outputs": [
        {
          "output_type": "stream",
          "name": "stdout",
          "text": [
            "Train Score: 0.08 RMSE\n",
            "Test Score: 1.12 RMSE\n"
          ]
        }
      ]
    },
    {
      "cell_type": "code",
      "source": [
        "# shift train predictions for plotting\n",
        "trainPredictPlot = numpy.empty_like(array)\n",
        "trainPredictPlot[:, :] = numpy.nan\n",
        "trainPredictPlot[look_back:len(trainPredict)+look_back, :] = trainPredict\n",
        "# shift test predictions for plotting\n",
        "testPredictPlot = numpy.empty_like(array)\n",
        "testPredictPlot[:, :] = numpy.nan\n",
        "testPredictPlot[len(trainPredict)+(look_back*2)+1:len(array)-1, :] = testPredict\n",
        "# plot baseline and predictions\n",
        "plt.plot(scaler.inverse_transform(array))\n",
        "plt.plot(trainPredictPlot)\n",
        "plt.plot(testPredictPlot)\n",
        "plt.show()"
      ],
      "metadata": {
        "colab": {
          "base_uri": "https://localhost:8080/",
          "height": 265
        },
        "id": "DrT03vXntD6J",
        "outputId": "6ae85acd-2546-4612-855f-119f8e6e9e5b"
      },
      "execution_count": null,
      "outputs": [
        {
          "output_type": "display_data",
          "data": {
            "text/plain": [
              "<Figure size 432x288 with 1 Axes>"
            ],
            "image/png": "[encoded data removed]"
          },
          "metadata": {
            "needs_background": "light"
          }
        }
      ]
    }
  ]
}