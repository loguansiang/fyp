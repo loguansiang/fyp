{
  "nbformat": 4,
  "nbformat_minor": 0,
  "metadata": {
    "colab": {
      "name": "lstm technical indicator.ipynb",
      "provenance": [],
      "authorship_tag": "ABX9TyNJ62vCQ4lpqn/1OKT9Ny+/",
      "include_colab_link": true
    },
    "kernelspec": {
      "name": "python3",
      "display_name": "Python 3"
    },
    "language_info": {
      "name": "python"
    }
  },
  "cells": [
    {
      "cell_type": "markdown",
      "metadata": {
        "id": "view-in-github",
        "colab_type": "text"
      },
      "source": [
        "<a href=\"https://colab.research.google.com/github/loguansiang/fyp/blob/main/lstm_technical_indicator.ipynb\" target=\"_parent\"><img src=\"https://colab.research.google.com/assets/colab-badge.svg\" alt=\"Open In Colab\"/></a>"
      ]
    },
    {
      "cell_type": "code",
      "execution_count": 106,
      "metadata": {
        "id": "DnZ9W5zM2s1Q"
      },
      "outputs": [],
      "source": [
        "import numpy as np\n",
        "import pandas as pd\n",
        "from keras.models import Sequential\n",
        "from keras.layers import LSTM, Dense, Dropout\n",
        "from keras import optimizers\n",
        "import matplotlib.pyplot as plt\n",
        "from keras.models import load_model\n",
        "from sklearn.preprocessing import MinMaxScaler\n",
        "from sklearn.model_selection import train_test_split\n",
        "import sklearn.metrics as metrics\n",
        "from keras.models import Sequential\n",
        "from keras.layers import LSTM, GRU, Dense, Dropout\n",
        "from keras import optimizers\n",
        "import numpy\n",
        "import matplotlib.pyplot as plt\n",
        "import pandas\n",
        "import math\n",
        "from keras.models import Sequential\n",
        "from keras.layers import Dense\n",
        "from keras.layers import LSTM\n",
        "from sklearn.preprocessing import MinMaxScaler\n",
        "from sklearn.metrics import mean_squared_error"
      ]
    },
    {
      "cell_type": "code",
      "source": [
        "url = 'https://raw.githubusercontent.com/loguansiang/fyp/main/SAND%20fyp.csv'\n",
        "df = pd.read_csv(url)"
      ],
      "metadata": {
        "id": "s70jp1g32zRL"
      },
      "execution_count": 107,
      "outputs": []
    },
    {
      "cell_type": "code",
      "source": [
        "df['Date'] = pd.to_datetime(df['Date'])\n",
        "df.set_index('Date', inplace = True)"
      ],
      "metadata": {
        "id": "C7ygmO7t20cY"
      },
      "execution_count": 108,
      "outputs": []
    },
    {
      "cell_type": "code",
      "source": [
        "df"
      ],
      "metadata": {
        "colab": {
          "base_uri": "https://localhost:8080/",
          "height": 455
        },
        "id": "jePsBd7k210y",
        "outputId": "1bfd9026-c0f6-45c4-f776-37ef44c2aa2a"
      },
      "execution_count": 109,
      "outputs": [
        {
          "output_type": "execute_result",
          "data": {
            "text/plain": [
              "                Open      High       Low     Close  Adj Close     Volume\n",
              "Date                                                                    \n",
              "2020-08-14  0.086577  0.086577  0.059597  0.065645   0.065645  118988161\n",
              "2020-08-15  0.066077  0.069509  0.048985  0.050964   0.050964   36213441\n",
              "2020-08-16  0.051438  0.069508  0.048064  0.060847   0.060847   33023213\n",
              "2020-08-17  0.060847  0.065073  0.052525  0.053999   0.053999   11686493\n",
              "2020-08-18  0.053784  0.060990  0.050675  0.051700   0.051700    7401293\n",
              "...              ...       ...       ...       ...        ...        ...\n",
              "2022-04-13  2.781983  2.886945  2.751847  2.869923   2.869923  321784424\n",
              "2022-04-14  2.869366  2.916186  2.714203  2.780882   2.780882  349909147\n",
              "2022-04-15  2.781060  2.820187  2.755915  2.803639   2.803639  189256519\n",
              "2022-04-16  2.803614  2.901280  2.777383  2.822680   2.822680  234480315\n",
              "2022-04-17  2.820111  2.820111  2.781153  2.790278   2.790278  176793328\n",
              "\n",
              "[612 rows x 6 columns]"
            ],
            "text/html": [
              "\n",
              "  <div id=\"df-f8de9a3c-bbd7-456b-8d87-cd6604cdda10\">\n",
              "    <div class=\"colab-df-container\">\n",
              "      <div>\n",
              "<style scoped>\n",
              "    .dataframe tbody tr th:only-of-type {\n",
              "        vertical-align: middle;\n",
              "    }\n",
              "\n",
              "    .dataframe tbody tr th {\n",
              "        vertical-align: top;\n",
              "    }\n",
              "\n",
              "    .dataframe thead th {\n",
              "        text-align: right;\n",
              "    }\n",
              "</style>\n",
              "<table border=\"1\" class=\"dataframe\">\n",
              "  <thead>\n",
              "    <tr style=\"text-align: right;\">\n",
              "      <th></th>\n",
              "      <th>Open</th>\n",
              "      <th>High</th>\n",
              "      <th>Low</th>\n",
              "      <th>Close</th>\n",
              "      <th>Adj Close</th>\n",
              "      <th>Volume</th>\n",
              "    </tr>\n",
              "    <tr>\n",
              "      <th>Date</th>\n",
              "      <th></th>\n",
              "      <th></th>\n",
              "      <th></th>\n",
              "      <th></th>\n",
              "      <th></th>\n",
              "      <th></th>\n",
              "    </tr>\n",
              "  </thead>\n",
              "  <tbody>\n",
              "    <tr>\n",
              "      <th>2020-08-14</th>\n",
              "      <td>0.086577</td>\n",
              "      <td>0.086577</td>\n",
              "      <td>0.059597</td>\n",
              "      <td>0.065645</td>\n",
              "      <td>0.065645</td>\n",
              "      <td>118988161</td>\n",
              "    </tr>\n",
              "    <tr>\n",
              "      <th>2020-08-15</th>\n",
              "      <td>0.066077</td>\n",
              "      <td>0.069509</td>\n",
              "      <td>0.048985</td>\n",
              "      <td>0.050964</td>\n",
              "      <td>0.050964</td>\n",
              "      <td>36213441</td>\n",
              "    </tr>\n",
              "    <tr>\n",
              "      <th>2020-08-16</th>\n",
              "      <td>0.051438</td>\n",
              "      <td>0.069508</td>\n",
              "      <td>0.048064</td>\n",
              "      <td>0.060847</td>\n",
              "      <td>0.060847</td>\n",
              "      <td>33023213</td>\n",
              "    </tr>\n",
              "    <tr>\n",
              "      <th>2020-08-17</th>\n",
              "      <td>0.060847</td>\n",
              "      <td>0.065073</td>\n",
              "      <td>0.052525</td>\n",
              "      <td>0.053999</td>\n",
              "      <td>0.053999</td>\n",
              "      <td>11686493</td>\n",
              "    </tr>\n",
              "    <tr>\n",
              "      <th>2020-08-18</th>\n",
              "      <td>0.053784</td>\n",
              "      <td>0.060990</td>\n",
              "      <td>0.050675</td>\n",
              "      <td>0.051700</td>\n",
              "      <td>0.051700</td>\n",
              "      <td>7401293</td>\n",
              "    </tr>\n",
              "    <tr>\n",
              "      <th>...</th>\n",
              "      <td>...</td>\n",
              "      <td>...</td>\n",
              "      <td>...</td>\n",
              "      <td>...</td>\n",
              "      <td>...</td>\n",
              "      <td>...</td>\n",
              "    </tr>\n",
              "    <tr>\n",
              "      <th>2022-04-13</th>\n",
              "      <td>2.781983</td>\n",
              "      <td>2.886945</td>\n",
              "      <td>2.751847</td>\n",
              "      <td>2.869923</td>\n",
              "      <td>2.869923</td>\n",
              "      <td>321784424</td>\n",
              "    </tr>\n",
              "    <tr>\n",
              "      <th>2022-04-14</th>\n",
              "      <td>2.869366</td>\n",
              "      <td>2.916186</td>\n",
              "      <td>2.714203</td>\n",
              "      <td>2.780882</td>\n",
              "      <td>2.780882</td>\n",
              "      <td>349909147</td>\n",
              "    </tr>\n",
              "    <tr>\n",
              "      <th>2022-04-15</th>\n",
              "      <td>2.781060</td>\n",
              "      <td>2.820187</td>\n",
              "      <td>2.755915</td>\n",
              "      <td>2.803639</td>\n",
              "      <td>2.803639</td>\n",
              "      <td>189256519</td>\n",
              "    </tr>\n",
              "    <tr>\n",
              "      <th>2022-04-16</th>\n",
              "      <td>2.803614</td>\n",
              "      <td>2.901280</td>\n",
              "      <td>2.777383</td>\n",
              "      <td>2.822680</td>\n",
              "      <td>2.822680</td>\n",
              "      <td>234480315</td>\n",
              "    </tr>\n",
              "    <tr>\n",
              "      <th>2022-04-17</th>\n",
              "      <td>2.820111</td>\n",
              "      <td>2.820111</td>\n",
              "      <td>2.781153</td>\n",
              "      <td>2.790278</td>\n",
              "      <td>2.790278</td>\n",
              "      <td>176793328</td>\n",
              "    </tr>\n",
              "  </tbody>\n",
              "</table>\n",
              "<p>612 rows × 6 columns</p>\n",
              "</div>\n",
              "      <button class=\"colab-df-convert\" onclick=\"convertToInteractive('df-f8de9a3c-bbd7-456b-8d87-cd6604cdda10')\"\n",
              "              title=\"Convert this dataframe to an interactive table.\"\n",
              "              style=\"display:none;\">\n",
              "        \n",
              "  <svg xmlns=\"http://www.w3.org/2000/svg\" height=\"24px\"viewBox=\"0 0 24 24\"\n",
              "       width=\"24px\">\n",
              "    <path d=\"M0 0h24v24H0V0z\" fill=\"none\"/>\n",
              "    <path d=\"M18.56 5.44l.94 2.06.94-2.06 2.06-.94-2.06-.94-.94-2.06-.94 2.06-2.06.94zm-11 1L8.5 8.5l.94-2.06 2.06-.94-2.06-.94L8.5 2.5l-.94 2.06-2.06.94zm10 10l.94 2.06.94-2.06 2.06-.94-2.06-.94-.94-2.06-.94 2.06-2.06.94z\"/><path d=\"M17.41 7.96l-1.37-1.37c-.4-.4-.92-.59-1.43-.59-.52 0-1.04.2-1.43.59L10.3 9.45l-7.72 7.72c-.78.78-.78 2.05 0 2.83L4 21.41c.39.39.9.59 1.41.59.51 0 1.02-.2 1.41-.59l7.78-7.78 2.81-2.81c.8-.78.8-2.07 0-2.86zM5.41 20L4 18.59l7.72-7.72 1.47 1.35L5.41 20z\"/>\n",
              "  </svg>\n",
              "      </button>\n",
              "      \n",
              "  <style>\n",
              "    .colab-df-container {\n",
              "      display:flex;\n",
              "      flex-wrap:wrap;\n",
              "      gap: 12px;\n",
              "    }\n",
              "\n",
              "    .colab-df-convert {\n",
              "      background-color: #E8F0FE;\n",
              "      border: none;\n",
              "      border-radius: 50%;\n",
              "      cursor: pointer;\n",
              "      display: none;\n",
              "      fill: #1967D2;\n",
              "      height: 32px;\n",
              "      padding: 0 0 0 0;\n",
              "      width: 32px;\n",
              "    }\n",
              "\n",
              "    .colab-df-convert:hover {\n",
              "      background-color: #E2EBFA;\n",
              "      box-shadow: 0px 1px 2px rgba(60, 64, 67, 0.3), 0px 1px 3px 1px rgba(60, 64, 67, 0.15);\n",
              "      fill: #174EA6;\n",
              "    }\n",
              "\n",
              "    [theme=dark] .colab-df-convert {\n",
              "      background-color: #3B4455;\n",
              "      fill: #D2E3FC;\n",
              "    }\n",
              "\n",
              "    [theme=dark] .colab-df-convert:hover {\n",
              "      background-color: #434B5C;\n",
              "      box-shadow: 0px 1px 3px 1px rgba(0, 0, 0, 0.15);\n",
              "      filter: drop-shadow(0px 1px 2px rgba(0, 0, 0, 0.3));\n",
              "      fill: #FFFFFF;\n",
              "    }\n",
              "  </style>\n",
              "\n",
              "      <script>\n",
              "        const buttonEl =\n",
              "          document.querySelector('#df-f8de9a3c-bbd7-456b-8d87-cd6604cdda10 button.colab-df-convert');\n",
              "        buttonEl.style.display =\n",
              "          google.colab.kernel.accessAllowed ? 'block' : 'none';\n",
              "\n",
              "        async function convertToInteractive(key) {\n",
              "          const element = document.querySelector('#df-f8de9a3c-bbd7-456b-8d87-cd6604cdda10');\n",
              "          const dataTable =\n",
              "            await google.colab.kernel.invokeFunction('convertToInteractive',\n",
              "                                                     [key], {});\n",
              "          if (!dataTable) return;\n",
              "\n",
              "          const docLinkHtml = 'Like what you see? Visit the ' +\n",
              "            '<a target=\"_blank\" href=https://colab.research.google.com/notebooks/data_table.ipynb>data table notebook</a>'\n",
              "            + ' to learn more about interactive tables.';\n",
              "          element.innerHTML = '';\n",
              "          dataTable['output_type'] = 'display_data';\n",
              "          await google.colab.output.renderOutput(dataTable, element);\n",
              "          const docLink = document.createElement('div');\n",
              "          docLink.innerHTML = docLinkHtml;\n",
              "          element.appendChild(docLink);\n",
              "        }\n",
              "      </script>\n",
              "    </div>\n",
              "  </div>\n",
              "  "
            ]
          },
          "metadata": {},
          "execution_count": 109
        }
      ]
    },
    {
      "cell_type": "code",
      "source": [
        "pip install ta"
      ],
      "metadata": {
        "colab": {
          "base_uri": "https://localhost:8080/"
        },
        "id": "S57AF3sI33hR",
        "outputId": "29801dac-921e-47be-e3d8-62e44601be7e"
      },
      "execution_count": 110,
      "outputs": [
        {
          "output_type": "stream",
          "name": "stdout",
          "text": [
            "Looking in indexes: https://pypi.org/simple, https://us-python.pkg.dev/colab-wheels/public/simple/\n",
            "Requirement already satisfied: ta in /usr/local/lib/python3.7/dist-packages (0.10.1)\n",
            "Requirement already satisfied: numpy in /usr/local/lib/python3.7/dist-packages (from ta) (1.21.6)\n",
            "Requirement already satisfied: pandas in /usr/local/lib/python3.7/dist-packages (from ta) (1.3.5)\n",
            "Requirement already satisfied: pytz>=2017.3 in /usr/local/lib/python3.7/dist-packages (from pandas->ta) (2022.1)\n",
            "Requirement already satisfied: python-dateutil>=2.7.3 in /usr/local/lib/python3.7/dist-packages (from pandas->ta) (2.8.2)\n",
            "Requirement already satisfied: six>=1.5 in /usr/local/lib/python3.7/dist-packages (from python-dateutil>=2.7.3->pandas->ta) (1.15.0)\n"
          ]
        }
      ]
    },
    {
      "cell_type": "code",
      "source": [
        "\n",
        "import pandas as pd\n",
        "import ta\n",
        "from ta import add_all_ta_features\n",
        "from ta.utils import dropna"
      ],
      "metadata": {
        "id": "zoZgnQqj3qGw"
      },
      "execution_count": 111,
      "outputs": []
    },
    {
      "cell_type": "code",
      "source": [
        "def applytechnicals(df):\n",
        "  for i in range (2,10,4):\n",
        "    df['rsi_'+str(i)]=ta.momentum.rsi(df.Close,window=i)\n",
        "    df['SMA_'+str(i)]=df.Close.rolling(i*10).mean()\n",
        "  df['macd']  =ta.trend.macd_diff(df.Close)\n",
        "  df.dropna(inplace= True)"
      ],
      "metadata": {
        "id": "8RIbvddQ3SEY"
      },
      "execution_count": 112,
      "outputs": []
    },
    {
      "cell_type": "code",
      "source": [
        "df"
      ],
      "metadata": {
        "colab": {
          "base_uri": "https://localhost:8080/",
          "height": 455
        },
        "id": "_nb8Um8m4kCX",
        "outputId": "22eb4457-4bc4-4587-f8c1-8b10407209ad"
      },
      "execution_count": 113,
      "outputs": [
        {
          "output_type": "execute_result",
          "data": {
            "text/plain": [
              "                Open      High       Low     Close  Adj Close     Volume\n",
              "Date                                                                    \n",
              "2020-08-14  0.086577  0.086577  0.059597  0.065645   0.065645  118988161\n",
              "2020-08-15  0.066077  0.069509  0.048985  0.050964   0.050964   36213441\n",
              "2020-08-16  0.051438  0.069508  0.048064  0.060847   0.060847   33023213\n",
              "2020-08-17  0.060847  0.065073  0.052525  0.053999   0.053999   11686493\n",
              "2020-08-18  0.053784  0.060990  0.050675  0.051700   0.051700    7401293\n",
              "...              ...       ...       ...       ...        ...        ...\n",
              "2022-04-13  2.781983  2.886945  2.751847  2.869923   2.869923  321784424\n",
              "2022-04-14  2.869366  2.916186  2.714203  2.780882   2.780882  349909147\n",
              "2022-04-15  2.781060  2.820187  2.755915  2.803639   2.803639  189256519\n",
              "2022-04-16  2.803614  2.901280  2.777383  2.822680   2.822680  234480315\n",
              "2022-04-17  2.820111  2.820111  2.781153  2.790278   2.790278  176793328\n",
              "\n",
              "[612 rows x 6 columns]"
            ],
            "text/html": [
              "\n",
              "  <div id=\"df-b32d5ba7-8186-4a91-a9e2-1daa34978395\">\n",
              "    <div class=\"colab-df-container\">\n",
              "      <div>\n",
              "<style scoped>\n",
              "    .dataframe tbody tr th:only-of-type {\n",
              "        vertical-align: middle;\n",
              "    }\n",
              "\n",
              "    .dataframe tbody tr th {\n",
              "        vertical-align: top;\n",
              "    }\n",
              "\n",
              "    .dataframe thead th {\n",
              "        text-align: right;\n",
              "    }\n",
              "</style>\n",
              "<table border=\"1\" class=\"dataframe\">\n",
              "  <thead>\n",
              "    <tr style=\"text-align: right;\">\n",
              "      <th></th>\n",
              "      <th>Open</th>\n",
              "      <th>High</th>\n",
              "      <th>Low</th>\n",
              "      <th>Close</th>\n",
              "      <th>Adj Close</th>\n",
              "      <th>Volume</th>\n",
              "    </tr>\n",
              "    <tr>\n",
              "      <th>Date</th>\n",
              "      <th></th>\n",
              "      <th></th>\n",
              "      <th></th>\n",
              "      <th></th>\n",
              "      <th></th>\n",
              "      <th></th>\n",
              "    </tr>\n",
              "  </thead>\n",
              "  <tbody>\n",
              "    <tr>\n",
              "      <th>2020-08-14</th>\n",
              "      <td>0.086577</td>\n",
              "      <td>0.086577</td>\n",
              "      <td>0.059597</td>\n",
              "      <td>0.065645</td>\n",
              "      <td>0.065645</td>\n",
              "      <td>118988161</td>\n",
              "    </tr>\n",
              "    <tr>\n",
              "      <th>2020-08-15</th>\n",
              "      <td>0.066077</td>\n",
              "      <td>0.069509</td>\n",
              "      <td>0.048985</td>\n",
              "      <td>0.050964</td>\n",
              "      <td>0.050964</td>\n",
              "      <td>36213441</td>\n",
              "    </tr>\n",
              "    <tr>\n",
              "      <th>2020-08-16</th>\n",
              "      <td>0.051438</td>\n",
              "      <td>0.069508</td>\n",
              "      <td>0.048064</td>\n",
              "      <td>0.060847</td>\n",
              "      <td>0.060847</td>\n",
              "      <td>33023213</td>\n",
              "    </tr>\n",
              "    <tr>\n",
              "      <th>2020-08-17</th>\n",
              "      <td>0.060847</td>\n",
              "      <td>0.065073</td>\n",
              "      <td>0.052525</td>\n",
              "      <td>0.053999</td>\n",
              "      <td>0.053999</td>\n",
              "      <td>11686493</td>\n",
              "    </tr>\n",
              "    <tr>\n",
              "      <th>2020-08-18</th>\n",
              "      <td>0.053784</td>\n",
              "      <td>0.060990</td>\n",
              "      <td>0.050675</td>\n",
              "      <td>0.051700</td>\n",
              "      <td>0.051700</td>\n",
              "      <td>7401293</td>\n",
              "    </tr>\n",
              "    <tr>\n",
              "      <th>...</th>\n",
              "      <td>...</td>\n",
              "      <td>...</td>\n",
              "      <td>...</td>\n",
              "      <td>...</td>\n",
              "      <td>...</td>\n",
              "      <td>...</td>\n",
              "    </tr>\n",
              "    <tr>\n",
              "      <th>2022-04-13</th>\n",
              "      <td>2.781983</td>\n",
              "      <td>2.886945</td>\n",
              "      <td>2.751847</td>\n",
              "      <td>2.869923</td>\n",
              "      <td>2.869923</td>\n",
              "      <td>321784424</td>\n",
              "    </tr>\n",
              "    <tr>\n",
              "      <th>2022-04-14</th>\n",
              "      <td>2.869366</td>\n",
              "      <td>2.916186</td>\n",
              "      <td>2.714203</td>\n",
              "      <td>2.780882</td>\n",
              "      <td>2.780882</td>\n",
              "      <td>349909147</td>\n",
              "    </tr>\n",
              "    <tr>\n",
              "      <th>2022-04-15</th>\n",
              "      <td>2.781060</td>\n",
              "      <td>2.820187</td>\n",
              "      <td>2.755915</td>\n",
              "      <td>2.803639</td>\n",
              "      <td>2.803639</td>\n",
              "      <td>189256519</td>\n",
              "    </tr>\n",
              "    <tr>\n",
              "      <th>2022-04-16</th>\n",
              "      <td>2.803614</td>\n",
              "      <td>2.901280</td>\n",
              "      <td>2.777383</td>\n",
              "      <td>2.822680</td>\n",
              "      <td>2.822680</td>\n",
              "      <td>234480315</td>\n",
              "    </tr>\n",
              "    <tr>\n",
              "      <th>2022-04-17</th>\n",
              "      <td>2.820111</td>\n",
              "      <td>2.820111</td>\n",
              "      <td>2.781153</td>\n",
              "      <td>2.790278</td>\n",
              "      <td>2.790278</td>\n",
              "      <td>176793328</td>\n",
              "    </tr>\n",
              "  </tbody>\n",
              "</table>\n",
              "<p>612 rows × 6 columns</p>\n",
              "</div>\n",
              "      <button class=\"colab-df-convert\" onclick=\"convertToInteractive('df-b32d5ba7-8186-4a91-a9e2-1daa34978395')\"\n",
              "              title=\"Convert this dataframe to an interactive table.\"\n",
              "              style=\"display:none;\">\n",
              "        \n",
              "  <svg xmlns=\"http://www.w3.org/2000/svg\" height=\"24px\"viewBox=\"0 0 24 24\"\n",
              "       width=\"24px\">\n",
              "    <path d=\"M0 0h24v24H0V0z\" fill=\"none\"/>\n",
              "    <path d=\"M18.56 5.44l.94 2.06.94-2.06 2.06-.94-2.06-.94-.94-2.06-.94 2.06-2.06.94zm-11 1L8.5 8.5l.94-2.06 2.06-.94-2.06-.94L8.5 2.5l-.94 2.06-2.06.94zm10 10l.94 2.06.94-2.06 2.06-.94-2.06-.94-.94-2.06-.94 2.06-2.06.94z\"/><path d=\"M17.41 7.96l-1.37-1.37c-.4-.4-.92-.59-1.43-.59-.52 0-1.04.2-1.43.59L10.3 9.45l-7.72 7.72c-.78.78-.78 2.05 0 2.83L4 21.41c.39.39.9.59 1.41.59.51 0 1.02-.2 1.41-.59l7.78-7.78 2.81-2.81c.8-.78.8-2.07 0-2.86zM5.41 20L4 18.59l7.72-7.72 1.47 1.35L5.41 20z\"/>\n",
              "  </svg>\n",
              "      </button>\n",
              "      \n",
              "  <style>\n",
              "    .colab-df-container {\n",
              "      display:flex;\n",
              "      flex-wrap:wrap;\n",
              "      gap: 12px;\n",
              "    }\n",
              "\n",
              "    .colab-df-convert {\n",
              "      background-color: #E8F0FE;\n",
              "      border: none;\n",
              "      border-radius: 50%;\n",
              "      cursor: pointer;\n",
              "      display: none;\n",
              "      fill: #1967D2;\n",
              "      height: 32px;\n",
              "      padding: 0 0 0 0;\n",
              "      width: 32px;\n",
              "    }\n",
              "\n",
              "    .colab-df-convert:hover {\n",
              "      background-color: #E2EBFA;\n",
              "      box-shadow: 0px 1px 2px rgba(60, 64, 67, 0.3), 0px 1px 3px 1px rgba(60, 64, 67, 0.15);\n",
              "      fill: #174EA6;\n",
              "    }\n",
              "\n",
              "    [theme=dark] .colab-df-convert {\n",
              "      background-color: #3B4455;\n",
              "      fill: #D2E3FC;\n",
              "    }\n",
              "\n",
              "    [theme=dark] .colab-df-convert:hover {\n",
              "      background-color: #434B5C;\n",
              "      box-shadow: 0px 1px 3px 1px rgba(0, 0, 0, 0.15);\n",
              "      filter: drop-shadow(0px 1px 2px rgba(0, 0, 0, 0.3));\n",
              "      fill: #FFFFFF;\n",
              "    }\n",
              "  </style>\n",
              "\n",
              "      <script>\n",
              "        const buttonEl =\n",
              "          document.querySelector('#df-b32d5ba7-8186-4a91-a9e2-1daa34978395 button.colab-df-convert');\n",
              "        buttonEl.style.display =\n",
              "          google.colab.kernel.accessAllowed ? 'block' : 'none';\n",
              "\n",
              "        async function convertToInteractive(key) {\n",
              "          const element = document.querySelector('#df-b32d5ba7-8186-4a91-a9e2-1daa34978395');\n",
              "          const dataTable =\n",
              "            await google.colab.kernel.invokeFunction('convertToInteractive',\n",
              "                                                     [key], {});\n",
              "          if (!dataTable) return;\n",
              "\n",
              "          const docLinkHtml = 'Like what you see? Visit the ' +\n",
              "            '<a target=\"_blank\" href=https://colab.research.google.com/notebooks/data_table.ipynb>data table notebook</a>'\n",
              "            + ' to learn more about interactive tables.';\n",
              "          element.innerHTML = '';\n",
              "          dataTable['output_type'] = 'display_data';\n",
              "          await google.colab.output.renderOutput(dataTable, element);\n",
              "          const docLink = document.createElement('div');\n",
              "          docLink.innerHTML = docLinkHtml;\n",
              "          element.appendChild(docLink);\n",
              "        }\n",
              "      </script>\n",
              "    </div>\n",
              "  </div>\n",
              "  "
            ]
          },
          "metadata": {},
          "execution_count": 113
        }
      ]
    },
    {
      "cell_type": "code",
      "source": [
        "applytechnicals(df)\n",
        "df"
      ],
      "metadata": {
        "colab": {
          "base_uri": "https://localhost:8080/",
          "height": 455
        },
        "id": "OpPtEdFE4tVk",
        "outputId": "4d0d9095-7740-46b7-a669-13b0d46d5956"
      },
      "execution_count": 114,
      "outputs": [
        {
          "output_type": "execute_result",
          "data": {
            "text/plain": [
              "                Open      High       Low     Close  Adj Close     Volume  \\\n",
              "Date                                                                       \n",
              "2020-10-12  0.048891  0.050484  0.046535  0.047589   0.047589    9049431   \n",
              "2020-10-13  0.047421  0.049109  0.045674  0.046522   0.046522    7175418   \n",
              "2020-10-14  0.046483  0.046989  0.045195  0.045895   0.045895    4333146   \n",
              "2020-10-15  0.045956  0.046236  0.044238  0.045027   0.045027    3469517   \n",
              "2020-10-16  0.045025  0.045025  0.041341  0.043696   0.043696    6499827   \n",
              "...              ...       ...       ...       ...        ...        ...   \n",
              "2022-04-13  2.781983  2.886945  2.751847  2.869923   2.869923  321784424   \n",
              "2022-04-14  2.869366  2.916186  2.714203  2.780882   2.780882  349909147   \n",
              "2022-04-15  2.781060  2.820187  2.755915  2.803639   2.803639  189256519   \n",
              "2022-04-16  2.803614  2.901280  2.777383  2.822680   2.822680  234480315   \n",
              "2022-04-17  2.820111  2.820111  2.781153  2.790278   2.790278  176793328   \n",
              "\n",
              "                rsi_2     SMA_2      rsi_6     SMA_6      macd  \n",
              "Date                                                            \n",
              "2020-10-12  45.692130  0.045914  52.276238  0.049379  0.000584  \n",
              "2020-10-13  30.796000  0.046106  48.313257  0.049060  0.000434  \n",
              "2020-10-14  22.265172  0.046012  45.861645  0.048975  0.000280  \n",
              "2020-10-15  12.600755  0.045829  42.296152  0.048712  0.000116  \n",
              "2020-10-16   5.405304  0.045687  37.002657  0.048540 -0.000076  \n",
              "...               ...       ...        ...       ...       ...  \n",
              "2022-04-13  65.808704  3.234065  40.737599  3.209165 -0.066120  \n",
              "2022-04-14  37.201068  3.204703  35.951236  3.187497 -0.060530  \n",
              "2022-04-15  48.618327  3.175205  38.178917  3.167078 -0.051785  \n",
              "2022-04-16  60.604085  3.137671  40.264980  3.140819 -0.041642  \n",
              "2022-04-17  33.783303  3.104057  37.669353  3.117694 -0.034341  \n",
              "\n",
              "[553 rows x 11 columns]"
            ],
            "text/html": [
              "\n",
              "  <div id=\"df-99ebac93-3bdf-45d3-bd52-fe45ef265729\">\n",
              "    <div class=\"colab-df-container\">\n",
              "      <div>\n",
              "<style scoped>\n",
              "    .dataframe tbody tr th:only-of-type {\n",
              "        vertical-align: middle;\n",
              "    }\n",
              "\n",
              "    .dataframe tbody tr th {\n",
              "        vertical-align: top;\n",
              "    }\n",
              "\n",
              "    .dataframe thead th {\n",
              "        text-align: right;\n",
              "    }\n",
              "</style>\n",
              "<table border=\"1\" class=\"dataframe\">\n",
              "  <thead>\n",
              "    <tr style=\"text-align: right;\">\n",
              "      <th></th>\n",
              "      <th>Open</th>\n",
              "      <th>High</th>\n",
              "      <th>Low</th>\n",
              "      <th>Close</th>\n",
              "      <th>Adj Close</th>\n",
              "      <th>Volume</th>\n",
              "      <th>rsi_2</th>\n",
              "      <th>SMA_2</th>\n",
              "      <th>rsi_6</th>\n",
              "      <th>SMA_6</th>\n",
              "      <th>macd</th>\n",
              "    </tr>\n",
              "    <tr>\n",
              "      <th>Date</th>\n",
              "      <th></th>\n",
              "      <th></th>\n",
              "      <th></th>\n",
              "      <th></th>\n",
              "      <th></th>\n",
              "      <th></th>\n",
              "      <th></th>\n",
              "      <th></th>\n",
              "      <th></th>\n",
              "      <th></th>\n",
              "      <th></th>\n",
              "    </tr>\n",
              "  </thead>\n",
              "  <tbody>\n",
              "    <tr>\n",
              "      <th>2020-10-12</th>\n",
              "      <td>0.048891</td>\n",
              "      <td>0.050484</td>\n",
              "      <td>0.046535</td>\n",
              "      <td>0.047589</td>\n",
              "      <td>0.047589</td>\n",
              "      <td>9049431</td>\n",
              "      <td>45.692130</td>\n",
              "      <td>0.045914</td>\n",
              "      <td>52.276238</td>\n",
              "      <td>0.049379</td>\n",
              "      <td>0.000584</td>\n",
              "    </tr>\n",
              "    <tr>\n",
              "      <th>2020-10-13</th>\n",
              "      <td>0.047421</td>\n",
              "      <td>0.049109</td>\n",
              "      <td>0.045674</td>\n",
              "      <td>0.046522</td>\n",
              "      <td>0.046522</td>\n",
              "      <td>7175418</td>\n",
              "      <td>30.796000</td>\n",
              "      <td>0.046106</td>\n",
              "      <td>48.313257</td>\n",
              "      <td>0.049060</td>\n",
              "      <td>0.000434</td>\n",
              "    </tr>\n",
              "    <tr>\n",
              "      <th>2020-10-14</th>\n",
              "      <td>0.046483</td>\n",
              "      <td>0.046989</td>\n",
              "      <td>0.045195</td>\n",
              "      <td>0.045895</td>\n",
              "      <td>0.045895</td>\n",
              "      <td>4333146</td>\n",
              "      <td>22.265172</td>\n",
              "      <td>0.046012</td>\n",
              "      <td>45.861645</td>\n",
              "      <td>0.048975</td>\n",
              "      <td>0.000280</td>\n",
              "    </tr>\n",
              "    <tr>\n",
              "      <th>2020-10-15</th>\n",
              "      <td>0.045956</td>\n",
              "      <td>0.046236</td>\n",
              "      <td>0.044238</td>\n",
              "      <td>0.045027</td>\n",
              "      <td>0.045027</td>\n",
              "      <td>3469517</td>\n",
              "      <td>12.600755</td>\n",
              "      <td>0.045829</td>\n",
              "      <td>42.296152</td>\n",
              "      <td>0.048712</td>\n",
              "      <td>0.000116</td>\n",
              "    </tr>\n",
              "    <tr>\n",
              "      <th>2020-10-16</th>\n",
              "      <td>0.045025</td>\n",
              "      <td>0.045025</td>\n",
              "      <td>0.041341</td>\n",
              "      <td>0.043696</td>\n",
              "      <td>0.043696</td>\n",
              "      <td>6499827</td>\n",
              "      <td>5.405304</td>\n",
              "      <td>0.045687</td>\n",
              "      <td>37.002657</td>\n",
              "      <td>0.048540</td>\n",
              "      <td>-0.000076</td>\n",
              "    </tr>\n",
              "    <tr>\n",
              "      <th>...</th>\n",
              "      <td>...</td>\n",
              "      <td>...</td>\n",
              "      <td>...</td>\n",
              "      <td>...</td>\n",
              "      <td>...</td>\n",
              "      <td>...</td>\n",
              "      <td>...</td>\n",
              "      <td>...</td>\n",
              "      <td>...</td>\n",
              "      <td>...</td>\n",
              "      <td>...</td>\n",
              "    </tr>\n",
              "    <tr>\n",
              "      <th>2022-04-13</th>\n",
              "      <td>2.781983</td>\n",
              "      <td>2.886945</td>\n",
              "      <td>2.751847</td>\n",
              "      <td>2.869923</td>\n",
              "      <td>2.869923</td>\n",
              "      <td>321784424</td>\n",
              "      <td>65.808704</td>\n",
              "      <td>3.234065</td>\n",
              "      <td>40.737599</td>\n",
              "      <td>3.209165</td>\n",
              "      <td>-0.066120</td>\n",
              "    </tr>\n",
              "    <tr>\n",
              "      <th>2022-04-14</th>\n",
              "      <td>2.869366</td>\n",
              "      <td>2.916186</td>\n",
              "      <td>2.714203</td>\n",
              "      <td>2.780882</td>\n",
              "      <td>2.780882</td>\n",
              "      <td>349909147</td>\n",
              "      <td>37.201068</td>\n",
              "      <td>3.204703</td>\n",
              "      <td>35.951236</td>\n",
              "      <td>3.187497</td>\n",
              "      <td>-0.060530</td>\n",
              "    </tr>\n",
              "    <tr>\n",
              "      <th>2022-04-15</th>\n",
              "      <td>2.781060</td>\n",
              "      <td>2.820187</td>\n",
              "      <td>2.755915</td>\n",
              "      <td>2.803639</td>\n",
              "      <td>2.803639</td>\n",
              "      <td>189256519</td>\n",
              "      <td>48.618327</td>\n",
              "      <td>3.175205</td>\n",
              "      <td>38.178917</td>\n",
              "      <td>3.167078</td>\n",
              "      <td>-0.051785</td>\n",
              "    </tr>\n",
              "    <tr>\n",
              "      <th>2022-04-16</th>\n",
              "      <td>2.803614</td>\n",
              "      <td>2.901280</td>\n",
              "      <td>2.777383</td>\n",
              "      <td>2.822680</td>\n",
              "      <td>2.822680</td>\n",
              "      <td>234480315</td>\n",
              "      <td>60.604085</td>\n",
              "      <td>3.137671</td>\n",
              "      <td>40.264980</td>\n",
              "      <td>3.140819</td>\n",
              "      <td>-0.041642</td>\n",
              "    </tr>\n",
              "    <tr>\n",
              "      <th>2022-04-17</th>\n",
              "      <td>2.820111</td>\n",
              "      <td>2.820111</td>\n",
              "      <td>2.781153</td>\n",
              "      <td>2.790278</td>\n",
              "      <td>2.790278</td>\n",
              "      <td>176793328</td>\n",
              "      <td>33.783303</td>\n",
              "      <td>3.104057</td>\n",
              "      <td>37.669353</td>\n",
              "      <td>3.117694</td>\n",
              "      <td>-0.034341</td>\n",
              "    </tr>\n",
              "  </tbody>\n",
              "</table>\n",
              "<p>553 rows × 11 columns</p>\n",
              "</div>\n",
              "      <button class=\"colab-df-convert\" onclick=\"convertToInteractive('df-99ebac93-3bdf-45d3-bd52-fe45ef265729')\"\n",
              "              title=\"Convert this dataframe to an interactive table.\"\n",
              "              style=\"display:none;\">\n",
              "        \n",
              "  <svg xmlns=\"http://www.w3.org/2000/svg\" height=\"24px\"viewBox=\"0 0 24 24\"\n",
              "       width=\"24px\">\n",
              "    <path d=\"M0 0h24v24H0V0z\" fill=\"none\"/>\n",
              "    <path d=\"M18.56 5.44l.94 2.06.94-2.06 2.06-.94-2.06-.94-.94-2.06-.94 2.06-2.06.94zm-11 1L8.5 8.5l.94-2.06 2.06-.94-2.06-.94L8.5 2.5l-.94 2.06-2.06.94zm10 10l.94 2.06.94-2.06 2.06-.94-2.06-.94-.94-2.06-.94 2.06-2.06.94z\"/><path d=\"M17.41 7.96l-1.37-1.37c-.4-.4-.92-.59-1.43-.59-.52 0-1.04.2-1.43.59L10.3 9.45l-7.72 7.72c-.78.78-.78 2.05 0 2.83L4 21.41c.39.39.9.59 1.41.59.51 0 1.02-.2 1.41-.59l7.78-7.78 2.81-2.81c.8-.78.8-2.07 0-2.86zM5.41 20L4 18.59l7.72-7.72 1.47 1.35L5.41 20z\"/>\n",
              "  </svg>\n",
              "      </button>\n",
              "      \n",
              "  <style>\n",
              "    .colab-df-container {\n",
              "      display:flex;\n",
              "      flex-wrap:wrap;\n",
              "      gap: 12px;\n",
              "    }\n",
              "\n",
              "    .colab-df-convert {\n",
              "      background-color: #E8F0FE;\n",
              "      border: none;\n",
              "      border-radius: 50%;\n",
              "      cursor: pointer;\n",
              "      display: none;\n",
              "      fill: #1967D2;\n",
              "      height: 32px;\n",
              "      padding: 0 0 0 0;\n",
              "      width: 32px;\n",
              "    }\n",
              "\n",
              "    .colab-df-convert:hover {\n",
              "      background-color: #E2EBFA;\n",
              "      box-shadow: 0px 1px 2px rgba(60, 64, 67, 0.3), 0px 1px 3px 1px rgba(60, 64, 67, 0.15);\n",
              "      fill: #174EA6;\n",
              "    }\n",
              "\n",
              "    [theme=dark] .colab-df-convert {\n",
              "      background-color: #3B4455;\n",
              "      fill: #D2E3FC;\n",
              "    }\n",
              "\n",
              "    [theme=dark] .colab-df-convert:hover {\n",
              "      background-color: #434B5C;\n",
              "      box-shadow: 0px 1px 3px 1px rgba(0, 0, 0, 0.15);\n",
              "      filter: drop-shadow(0px 1px 2px rgba(0, 0, 0, 0.3));\n",
              "      fill: #FFFFFF;\n",
              "    }\n",
              "  </style>\n",
              "\n",
              "      <script>\n",
              "        const buttonEl =\n",
              "          document.querySelector('#df-99ebac93-3bdf-45d3-bd52-fe45ef265729 button.colab-df-convert');\n",
              "        buttonEl.style.display =\n",
              "          google.colab.kernel.accessAllowed ? 'block' : 'none';\n",
              "\n",
              "        async function convertToInteractive(key) {\n",
              "          const element = document.querySelector('#df-99ebac93-3bdf-45d3-bd52-fe45ef265729');\n",
              "          const dataTable =\n",
              "            await google.colab.kernel.invokeFunction('convertToInteractive',\n",
              "                                                     [key], {});\n",
              "          if (!dataTable) return;\n",
              "\n",
              "          const docLinkHtml = 'Like what you see? Visit the ' +\n",
              "            '<a target=\"_blank\" href=https://colab.research.google.com/notebooks/data_table.ipynb>data table notebook</a>'\n",
              "            + ' to learn more about interactive tables.';\n",
              "          element.innerHTML = '';\n",
              "          dataTable['output_type'] = 'display_data';\n",
              "          await google.colab.output.renderOutput(dataTable, element);\n",
              "          const docLink = document.createElement('div');\n",
              "          docLink.innerHTML = docLinkHtml;\n",
              "          element.appendChild(docLink);\n",
              "        }\n",
              "      </script>\n",
              "    </div>\n",
              "  </div>\n",
              "  "
            ]
          },
          "metadata": {},
          "execution_count": 114
        }
      ]
    },
    {
      "cell_type": "code",
      "source": [
        "df.columns\n"
      ],
      "metadata": {
        "colab": {
          "base_uri": "https://localhost:8080/"
        },
        "id": "YghRd2FGBAXO",
        "outputId": "b437f3dd-ae28-4007-da17-b88d8b3c0a3a"
      },
      "execution_count": 115,
      "outputs": [
        {
          "output_type": "execute_result",
          "data": {
            "text/plain": [
              "Index(['Open', 'High', 'Low', 'Close', 'Adj Close', 'Volume', 'rsi_2', 'SMA_2',\n",
              "       'rsi_6', 'SMA_6', 'macd'],\n",
              "      dtype='object')"
            ]
          },
          "metadata": {},
          "execution_count": 115
        }
      ]
    },
    {
      "cell_type": "code",
      "source": [
        "def custom_ts_multi_data_prep(dataset, target, start, end, window, horizon):\n",
        "    X = []\n",
        "    y = []\n",
        "    start = start + window\n",
        "    if end is None:\n",
        "        end = len(dataset) - horizon\n",
        "\n",
        "    for i in range(start, end):\n",
        "        indices = range(i-window, i)\n",
        "        X.append(dataset[indices])\n",
        "\n",
        "        indicey = range(i+1, i+1+horizon)\n",
        "        y.append(target[indicey])\n",
        "    return np.array(X), np.array(y)"
      ],
      "metadata": {
        "id": "TMWWf42D5TKJ"
      },
      "execution_count": 116,
      "outputs": []
    },
    {
      "cell_type": "code",
      "source": [
        "X_scaler = MinMaxScaler()\n",
        "Y_scaler = MinMaxScaler()\n",
        "X_data = X_scaler.fit_transform(df[['Open','High',\t'Low'\t,\t'Volume','rsi_2','SMA_2','rsi_6','SMA_6','macd']])\n",
        "Y_data = Y_scaler.fit_transform(df[['Close']])"
      ],
      "metadata": {
        "id": "6gIVprEQ5VM5"
      },
      "execution_count": 117,
      "outputs": []
    },
    {
      "cell_type": "code",
      "source": [
        "hist_window = 20\n",
        "horizon = 10\n",
        "TRAIN_SPLIT = 350\n",
        "x_train, y_train = custom_ts_multi_data_prep(X_data, Y_data, 0, TRAIN_SPLIT, hist_window, horizon)\n",
        "x_vali, y_vali = custom_ts_multi_data_prep(X_data, Y_data, TRAIN_SPLIT, None, hist_window, horizon)"
      ],
      "metadata": {
        "id": "PZUHJe8P5ZD8"
      },
      "execution_count": 118,
      "outputs": []
    },
    {
      "cell_type": "code",
      "source": [
        "x_train"
      ],
      "metadata": {
        "colab": {
          "base_uri": "https://localhost:8080/"
        },
        "id": "hEwy-8nq6FqO",
        "outputId": "499d2f85-9ffd-487e-f34c-828cdfa08ee5"
      },
      "execution_count": 119,
      "outputs": [
        {
          "output_type": "execute_result",
          "data": {
            "text/plain": [
              "array([[[2.40970507e-03, 2.21860599e-03, 2.54364021e-03, ...,\n",
              "         4.87758113e-01, 1.54748855e-03, 4.59140825e-01],\n",
              "        [2.21368567e-03, 2.05511474e-03, 2.41917589e-03, ...,\n",
              "         4.42115373e-01, 1.48936441e-03, 4.58934951e-01],\n",
              "        [2.08860663e-03, 1.80304096e-03, 2.34993267e-03, ...,\n",
              "         4.13879489e-01, 1.47395725e-03, 4.58723850e-01],\n",
              "        ...,\n",
              "        [5.90325069e-04, 8.79047865e-04, 6.15527394e-04, ...,\n",
              "         3.35154815e-01, 7.29474128e-04, 4.57728307e-01],\n",
              "        [8.90621445e-04, 7.99739746e-04, 7.62253628e-04, ...,\n",
              "         2.46489914e-01, 6.24718167e-04, 4.57727676e-01],\n",
              "        [6.53264630e-04, 5.73111147e-04, 8.79490058e-04, ...,\n",
              "         2.40354756e-01, 5.50822130e-04, 4.57773364e-01]],\n",
              "\n",
              "       [[2.21368567e-03, 2.05511474e-03, 2.41917589e-03, ...,\n",
              "         4.42115373e-01, 1.48936441e-03, 4.58934951e-01],\n",
              "        [2.08860663e-03, 1.80304096e-03, 2.34993267e-03, ...,\n",
              "         4.13879489e-01, 1.47395725e-03, 4.58723850e-01],\n",
              "        [2.01833301e-03, 1.71350721e-03, 2.21159079e-03, ...,\n",
              "         3.72814724e-01, 1.42587255e-03, 4.58498536e-01],\n",
              "        ...,\n",
              "        [8.90621445e-04, 7.99739746e-04, 7.62253628e-04, ...,\n",
              "         2.46489914e-01, 6.24718167e-04, 4.57727676e-01],\n",
              "        [6.53264630e-04, 5.73111147e-04, 8.79490058e-04, ...,\n",
              "         2.40354756e-01, 5.50822130e-04, 4.57773364e-01],\n",
              "        [6.35929581e-04, 5.13421978e-04, 8.35833582e-04, ...,\n",
              "         2.40354756e-01, 4.79445829e-04, 4.57858374e-01]],\n",
              "\n",
              "       [[2.08860663e-03, 1.80304096e-03, 2.34993267e-03, ...,\n",
              "         4.13879489e-01, 1.47395725e-03, 4.58723850e-01],\n",
              "        [2.01833301e-03, 1.71350721e-03, 2.21159079e-03, ...,\n",
              "         3.72814724e-01, 1.42587255e-03, 4.58498536e-01],\n",
              "        [1.89418740e-03, 1.56951600e-03, 1.79280666e-03, ...,\n",
              "         3.11848092e-01, 1.39455670e-03, 4.58235174e-01],\n",
              "        ...,\n",
              "        [6.53264630e-04, 5.73111147e-04, 8.79490058e-04, ...,\n",
              "         2.40354756e-01, 5.50822130e-04, 4.57773364e-01],\n",
              "        [6.35929581e-04, 5.13421978e-04, 8.35833582e-04, ...,\n",
              "         2.40354756e-01, 4.79445829e-04, 4.57858374e-01],\n",
              "        [6.35929581e-04, 5.16751254e-04, 7.22933889e-04, ...,\n",
              "         2.24283193e-01, 4.52096514e-04, 4.57942578e-01]],\n",
              "\n",
              "       ...,\n",
              "\n",
              "       [[1.29571886e-01, 1.26173510e-01, 1.36960627e-01, ...,\n",
              "         7.44829213e-01, 1.09965191e-01, 4.94424338e-01],\n",
              "        [1.28550985e-01, 1.16677582e-01, 1.33178126e-01, ...,\n",
              "         6.69867220e-01, 1.11728355e-01, 4.85849611e-01],\n",
              "        [1.26128612e-01, 1.15121740e-01, 1.27621177e-01, ...,\n",
              "         5.89873220e-01, 1.13331782e-01, 4.76358751e-01],\n",
              "        ...,\n",
              "        [8.06747814e-02, 7.87990967e-02, 8.01397007e-02, ...,\n",
              "         1.09495879e-01, 1.26023342e-01, 4.15315415e-01],\n",
              "        [7.57424268e-02, 7.99669593e-02, 8.01798878e-02, ...,\n",
              "         3.83053943e-01, 1.25914261e-01, 4.21599959e-01],\n",
              "        [8.87473134e-02, 8.51715695e-02, 9.55101050e-02, ...,\n",
              "         4.64266229e-01, 1.25859191e-01, 4.30846052e-01]],\n",
              "\n",
              "       [[1.28550985e-01, 1.16677582e-01, 1.33178126e-01, ...,\n",
              "         6.69867220e-01, 1.11728355e-01, 4.85849611e-01],\n",
              "        [1.26128612e-01, 1.15121740e-01, 1.27621177e-01, ...,\n",
              "         5.89873220e-01, 1.13331782e-01, 4.76358751e-01],\n",
              "        [1.23914259e-01, 1.11499487e-01, 8.71156297e-02, ...,\n",
              "         1.81542774e-01, 1.14115390e-01, 4.50025018e-01],\n",
              "        ...,\n",
              "        [7.57424268e-02, 7.99669593e-02, 8.01798878e-02, ...,\n",
              "         3.83053943e-01, 1.25914261e-01, 4.21599959e-01],\n",
              "        [8.87473134e-02, 8.51715695e-02, 9.55101050e-02, ...,\n",
              "         4.64266229e-01, 1.25859191e-01, 4.30846052e-01],\n",
              "        [9.39136912e-02, 8.52650270e-02, 8.64613608e-02, ...,\n",
              "         3.63983316e-01, 1.25923385e-01, 4.33410435e-01]],\n",
              "\n",
              "       [[1.26128612e-01, 1.15121740e-01, 1.27621177e-01, ...,\n",
              "         5.89873220e-01, 1.13331782e-01, 4.76358751e-01],\n",
              "        [1.23914259e-01, 1.11499487e-01, 8.71156297e-02, ...,\n",
              "         1.81542774e-01, 1.14115390e-01, 4.50025018e-01],\n",
              "        [9.60407016e-02, 9.60239404e-02, 9.56047904e-02, ...,\n",
              "         2.90056882e-01, 1.15036656e-01, 4.36716562e-01],\n",
              "        ...,\n",
              "        [8.87473134e-02, 8.51715695e-02, 9.55101050e-02, ...,\n",
              "         4.64266229e-01, 1.25859191e-01, 4.30846052e-01],\n",
              "        [9.39136912e-02, 8.52650270e-02, 8.64613608e-02, ...,\n",
              "         3.63983316e-01, 1.25923385e-01, 4.33410435e-01],\n",
              "        [8.66040347e-02, 7.92409393e-02, 8.99553244e-02, ...,\n",
              "         3.40494131e-01, 1.25896027e-01, 4.35276155e-01]]])"
            ]
          },
          "metadata": {},
          "execution_count": 119
        }
      ]
    },
    {
      "cell_type": "code",
      "source": [
        "print ('Multiple window of past history\\n')\n",
        "print(x_train[0])\n",
        "print ('\\n Target horizon\\n')\n",
        "print (y_train[0])"
      ],
      "metadata": {
        "colab": {
          "base_uri": "https://localhost:8080/"
        },
        "id": "wvfb_2Qs6IM-",
        "outputId": "9ffabc33-834b-47af-e85a-7caad781f7a9"
      },
      "execution_count": 120,
      "outputs": [
        {
          "output_type": "stream",
          "name": "stdout",
          "text": [
            "Multiple window of past history\n",
            "\n",
            "[[2.40970507e-03 2.21860599e-03 2.54364021e-03 5.80760036e-04\n",
            "  4.56912130e-01 1.49922790e-03 4.87758113e-01 1.54748855e-03\n",
            "  4.59140825e-01]\n",
            " [2.21368567e-03 2.05511474e-03 2.41917589e-03 4.11554601e-04\n",
            "  3.07332958e-01 1.53082269e-03 4.42115373e-01 1.48936441e-03\n",
            "  4.58934951e-01]\n",
            " [2.08860663e-03 1.80304096e-03 2.34993267e-03 1.54924649e-04\n",
            "  2.21670824e-01 1.51534165e-03 4.13879489e-01 1.47395725e-03\n",
            "  4.58723850e-01]\n",
            " [2.01833301e-03 1.71350721e-03 2.21159079e-03 7.69472175e-05\n",
            "  1.24625788e-01 1.48528347e-03 3.72814724e-01 1.42587255e-03\n",
            "  4.58498536e-01]\n",
            " [1.89418740e-03 1.56951600e-03 1.79280666e-03 3.50555202e-04\n",
            "  5.23728167e-02 1.46193867e-03 3.11848092e-01 1.39455670e-03\n",
            "  4.58235174e-01]\n",
            " [1.71190270e-03 1.47950664e-03 1.98868256e-03 4.26442590e-05\n",
            "  3.63532223e-02 1.46429698e-03 2.89606359e-01 1.36874536e-03\n",
            "  4.58035905e-01]\n",
            " [1.64616286e-03 1.39330216e-03 1.92449887e-03 9.55751258e-05\n",
            "  2.08543261e-02 1.47142121e-03 2.62387963e-01 1.34002220e-03\n",
            "  4.57881372e-01]\n",
            " [1.57135546e-03 1.42742724e-03 1.71879303e-03 6.54082183e-04\n",
            "  4.83685775e-03 1.45232465e-03 1.90182280e-01 1.30156052e-03\n",
            "  4.57668645e-01]\n",
            " [1.34960019e-03 1.17190528e-03 1.32371638e-03 3.43598324e-04\n",
            "  5.12204406e-04 1.39390101e-03 1.21285399e-01 1.28532965e-03\n",
            "  4.57392850e-01]\n",
            " [1.07650650e-03 9.25182123e-04 1.12971972e-03 4.39729368e-04\n",
            "  0.00000000e+00 1.36169816e-03 1.08597893e-01 1.26236328e-03\n",
            "  4.57239571e-01]\n",
            " [1.01236682e-03 1.16346319e-03 1.36939667e-03 2.98788449e-04\n",
            "  5.93313365e-01 1.35402338e-03 2.76822119e-01 1.25006551e-03\n",
            "  4.57344217e-01]\n",
            " [1.21892059e-03 1.32980811e-03 1.43199022e-03 4.57682355e-04\n",
            "  5.92378950e-01 1.30982355e-03 2.76709254e-01 1.21559771e-03\n",
            "  4.57475111e-01]\n",
            " [1.21865390e-03 1.20246328e-03 1.58363142e-03 4.18572154e-04\n",
            "  8.29455479e-01 1.24859787e-03 3.76686913e-01 1.19357054e-03\n",
            "  4.57694357e-01]\n",
            " [1.33519876e-03 1.08153921e-03 1.38443068e-03 1.71671175e-04\n",
            "  2.90707365e-01 1.15710859e-03 2.78168530e-01 1.13685673e-03\n",
            "  4.57760400e-01]\n",
            " [1.14971375e-03 1.14634120e-03 1.24088472e-03 2.43372429e-04\n",
            "  1.17948798e-01 1.08578408e-03 1.95267736e-01 1.02800354e-03\n",
            "  4.57714600e-01]\n",
            " [9.43426670e-04 8.53483779e-04 1.25794255e-03 6.17964838e-05\n",
            "  1.12366620e-01 1.02550337e-03 1.92055136e-01 9.31314381e-04\n",
            "  4.57732526e-01]\n",
            " [9.34892492e-04 7.14248685e-04 7.79166899e-04 2.79404629e-04\n",
            "  2.20973536e-02 9.26355742e-04 8.95538356e-02 8.18056972e-04\n",
            "  4.57569928e-01]\n",
            " [5.90325069e-04 8.79047865e-04 6.15527394e-04 2.88166142e-04\n",
            "  5.89778101e-01 8.25507167e-04 3.35154815e-01 7.29474128e-04\n",
            "  4.57728307e-01]\n",
            " [8.90621445e-04 7.99739746e-04 7.62253628e-04 3.49591983e-04\n",
            "  3.06992469e-01 7.42547239e-04 2.46489914e-01 6.24718167e-04\n",
            "  4.57727676e-01]\n",
            " [6.53264630e-04 5.73111147e-04 8.79490058e-04 0.00000000e+00\n",
            "  2.86824755e-01 6.33284345e-04 2.40354756e-01 5.50822130e-04\n",
            "  4.57773364e-01]]\n",
            "\n",
            " Target horizon\n",
            "\n",
            "[[0.00053946]\n",
            " [0.        ]\n",
            " [0.00011133]\n",
            " [0.000385  ]\n",
            " [0.00080142]\n",
            " [0.00067181]\n",
            " [0.00085804]\n",
            " [0.00084311]\n",
            " [0.00126957]\n",
            " [0.00141614]]\n"
          ]
        }
      ]
    },
    {
      "cell_type": "code",
      "source": [
        "import pandas as pd\n",
        "import numpy as np\n",
        "import matplotlib.pyplot as plt\n",
        "import plotly.express as px # to plot the time series plot\n",
        "from sklearn import metrics # for the evalution\n",
        "from sklearn.preprocessing import LabelEncoder,MinMaxScaler\n",
        "\n",
        "import tensorflow as tf"
      ],
      "metadata": {
        "id": "DngJy1Zx6Q4_"
      },
      "execution_count": 121,
      "outputs": []
    },
    {
      "cell_type": "code",
      "source": [
        "batch_size = 256\n",
        "buffer_size = 150\n",
        "\n",
        "train_data = tf.data.Dataset.from_tensor_slices((x_train, y_train))\n",
        "train_data = train_data.cache().shuffle(buffer_size).batch(batch_size).repeat()\n",
        "\n",
        "val_data = tf.data.Dataset.from_tensor_slices((x_vali, y_vali))\n",
        "val_data = val_data.batch(batch_size).repeat()"
      ],
      "metadata": {
        "id": "M6Wxgwu_6LWj"
      },
      "execution_count": 122,
      "outputs": []
    },
    {
      "cell_type": "code",
      "source": [
        "x_train.shape"
      ],
      "metadata": {
        "colab": {
          "base_uri": "https://localhost:8080/"
        },
        "id": "cXUY8_FvGvnO",
        "outputId": "581b6e16-104b-4a39-907f-837ee72eb840"
      },
      "execution_count": 123,
      "outputs": [
        {
          "output_type": "execute_result",
          "data": {
            "text/plain": [
              "(330, 20, 9)"
            ]
          },
          "metadata": {},
          "execution_count": 123
        }
      ]
    },
    {
      "cell_type": "code",
      "source": [
        "x_train.shape[-2:]"
      ],
      "metadata": {
        "colab": {
          "base_uri": "https://localhost:8080/"
        },
        "id": "Bq5uVZMmG1uc",
        "outputId": "4d942d63-e85c-4d1c-fb98-4e247946d8e0"
      },
      "execution_count": 124,
      "outputs": [
        {
          "output_type": "execute_result",
          "data": {
            "text/plain": [
              "(20, 9)"
            ]
          },
          "metadata": {},
          "execution_count": 124
        }
      ]
    },
    {
      "cell_type": "code",
      "source": [
        "import tensorflow as tf\n",
        "from tensorflow.keras import layers\n",
        "\n",
        "# Set random seed for as reproducible results as possible\n",
        "tf.random.set_seed(7)\n",
        "\n",
        "lstm_model = tf.keras.models.Sequential([\n",
        "    tf.keras.layers.LSTM(200, return_sequences=True,input_shape=x_train.shape[-2:]), \n",
        "                            \n",
        "    tf.keras.layers.Dense(20, activation='tanh'),\n",
        "    tf.keras.layers.LSTM(150),\n",
        "    tf.keras.layers.Dense(20, activation='tanh'),\n",
        "    tf.keras.layers.Dense(20, activation='tanh'),\n",
        "    tf.keras.layers.Dropout(0.25),\n",
        "    tf.keras.layers.Dense(units=horizon),\n",
        "])\n",
        "lstm_model.compile(optimizer='adam', loss='mse')\n"
      ],
      "metadata": {
        "id": "KrWK-RER6VTY"
      },
      "execution_count": 125,
      "outputs": []
    },
    {
      "cell_type": "code",
      "source": [
        "lstm_model.summary()"
      ],
      "metadata": {
        "colab": {
          "base_uri": "https://localhost:8080/"
        },
        "id": "64KStREQ6Z86",
        "outputId": "933e7680-dfef-499b-f2cf-bb3d3ecd0137"
      },
      "execution_count": 126,
      "outputs": [
        {
          "output_type": "stream",
          "name": "stdout",
          "text": [
            "Model: \"sequential_3\"\n",
            "_________________________________________________________________\n",
            " Layer (type)                Output Shape              Param #   \n",
            "=================================================================\n",
            " lstm_6 (LSTM)               (None, 20, 200)           168000    \n",
            "                                                                 \n",
            " dense_12 (Dense)            (None, 20, 20)            4020      \n",
            "                                                                 \n",
            " lstm_7 (LSTM)               (None, 150)               102600    \n",
            "                                                                 \n",
            " dense_13 (Dense)            (None, 20)                3020      \n",
            "                                                                 \n",
            " dense_14 (Dense)            (None, 20)                420       \n",
            "                                                                 \n",
            " dropout_3 (Dropout)         (None, 20)                0         \n",
            "                                                                 \n",
            " dense_15 (Dense)            (None, 10)                210       \n",
            "                                                                 \n",
            "=================================================================\n",
            "Total params: 278,270\n",
            "Trainable params: 278,270\n",
            "Non-trainable params: 0\n",
            "_________________________________________________________________\n"
          ]
        }
      ]
    },
    {
      "cell_type": "code",
      "source": [
        "model_path = 'Bidirectional_LSTM_Multivariate.h5'\n",
        "early_stopings = tf.keras.callbacks.EarlyStopping(monitor='val_loss', min_delta=0, patience=10, verbose=1, mode='min')\n",
        "checkpoint =  tf.keras.callbacks.ModelCheckpoint(model_path, monitor='val_loss', save_best_only=True, mode='min', verbose=0)\n",
        "callbacks=[early_stopings,checkpoint]"
      ],
      "metadata": {
        "id": "Ag8xpR0d6cX7"
      },
      "execution_count": 127,
      "outputs": []
    },
    {
      "cell_type": "code",
      "source": [
        "history = lstm_model.fit(train_data,epochs=50,steps_per_epoch=100,validation_data=val_data,validation_steps=50,verbose=1,callbacks=callbacks)"
      ],
      "metadata": {
        "colab": {
          "base_uri": "https://localhost:8080/"
        },
        "id": "WERE-w5J6e6a",
        "outputId": "5850a8fa-4751-46c1-87e5-831d5577d80a"
      },
      "execution_count": 128,
      "outputs": [
        {
          "output_type": "stream",
          "name": "stdout",
          "text": [
            "Epoch 1/50\n",
            "100/100 [==============================] - 26s 218ms/step - loss: 6.9937e-04 - val_loss: 0.0611\n",
            "Epoch 2/50\n",
            "100/100 [==============================] - 21s 208ms/step - loss: 2.7556e-04 - val_loss: 0.0853\n",
            "Epoch 3/50\n",
            "100/100 [==============================] - 21s 208ms/step - loss: 2.2561e-04 - val_loss: 0.1328\n",
            "Epoch 4/50\n",
            "100/100 [==============================] - 21s 209ms/step - loss: 1.9988e-04 - val_loss: 0.1797\n",
            "Epoch 5/50\n",
            "100/100 [==============================] - 21s 208ms/step - loss: 1.8334e-04 - val_loss: 0.1763\n",
            "Epoch 6/50\n",
            "100/100 [==============================] - 21s 210ms/step - loss: 1.6837e-04 - val_loss: 0.1912\n",
            "Epoch 7/50\n",
            "100/100 [==============================] - 21s 209ms/step - loss: 1.5759e-04 - val_loss: 0.1876\n",
            "Epoch 8/50\n",
            "100/100 [==============================] - 21s 209ms/step - loss: 1.4955e-04 - val_loss: 0.1768\n",
            "Epoch 9/50\n",
            "100/100 [==============================] - 21s 209ms/step - loss: 1.4224e-04 - val_loss: 0.1720\n",
            "Epoch 10/50\n",
            "100/100 [==============================] - 21s 210ms/step - loss: 1.3679e-04 - val_loss: 0.1581\n",
            "Epoch 11/50\n",
            "100/100 [==============================] - 21s 209ms/step - loss: 1.2690e-04 - val_loss: 0.1454\n",
            "Epoch 11: early stopping\n"
          ]
        }
      ]
    },
    {
      "cell_type": "code",
      "source": [
        "plt.figure(figsize=(16,9))\n",
        "plt.plot(history.history['loss'])\n",
        "plt.plot(history.history['val_loss'])\n",
        "plt.title('Model loss')\n",
        "plt.ylabel('loss')\n",
        "plt.xlabel('epoch')\n",
        "plt.legend(['train loss', 'validation loss'])\n",
        "plt.show()"
      ],
      "metadata": {
        "colab": {
          "base_uri": "https://localhost:8080/",
          "height": 567
        },
        "id": "L2VN4Opw9WQI",
        "outputId": "5b2a7653-c8e6-40e7-a0ea-de1cc529e50f"
      },
      "execution_count": 129,
      "outputs": [
        {
          "output_type": "display_data",
          "data": {
            "text/plain": [
              "<Figure size 1152x648 with 1 Axes>"
            ],
            "image/png": "[encoded data removed]"
          },
          "metadata": {
            "needs_background": "light"
          }
        }
      ]
    },
    {
      "cell_type": "code",
      "source": [
        "df.columns"
      ],
      "metadata": {
        "colab": {
          "base_uri": "https://localhost:8080/"
        },
        "id": "8XoQSf9bAZdo",
        "outputId": "7079f931-a629-4ed1-9c4a-c090c3317a9d"
      },
      "execution_count": 130,
      "outputs": [
        {
          "output_type": "execute_result",
          "data": {
            "text/plain": [
              "Index(['Open', 'High', 'Low', 'Close', 'Adj Close', 'Volume', 'rsi_2', 'SMA_2',\n",
              "       'rsi_6', 'SMA_6', 'macd'],\n",
              "      dtype='object')"
            ]
          },
          "metadata": {},
          "execution_count": 130
        }
      ]
    },
    {
      "cell_type": "code",
      "source": [
        "model_path = 'Bidirectional_LSTM_Multivariate.h5'\n",
        "early_stopings = tf.keras.callbacks.EarlyStopping(monitor='val_loss', min_delta=0, patience=10, verbose=1, mode='min')\n",
        "checkpoint =  tf.keras.callbacks.ModelCheckpoint(model_path, monitor='val_loss', save_best_only=True, mode='min', verbose=0)\n",
        "callbacks=[early_stopings,checkpoint]"
      ],
      "metadata": {
        "id": "GzHjuUMmAVYA"
      },
      "execution_count": 131,
      "outputs": []
    },
    {
      "cell_type": "code",
      "source": [
        "  data_val = X_scaler.fit_transform(df[['Open','High',\t'Low'\t,\t'Volume','rsi_2','SMA_2','rsi_6','SMA_6','macd']].tail(20))\n",
        "  val_rescaled = data_val.reshape(1, data_val.shape[0], data_val.shape[1])"
      ],
      "metadata": {
        "id": "nyxEN0R-AuUw"
      },
      "execution_count": 132,
      "outputs": []
    },
    {
      "cell_type": "code",
      "source": [
        "pred = lstm_model.predict(val_rescaled)\n",
        "pred"
      ],
      "metadata": {
        "colab": {
          "base_uri": "https://localhost:8080/"
        },
        "id": "HBGsqFDiBZBv",
        "outputId": "6392a3b6-1e74-44dc-9473-c18c470fa83c"
      },
      "execution_count": 133,
      "outputs": [
        {
          "output_type": "execute_result",
          "data": {
            "text/plain": [
              "array([[0.19997771, 0.19639172, 0.1949256 , 0.19035882, 0.1877674 ,\n",
              "        0.18413378, 0.18730727, 0.16693671, 0.17149663, 0.17534548]],\n",
              "      dtype=float32)"
            ]
          },
          "metadata": {},
          "execution_count": 133
        }
      ]
    },
    {
      "cell_type": "code",
      "source": [
        "pred_Inverse = Y_scaler.inverse_transform(pred)"
      ],
      "metadata": {
        "id": "-fVjoqg_BamY"
      },
      "execution_count": 134,
      "outputs": []
    },
    {
      "cell_type": "code",
      "source": [
        "pred_Inverse"
      ],
      "metadata": {
        "colab": {
          "base_uri": "https://localhost:8080/"
        },
        "id": "8OuADYtPBcfE",
        "outputId": "7bce7196-5b1c-42b0-f8ee-911b2eb91a0a"
      },
      "execution_count": 135,
      "outputs": [
        {
          "output_type": "execute_result",
          "data": {
            "text/plain": [
              "array([[1.7049083, 1.6748886, 1.6626152, 1.6243849, 1.6026913, 1.5722729,\n",
              "        1.5988393, 1.4283098, 1.4664826, 1.4987028]], dtype=float32)"
            ]
          },
          "metadata": {},
          "execution_count": 135
        }
      ]
    },
    {
      "cell_type": "code",
      "source": [
        "def timeseries_evaluation_metrics_func(y_true, y_pred):\n",
        "    def mean_absolute_percentage_error(y_true, y_pred): \n",
        "        y_true, y_pred = np.array(y_true), np.array(y_pred)\n",
        "        return np.mean(np.abs((y_true - y_pred) / y_true)) * 100\n",
        "    print('Evaluation metric results:-')\n",
        "    print(f'MSE is : {metrics.mean_squared_error(y_true, y_pred)}')\n",
        "    print(f'MAE is : {metrics.mean_absolute_error(y_true, y_pred)}')\n",
        "    print(f'RMSE is : {np.sqrt(metrics.mean_squared_error(y_true, y_pred))}')\n",
        "    print(f'MAPE is : {mean_absolute_percentage_error(y_true, y_pred)}')\n",
        "    print(f'R2 is : {metrics.r2_score(y_true, y_pred)}',end='\\n\\n')"
      ],
      "metadata": {
        "id": "DGhmykYCBeEo"
      },
      "execution_count": 136,
      "outputs": []
    },
    {
      "cell_type": "code",
      "source": [
        "pred_Inverse[0]"
      ],
      "metadata": {
        "colab": {
          "base_uri": "https://localhost:8080/"
        },
        "id": "HosRYnkaBggB",
        "outputId": "514c147c-1779-4e11-ee82-23c947efd7e5"
      },
      "execution_count": 137,
      "outputs": [
        {
          "output_type": "execute_result",
          "data": {
            "text/plain": [
              "array([1.7049083, 1.6748886, 1.6626152, 1.6243849, 1.6026913, 1.5722729,\n",
              "       1.5988393, 1.4283098, 1.4664826, 1.4987028], dtype=float32)"
            ]
          },
          "metadata": {},
          "execution_count": 137
        }
      ]
    },
    {
      "cell_type": "code",
      "source": [
        "validate = (df[['Open','High',\t'Low'\t,\t'Volume','rsi_2','SMA_2','rsi_6','SMA_6','macd','Close']].tail(10))"
      ],
      "metadata": {
        "id": "IdtOLvvuSznt"
      },
      "execution_count": 138,
      "outputs": []
    },
    {
      "cell_type": "code",
      "source": [
        "timeseries_evaluation_metrics_func(validate['Close'],pred_Inverse[0])"
      ],
      "metadata": {
        "colab": {
          "base_uri": "https://localhost:8080/"
        },
        "id": "J54foYj1Bhuo",
        "outputId": "9e210836-d3b9-434c-bd03-459f4eb561a1"
      },
      "execution_count": 139,
      "outputs": [
        {
          "output_type": "stream",
          "name": "stdout",
          "text": [
            "Evaluation metric results:-\n",
            "MSE is : 1.5679270787640331\n",
            "MAE is : 1.2484794402732848\n",
            "RMSE is : 1.2521689497683741\n",
            "MAPE is : 44.069534209604456\n",
            "R2 is : -210.6351138545717\n",
            "\n"
          ]
        }
      ]
    },
    {
      "cell_type": "code",
      "source": [
        "plt.figure(figsize=(16,9))\n",
        "plt.plot( list(validate['Close']))\n",
        "plt.plot( list(pred_Inverse[0]))\n",
        "plt.title(\"Actual vs Predicted\")\n",
        "plt.ylabel(\"Close\")\n",
        "plt.legend(('Actual','predicted'))\n",
        "plt.show()"
      ],
      "metadata": {
        "colab": {
          "base_uri": "https://localhost:8080/",
          "height": 553
        },
        "id": "K6tX6-vXBl7n",
        "outputId": "64fac201-f98d-4e15-e340-44b23eb8a590"
      },
      "execution_count": 140,
      "outputs": [
        {
          "output_type": "display_data",
          "data": {
            "text/plain": [
              "<Figure size 1152x648 with 1 Axes>"
            ],
            "image/png": "[encoded data removed]"
          },
          "metadata": {
            "needs_background": "light"
          }
        }
      ]
    }
  ]
}