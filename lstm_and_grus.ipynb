{
  "nbformat": 4,
  "nbformat_minor": 0,
  "metadata": {
    "colab": {
      "name": "lstm and grus.ipynb",
      "provenance": [],
      "collapsed_sections": [],
      "authorship_tag": "ABX9TyOzE726ensNLlNGiYQ1yZb9",
      "include_colab_link": true
    },
    "kernelspec": {
      "name": "python3",
      "display_name": "Python 3"
    },
    "language_info": {
      "name": "python"
    }
  },
  "cells": [
    {
      "cell_type": "markdown",
      "metadata": {
        "id": "view-in-github",
        "colab_type": "text"
      },
      "source": [
        "<a href=\"https://colab.research.google.com/github/loguansiang/fyp/blob/main/lstm_and_grus.ipynb\" target=\"_parent\"><img src=\"https://colab.research.google.com/assets/colab-badge.svg\" alt=\"Open In Colab\"/></a>"
      ]
    },
    {
      "cell_type": "code",
      "source": [
        "import numpy as np\n",
        "import pandas as pd\n",
        "from keras.models import Sequential\n",
        "from keras.layers import LSTM, Dense, Dropout\n",
        "from keras import optimizers\n",
        "import matplotlib.pyplot as plt\n",
        "from keras.models import load_model\n",
        "from sklearn.preprocessing import MinMaxScaler\n",
        "from sklearn.model_selection import train_test_split\n",
        "import sklearn.metrics as metrics\n",
        "from keras.models import Sequential\n",
        "from keras.layers import LSTM, GRU, Dense, Dropout\n",
        "from keras import optimizers\n"
      ],
      "metadata": {
        "id": "pu0QVgfWNMu_"
      },
      "execution_count": 3,
      "outputs": []
    },
    {
      "cell_type": "code",
      "source": [
        "days_before = 180\n",
        "days_ahead = 10\n",
        "num_period = 20\n",
        "EPOCHS = 50"
      ],
      "metadata": {
        "id": "GuJz1pv2oS-l"
      },
      "execution_count": 4,
      "outputs": []
    },
    {
      "cell_type": "code",
      "source": [
        "url = 'https://raw.githubusercontent.com/loguansiang/fyp/main/SAND%20fyp.csv'\n",
        "df = pd.read_csv(url)\n",
        "df\n"
      ],
      "metadata": {
        "colab": {
          "base_uri": "https://localhost:8080/",
          "height": 424
        },
        "id": "HkrnwMwtobdU",
        "outputId": "fe4ef3af-fabb-472b-9475-f92a2eed5ee2"
      },
      "execution_count": 5,
      "outputs": [
        {
          "output_type": "execute_result",
          "data": {
            "text/plain": [
              "           Date      Open      High       Low     Close  Adj Close     Volume\n",
              "0    2020-08-14  0.086577  0.086577  0.059597  0.065645   0.065645  118988161\n",
              "1    2020-08-15  0.066077  0.069509  0.048985  0.050964   0.050964   36213441\n",
              "2    2020-08-16  0.051438  0.069508  0.048064  0.060847   0.060847   33023213\n",
              "3    2020-08-17  0.060847  0.065073  0.052525  0.053999   0.053999   11686493\n",
              "4    2020-08-18  0.053784  0.060990  0.050675  0.051700   0.051700    7401293\n",
              "..          ...       ...       ...       ...       ...        ...        ...\n",
              "607  2022-04-13  2.781983  2.886945  2.751847  2.869923   2.869923  321784424\n",
              "608  2022-04-14  2.869366  2.916186  2.714203  2.780882   2.780882  349909147\n",
              "609  2022-04-15  2.781060  2.820187  2.755915  2.803639   2.803639  189256519\n",
              "610  2022-04-16  2.803614  2.901280  2.777383  2.822680   2.822680  234480315\n",
              "611  2022-04-17  2.820111  2.820111  2.781153  2.790278   2.790278  176793328\n",
              "\n",
              "[612 rows x 7 columns]"
            ],
            "text/html": [
              "\n",
              "  <div id=\"df-9351f617-c4a3-4f43-a65c-f28080bea7fe\">\n",
              "    <div class=\"colab-df-container\">\n",
              "      <div>\n",
              "<style scoped>\n",
              "    .dataframe tbody tr th:only-of-type {\n",
              "        vertical-align: middle;\n",
              "    }\n",
              "\n",
              "    .dataframe tbody tr th {\n",
              "        vertical-align: top;\n",
              "    }\n",
              "\n",
              "    .dataframe thead th {\n",
              "        text-align: right;\n",
              "    }\n",
              "</style>\n",
              "<table border=\"1\" class=\"dataframe\">\n",
              "  <thead>\n",
              "    <tr style=\"text-align: right;\">\n",
              "      <th></th>\n",
              "      <th>Date</th>\n",
              "      <th>Open</th>\n",
              "      <th>High</th>\n",
              "      <th>Low</th>\n",
              "      <th>Close</th>\n",
              "      <th>Adj Close</th>\n",
              "      <th>Volume</th>\n",
              "    </tr>\n",
              "  </thead>\n",
              "  <tbody>\n",
              "    <tr>\n",
              "      <th>0</th>\n",
              "      <td>2020-08-14</td>\n",
              "      <td>0.086577</td>\n",
              "      <td>0.086577</td>\n",
              "      <td>0.059597</td>\n",
              "      <td>0.065645</td>\n",
              "      <td>0.065645</td>\n",
              "      <td>118988161</td>\n",
              "    </tr>\n",
              "    <tr>\n",
              "      <th>1</th>\n",
              "      <td>2020-08-15</td>\n",
              "      <td>0.066077</td>\n",
              "      <td>0.069509</td>\n",
              "      <td>0.048985</td>\n",
              "      <td>0.050964</td>\n",
              "      <td>0.050964</td>\n",
              "      <td>36213441</td>\n",
              "    </tr>\n",
              "    <tr>\n",
              "      <th>2</th>\n",
              "      <td>2020-08-16</td>\n",
              "      <td>0.051438</td>\n",
              "      <td>0.069508</td>\n",
              "      <td>0.048064</td>\n",
              "      <td>0.060847</td>\n",
              "      <td>0.060847</td>\n",
              "      <td>33023213</td>\n",
              "    </tr>\n",
              "    <tr>\n",
              "      <th>3</th>\n",
              "      <td>2020-08-17</td>\n",
              "      <td>0.060847</td>\n",
              "      <td>0.065073</td>\n",
              "      <td>0.052525</td>\n",
              "      <td>0.053999</td>\n",
              "      <td>0.053999</td>\n",
              "      <td>11686493</td>\n",
              "    </tr>\n",
              "    <tr>\n",
              "      <th>4</th>\n",
              "      <td>2020-08-18</td>\n",
              "      <td>0.053784</td>\n",
              "      <td>0.060990</td>\n",
              "      <td>0.050675</td>\n",
              "      <td>0.051700</td>\n",
              "      <td>0.051700</td>\n",
              "      <td>7401293</td>\n",
              "    </tr>\n",
              "    <tr>\n",
              "      <th>...</th>\n",
              "      <td>...</td>\n",
              "      <td>...</td>\n",
              "      <td>...</td>\n",
              "      <td>...</td>\n",
              "      <td>...</td>\n",
              "      <td>...</td>\n",
              "      <td>...</td>\n",
              "    </tr>\n",
              "    <tr>\n",
              "      <th>607</th>\n",
              "      <td>2022-04-13</td>\n",
              "      <td>2.781983</td>\n",
              "      <td>2.886945</td>\n",
              "      <td>2.751847</td>\n",
              "      <td>2.869923</td>\n",
              "      <td>2.869923</td>\n",
              "      <td>321784424</td>\n",
              "    </tr>\n",
              "    <tr>\n",
              "      <th>608</th>\n",
              "      <td>2022-04-14</td>\n",
              "      <td>2.869366</td>\n",
              "      <td>2.916186</td>\n",
              "      <td>2.714203</td>\n",
              "      <td>2.780882</td>\n",
              "      <td>2.780882</td>\n",
              "      <td>349909147</td>\n",
              "    </tr>\n",
              "    <tr>\n",
              "      <th>609</th>\n",
              "      <td>2022-04-15</td>\n",
              "      <td>2.781060</td>\n",
              "      <td>2.820187</td>\n",
              "      <td>2.755915</td>\n",
              "      <td>2.803639</td>\n",
              "      <td>2.803639</td>\n",
              "      <td>189256519</td>\n",
              "    </tr>\n",
              "    <tr>\n",
              "      <th>610</th>\n",
              "      <td>2022-04-16</td>\n",
              "      <td>2.803614</td>\n",
              "      <td>2.901280</td>\n",
              "      <td>2.777383</td>\n",
              "      <td>2.822680</td>\n",
              "      <td>2.822680</td>\n",
              "      <td>234480315</td>\n",
              "    </tr>\n",
              "    <tr>\n",
              "      <th>611</th>\n",
              "      <td>2022-04-17</td>\n",
              "      <td>2.820111</td>\n",
              "      <td>2.820111</td>\n",
              "      <td>2.781153</td>\n",
              "      <td>2.790278</td>\n",
              "      <td>2.790278</td>\n",
              "      <td>176793328</td>\n",
              "    </tr>\n",
              "  </tbody>\n",
              "</table>\n",
              "<p>612 rows × 7 columns</p>\n",
              "</div>\n",
              "      <button class=\"colab-df-convert\" onclick=\"convertToInteractive('df-9351f617-c4a3-4f43-a65c-f28080bea7fe')\"\n",
              "              title=\"Convert this dataframe to an interactive table.\"\n",
              "              style=\"display:none;\">\n",
              "        \n",
              "  <svg xmlns=\"http://www.w3.org/2000/svg\" height=\"24px\"viewBox=\"0 0 24 24\"\n",
              "       width=\"24px\">\n",
              "    <path d=\"M0 0h24v24H0V0z\" fill=\"none\"/>\n",
              "    <path d=\"M18.56 5.44l.94 2.06.94-2.06 2.06-.94-2.06-.94-.94-2.06-.94 2.06-2.06.94zm-11 1L8.5 8.5l.94-2.06 2.06-.94-2.06-.94L8.5 2.5l-.94 2.06-2.06.94zm10 10l.94 2.06.94-2.06 2.06-.94-2.06-.94-.94-2.06-.94 2.06-2.06.94z\"/><path d=\"M17.41 7.96l-1.37-1.37c-.4-.4-.92-.59-1.43-.59-.52 0-1.04.2-1.43.59L10.3 9.45l-7.72 7.72c-.78.78-.78 2.05 0 2.83L4 21.41c.39.39.9.59 1.41.59.51 0 1.02-.2 1.41-.59l7.78-7.78 2.81-2.81c.8-.78.8-2.07 0-2.86zM5.41 20L4 18.59l7.72-7.72 1.47 1.35L5.41 20z\"/>\n",
              "  </svg>\n",
              "      </button>\n",
              "      \n",
              "  <style>\n",
              "    .colab-df-container {\n",
              "      display:flex;\n",
              "      flex-wrap:wrap;\n",
              "      gap: 12px;\n",
              "    }\n",
              "\n",
              "    .colab-df-convert {\n",
              "      background-color: #E8F0FE;\n",
              "      border: none;\n",
              "      border-radius: 50%;\n",
              "      cursor: pointer;\n",
              "      display: none;\n",
              "      fill: #1967D2;\n",
              "      height: 32px;\n",
              "      padding: 0 0 0 0;\n",
              "      width: 32px;\n",
              "    }\n",
              "\n",
              "    .colab-df-convert:hover {\n",
              "      background-color: #E2EBFA;\n",
              "      box-shadow: 0px 1px 2px rgba(60, 64, 67, 0.3), 0px 1px 3px 1px rgba(60, 64, 67, 0.15);\n",
              "      fill: #174EA6;\n",
              "    }\n",
              "\n",
              "    [theme=dark] .colab-df-convert {\n",
              "      background-color: #3B4455;\n",
              "      fill: #D2E3FC;\n",
              "    }\n",
              "\n",
              "    [theme=dark] .colab-df-convert:hover {\n",
              "      background-color: #434B5C;\n",
              "      box-shadow: 0px 1px 3px 1px rgba(0, 0, 0, 0.15);\n",
              "      filter: drop-shadow(0px 1px 2px rgba(0, 0, 0, 0.3));\n",
              "      fill: #FFFFFF;\n",
              "    }\n",
              "  </style>\n",
              "\n",
              "      <script>\n",
              "        const buttonEl =\n",
              "          document.querySelector('#df-9351f617-c4a3-4f43-a65c-f28080bea7fe button.colab-df-convert');\n",
              "        buttonEl.style.display =\n",
              "          google.colab.kernel.accessAllowed ? 'block' : 'none';\n",
              "\n",
              "        async function convertToInteractive(key) {\n",
              "          const element = document.querySelector('#df-9351f617-c4a3-4f43-a65c-f28080bea7fe');\n",
              "          const dataTable =\n",
              "            await google.colab.kernel.invokeFunction('convertToInteractive',\n",
              "                                                     [key], {});\n",
              "          if (!dataTable) return;\n",
              "\n",
              "          const docLinkHtml = 'Like what you see? Visit the ' +\n",
              "            '<a target=\"_blank\" href=https://colab.research.google.com/notebooks/data_table.ipynb>data table notebook</a>'\n",
              "            + ' to learn more about interactive tables.';\n",
              "          element.innerHTML = '';\n",
              "          dataTable['output_type'] = 'display_data';\n",
              "          await google.colab.output.renderOutput(dataTable, element);\n",
              "          const docLink = document.createElement('div');\n",
              "          docLink.innerHTML = docLinkHtml;\n",
              "          element.appendChild(docLink);\n",
              "        }\n",
              "      </script>\n",
              "    </div>\n",
              "  </div>\n",
              "  "
            ]
          },
          "metadata": {},
          "execution_count": 5
        }
      ]
    },
    {
      "cell_type": "code",
      "source": [
        "df['Date'] = pd.to_datetime(df['Date'])\n",
        "df.set_index('Date', inplace = True)\n"
      ],
      "metadata": {
        "id": "TJfspm54osNk"
      },
      "execution_count": 6,
      "outputs": []
    },
    {
      "cell_type": "code",
      "source": [
        "df = df['Close']"
      ],
      "metadata": {
        "id": "wDz5dFwxsNpF"
      },
      "execution_count": 7,
      "outputs": []
    },
    {
      "cell_type": "code",
      "source": [
        "df"
      ],
      "metadata": {
        "colab": {
          "base_uri": "https://localhost:8080/"
        },
        "id": "m3BNvTQYshlD",
        "outputId": "faf1799e-c99b-45d9-e24e-17dc2b15a4ad"
      },
      "execution_count": 8,
      "outputs": [
        {
          "output_type": "execute_result",
          "data": {
            "text/plain": [
              "Date\n",
              "2020-08-14    0.065645\n",
              "2020-08-15    0.050964\n",
              "2020-08-16    0.060847\n",
              "2020-08-17    0.053999\n",
              "2020-08-18    0.051700\n",
              "                ...   \n",
              "2022-04-13    2.869923\n",
              "2022-04-14    2.780882\n",
              "2022-04-15    2.803639\n",
              "2022-04-16    2.822680\n",
              "2022-04-17    2.790278\n",
              "Name: Close, Length: 612, dtype: float64"
            ]
          },
          "metadata": {},
          "execution_count": 8
        }
      ]
    },
    {
      "cell_type": "code",
      "source": [
        "#Data normalization\n",
        "array = df.values.reshape(df.shape[0],1)\n",
        "scl = MinMaxScaler()\n",
        "array = scl.fit_transform(array)\n"
      ],
      "metadata": {
        "id": "xEs-MxqmsliL"
      },
      "execution_count": 9,
      "outputs": []
    },
    {
      "cell_type": "code",
      "source": [
        "division = len(array) - num_period*days_ahead\n",
        "division\n",
        "\n"
      ],
      "metadata": {
        "colab": {
          "base_uri": "https://localhost:8080/"
        },
        "id": "6e1aIahTsvvy",
        "outputId": "dbe33159-4ff2-467a-db76-5a20ab183484"
      },
      "execution_count": 10,
      "outputs": [
        {
          "output_type": "execute_result",
          "data": {
            "text/plain": [
              "412"
            ]
          },
          "metadata": {},
          "execution_count": 10
        }
      ]
    },
    {
      "cell_type": "code",
      "source": [
        "leftover = division%days_ahead+1\n",
        "leftover\n"
      ],
      "metadata": {
        "colab": {
          "base_uri": "https://localhost:8080/"
        },
        "id": "ucsoVCVPvoCN",
        "outputId": "fe2d1719-77ed-4715-ddc0-6e6445cc0b9d"
      },
      "execution_count": 11,
      "outputs": [
        {
          "output_type": "execute_result",
          "data": {
            "text/plain": [
              "3"
            ]
          },
          "metadata": {},
          "execution_count": 11
        }
      ]
    },
    {
      "cell_type": "code",
      "source": [
        "test = array[division-days_before:]\n",
        "train = array[leftover:division]"
      ],
      "metadata": {
        "id": "aHk--heEvxfk"
      },
      "execution_count": 12,
      "outputs": []
    },
    {
      "cell_type": "code",
      "source": [
        "len(test)"
      ],
      "metadata": {
        "id": "PUa9ITpcy8ZW",
        "colab": {
          "base_uri": "https://localhost:8080/"
        },
        "outputId": "f454e044-cde2-408b-bfdf-119f50f432b3"
      },
      "execution_count": 13,
      "outputs": [
        {
          "output_type": "execute_result",
          "data": {
            "text/plain": [
              "380"
            ]
          },
          "metadata": {},
          "execution_count": 13
        }
      ]
    },
    {
      "cell_type": "code",
      "source": [
        "len(test)\n"
      ],
      "metadata": {
        "colab": {
          "base_uri": "https://localhost:8080/"
        },
        "id": "hkYSNr3vvzAn",
        "outputId": "283ddee6-14fa-410b-8ed8-dbe12af4285c"
      },
      "execution_count": 14,
      "outputs": [
        {
          "output_type": "execute_result",
          "data": {
            "text/plain": [
              "380"
            ]
          },
          "metadata": {},
          "execution_count": 14
        }
      ]
    },
    {
      "cell_type": "code",
      "source": [
        "def processData(data, days_before, days_ahead, jump=1):\n",
        "   x,y = [],[]\n",
        "   for i in range(0,len(data)-days_before-days_ahead+1, jump):\n",
        "      x.append(data[i:(i+days_before)])\n",
        "      y.append(data[(i+days_before):(i+days_before+days_ahead)])\n",
        "   return np.array(x), np.array(y)"
      ],
      "metadata": {
        "id": "aJCAMbwjx2LU"
      },
      "execution_count": 15,
      "outputs": []
    },
    {
      "cell_type": "code",
      "source": [
        "x,Y = processData(train, days_before, days_ahead)\n",
        "y = np.array([list(a.ravel()) for a in Y])"
      ],
      "metadata": {
        "id": "JoGkAMzKx8-O"
      },
      "execution_count": 16,
      "outputs": []
    },
    {
      "cell_type": "code",
      "source": [
        "def lstm_model(days_before, days_ahead):\n",
        "   lstm_model = Sequential()\n",
        "   lstm_model.add(LSTM(256, input_shape=(days_before,1), return_sequences=True))\n",
        "   lstm_model.add(Dropout(0.4))\n",
        "   lstm_model.add(LSTM(128, input_shape=(256,1),return_sequences=True))\n",
        "   lstm_model.add(Dropout(0.4))\n",
        "   lstm_model.add(LSTM(64, input_shape=(128,1), return_sequences=True))\n",
        "   lstm_model.add(LSTM(64, input_shape=(64,1)))\n",
        "   lstm_model.add(Dropout(0.2))\n",
        "   lstm_model.add(Dense(days_ahead, activation='relu'))\n",
        "   lstm_model.compile(loss='mean_squared_error', optimizer='adam')\n",
        "   return lstm_model"
      ],
      "metadata": {
        "id": "On7GFYeIIhLx"
      },
      "execution_count": 17,
      "outputs": []
    },
    {
      "cell_type": "code",
      "source": [
        "print('Creating LSTM model')\n",
        "lstm_model = lstm_model(days_before, days_ahead)"
      ],
      "metadata": {
        "id": "Ii9pfKnOyD-R",
        "colab": {
          "base_uri": "https://localhost:8080/"
        },
        "outputId": "03524de7-8f7a-4350-b11a-4c40b9e408bb"
      },
      "execution_count": 18,
      "outputs": [
        {
          "output_type": "stream",
          "name": "stdout",
          "text": [
            "Creating LSTM model\n"
          ]
        }
      ]
    },
    {
      "cell_type": "code",
      "source": [
        "x_train, x_validate, y_train, y_validate = train_test_split(x, y, test_size = 0.2, random_state=42)"
      ],
      "metadata": {
        "id": "aWa-ibPfDXSg"
      },
      "execution_count": 19,
      "outputs": []
    },
    {
      "cell_type": "code",
      "source": [
        "def train_lstm(lstm_model,x_train, x_validate, y_train, y_validate, EPOCHS):\n",
        "   print('Train on LSTM')\n",
        "   history = lstm_model.fit(x_train, y_train, epochs=EPOCHS, validation_data=(x_validate, y_validate), shuffle=True, batch_size=512, verbose=2)\n",
        "   save_model_lstm = 'model/lstm_model_3.h5'\n",
        "   lstm_model.save(save_model_lstm)\n",
        "   print(\"Model saved to {}\".format(save_model_lstm))\n",
        "   plt.plot(history.history['loss'], label='loss')\n",
        "   plt.plot(history.history['val_loss'], label='val_loss')\n",
        "   plt.legend(loc='best')\n",
        "   plt.savefig('model/lossfig_lstm.png')\n",
        "   state =  'Training LSTM Done'\n",
        "   plt.close()\n",
        "   return state\n",
        "   \n"
      ],
      "metadata": {
        "id": "VOzwIvFPyIVD"
      },
      "execution_count": 20,
      "outputs": []
    },
    {
      "cell_type": "code",
      "source": [
        "state = train_lstm(lstm_model,x_train, x_validate, y_train, y_validate, EPOCHS)\n",
        "print(state)"
      ],
      "metadata": {
        "id": "_1FdcBIqyK6T",
        "colab": {
          "base_uri": "https://localhost:8080/"
        },
        "outputId": "9ee8aadd-39d7-4492-97cd-3dfeb2226d8d"
      },
      "execution_count": 21,
      "outputs": [
        {
          "output_type": "stream",
          "name": "stdout",
          "text": [
            "Train on LSTM\n",
            "Epoch 1/50\n",
            "1/1 - 15s - loss: 0.0041 - val_loss: 0.0030 - 15s/epoch - 15s/step\n",
            "Epoch 2/50\n",
            "1/1 - 4s - loss: 0.0031 - val_loss: 0.0021 - 4s/epoch - 4s/step\n",
            "Epoch 3/50\n",
            "1/1 - 4s - loss: 0.0022 - val_loss: 0.0022 - 4s/epoch - 4s/step\n",
            "Epoch 4/50\n",
            "1/1 - 4s - loss: 0.0022 - val_loss: 0.0018 - 4s/epoch - 4s/step\n",
            "Epoch 5/50\n",
            "1/1 - 4s - loss: 0.0017 - val_loss: 0.0015 - 4s/epoch - 4s/step\n",
            "Epoch 6/50\n",
            "1/1 - 4s - loss: 0.0015 - val_loss: 0.0013 - 4s/epoch - 4s/step\n",
            "Epoch 7/50\n",
            "1/1 - 6s - loss: 0.0014 - val_loss: 0.0013 - 6s/epoch - 6s/step\n",
            "Epoch 8/50\n",
            "1/1 - 4s - loss: 0.0014 - val_loss: 0.0012 - 4s/epoch - 4s/step\n",
            "Epoch 9/50\n",
            "1/1 - 4s - loss: 0.0013 - val_loss: 0.0011 - 4s/epoch - 4s/step\n",
            "Epoch 10/50\n",
            "1/1 - 4s - loss: 0.0012 - val_loss: 0.0010 - 4s/epoch - 4s/step\n",
            "Epoch 11/50\n",
            "1/1 - 5s - loss: 0.0011 - val_loss: 9.7679e-04 - 5s/epoch - 5s/step\n",
            "Epoch 12/50\n",
            "1/1 - 5s - loss: 0.0010 - val_loss: 9.9439e-04 - 5s/epoch - 5s/step\n",
            "Epoch 13/50\n",
            "1/1 - 4s - loss: 0.0010 - val_loss: 0.0010 - 4s/epoch - 4s/step\n",
            "Epoch 14/50\n",
            "1/1 - 4s - loss: 0.0010 - val_loss: 0.0010 - 4s/epoch - 4s/step\n",
            "Epoch 15/50\n",
            "1/1 - 4s - loss: 0.0011 - val_loss: 9.9829e-04 - 4s/epoch - 4s/step\n",
            "Epoch 16/50\n",
            "1/1 - 4s - loss: 0.0010 - val_loss: 9.5479e-04 - 4s/epoch - 4s/step\n",
            "Epoch 17/50\n",
            "1/1 - 4s - loss: 9.7830e-04 - val_loss: 9.1739e-04 - 4s/epoch - 4s/step\n",
            "Epoch 18/50\n",
            "1/1 - 4s - loss: 9.4173e-04 - val_loss: 8.9273e-04 - 4s/epoch - 4s/step\n",
            "Epoch 19/50\n",
            "1/1 - 4s - loss: 8.8977e-04 - val_loss: 8.5075e-04 - 4s/epoch - 4s/step\n",
            "Epoch 20/50\n",
            "1/1 - 4s - loss: 8.4800e-04 - val_loss: 7.4947e-04 - 4s/epoch - 4s/step\n",
            "Epoch 21/50\n",
            "1/1 - 4s - loss: 7.5285e-04 - val_loss: 6.5008e-04 - 4s/epoch - 4s/step\n",
            "Epoch 22/50\n",
            "1/1 - 4s - loss: 6.9199e-04 - val_loss: 5.8134e-04 - 4s/epoch - 4s/step\n",
            "Epoch 23/50\n",
            "1/1 - 4s - loss: 6.2187e-04 - val_loss: 5.4521e-04 - 4s/epoch - 4s/step\n",
            "Epoch 24/50\n",
            "1/1 - 4s - loss: 5.9169e-04 - val_loss: 5.3381e-04 - 4s/epoch - 4s/step\n",
            "Epoch 25/50\n",
            "1/1 - 4s - loss: 5.5829e-04 - val_loss: 5.3797e-04 - 4s/epoch - 4s/step\n",
            "Epoch 26/50\n",
            "1/1 - 4s - loss: 6.2277e-04 - val_loss: 5.1120e-04 - 4s/epoch - 4s/step\n",
            "Epoch 27/50\n",
            "1/1 - 4s - loss: 5.8351e-04 - val_loss: 4.9377e-04 - 4s/epoch - 4s/step\n",
            "Epoch 28/50\n",
            "1/1 - 4s - loss: 5.5646e-04 - val_loss: 4.8722e-04 - 4s/epoch - 4s/step\n",
            "Epoch 29/50\n",
            "1/1 - 4s - loss: 5.4753e-04 - val_loss: 4.8331e-04 - 4s/epoch - 4s/step\n",
            "Epoch 30/50\n",
            "1/1 - 4s - loss: 5.1959e-04 - val_loss: 4.9522e-04 - 4s/epoch - 4s/step\n",
            "Epoch 31/50\n",
            "1/1 - 4s - loss: 5.1546e-04 - val_loss: 4.8069e-04 - 4s/epoch - 4s/step\n",
            "Epoch 32/50\n",
            "1/1 - 4s - loss: 5.0792e-04 - val_loss: 4.6974e-04 - 4s/epoch - 4s/step\n",
            "Epoch 33/50\n",
            "1/1 - 4s - loss: 4.8556e-04 - val_loss: 4.6408e-04 - 4s/epoch - 4s/step\n",
            "Epoch 34/50\n",
            "1/1 - 4s - loss: 4.9098e-04 - val_loss: 4.5843e-04 - 4s/epoch - 4s/step\n",
            "Epoch 35/50\n",
            "1/1 - 4s - loss: 4.7998e-04 - val_loss: 4.5421e-04 - 4s/epoch - 4s/step\n",
            "Epoch 36/50\n",
            "1/1 - 4s - loss: 4.7071e-04 - val_loss: 4.4862e-04 - 4s/epoch - 4s/step\n",
            "Epoch 37/50\n",
            "1/1 - 4s - loss: 4.7182e-04 - val_loss: 4.4226e-04 - 4s/epoch - 4s/step\n",
            "Epoch 38/50\n",
            "1/1 - 4s - loss: 4.5691e-04 - val_loss: 4.3740e-04 - 4s/epoch - 4s/step\n",
            "Epoch 39/50\n",
            "1/1 - 4s - loss: 4.1678e-04 - val_loss: 4.3462e-04 - 4s/epoch - 4s/step\n",
            "Epoch 40/50\n",
            "1/1 - 4s - loss: 4.3998e-04 - val_loss: 4.3146e-04 - 4s/epoch - 4s/step\n",
            "Epoch 41/50\n",
            "1/1 - 4s - loss: 4.2169e-04 - val_loss: 4.2887e-04 - 4s/epoch - 4s/step\n",
            "Epoch 42/50\n",
            "1/1 - 4s - loss: 4.5176e-04 - val_loss: 4.2393e-04 - 4s/epoch - 4s/step\n",
            "Epoch 43/50\n",
            "1/1 - 4s - loss: 4.2626e-04 - val_loss: 4.1405e-04 - 4s/epoch - 4s/step\n",
            "Epoch 44/50\n",
            "1/1 - 4s - loss: 3.9188e-04 - val_loss: 4.0748e-04 - 4s/epoch - 4s/step\n",
            "Epoch 45/50\n",
            "1/1 - 4s - loss: 4.1263e-04 - val_loss: 3.9722e-04 - 4s/epoch - 4s/step\n",
            "Epoch 46/50\n",
            "1/1 - 4s - loss: 3.9106e-04 - val_loss: 3.9199e-04 - 4s/epoch - 4s/step\n",
            "Epoch 47/50\n",
            "1/1 - 4s - loss: 3.7516e-04 - val_loss: 3.8652e-04 - 4s/epoch - 4s/step\n",
            "Epoch 48/50\n",
            "1/1 - 4s - loss: 3.3621e-04 - val_loss: 3.8535e-04 - 4s/epoch - 4s/step\n",
            "Epoch 49/50\n",
            "1/1 - 4s - loss: 3.5652e-04 - val_loss: 3.8557e-04 - 4s/epoch - 4s/step\n",
            "Epoch 50/50\n",
            "1/1 - 4s - loss: 3.5436e-04 - val_loss: 3.8892e-04 - 4s/epoch - 4s/step\n",
            "Model saved to model/lstm_model_3.h5\n",
            "Training LSTM Done\n"
          ]
        }
      ]
    },
    {
      "cell_type": "code",
      "source": [
        "import tensorflow as tf\n",
        "from tensorflow.keras import layers\n",
        "\n",
        "def mean_absolute_scaled_error(ytest, xtest_lstm):\n",
        "  #Implement MASE \n",
        "  mase = tf.reduce_mean(tf.abs(ytest, xtest_lstm))\n",
        "  return mase\n",
        "\n",
        "def predict_lstm(lstm_model, xtest, ytest):\n",
        "   lstm_model = load_model(lstm_model)\n",
        "   xtest_lstm = lstm_model.predict(xtest)\n",
        "   xtest_lstm = xtest_lstm.ravel()\n",
        "   ytest = np.reshape(ytest, (200,1))\n",
        "   xtest_lstm = np.reshape(xtest_lstm, (200,1))\n",
        "   lstm_mse = metrics.mean_squared_error(ytest, xtest_lstm)\n",
        "   lstm_mae = metrics.mean_absolute_error(ytest, xtest_lstm)\n",
        "   lstm_mape = metrics.mean_absolute_percentage_error(ytest, xtest_lstm)\n",
        "   lstm_mase = mean_absolute_scaled_error(ytest, xtest_lstm)\n",
        "   lstm_rmse = tf.sqrt(lstm_mse)\n",
        "   return xtest_lstm, lstm_mse,lstm_mae,lstm_mape,lstm_mase,lstm_rmse"
      ],
      "metadata": {
        "id": "lxWDu6VHFOjb"
      },
      "execution_count": 73,
      "outputs": []
    },
    {
      "cell_type": "code",
      "source": [
        "xtrain, ytrain = processData(train, days_before, days_ahead, days_ahead)\n",
        "xtest, ytest = processData(test, days_before, days_ahead, days_ahead)\n"
      ],
      "metadata": {
        "id": "QdNw93YzFR88"
      },
      "execution_count": 74,
      "outputs": []
    },
    {
      "cell_type": "code",
      "source": [
        "lstm_model = 'model/lstm_model_3.h5'"
      ],
      "metadata": {
        "id": "Sg5FsQ9EFbf-"
      },
      "execution_count": 75,
      "outputs": []
    },
    {
      "cell_type": "code",
      "source": [
        "xtest_lstm, lstm_mse,lstm_mae,lstm_mape,lstm_mase,lstm_rmse= predict_lstm(lstm_model, xtest, ytest)\n",
        "print('LSTM\\nMSE: %f ' %(lstm_mse))\n",
        "print('MAE: %f ' %(lstm_mae))\n",
        "print('MAPE: %f ' %(lstm_mape))\n",
        "print('MASE: %f ' %(lstm_mase))\n",
        "print('RMSE: %f ' %(lstm_rmse))"
      ],
      "metadata": {
        "colab": {
          "base_uri": "https://localhost:8080/"
        },
        "id": "QRRKuU2nFUbP",
        "outputId": "ef366e93-08df-4e03-a621-4fc9fa341bdb"
      },
      "execution_count": 77,
      "outputs": [
        {
          "output_type": "stream",
          "name": "stdout",
          "text": [
            "LSTM\n",
            "MSE: 0.055489 \n",
            "MAE: 0.189446 \n",
            "MAPE: 0.410664 \n",
            "MASE: 0.423108 \n",
            "RMSE: 0.235561 \n"
          ]
        }
      ]
    },
    {
      "cell_type": "code",
      "source": [
        "y = np.concatenate((ytrain, ytest), axis=0)"
      ],
      "metadata": {
        "id": "eFbRag8BFmJz"
      },
      "execution_count": 78,
      "outputs": []
    },
    {
      "cell_type": "code",
      "source": [
        "plt.plot([x for x in range(412,612)], scl.inverse_transform(xtest_lstm.reshape(-1,1)), color='r', label='LSTM')\n",
        "plt.plot(scl.inverse_transform(array), color='b', label='Target')\n",
        "\n",
        "plt.title(' Prediction with LSTM and GRU')\n",
        "plt.xlabel('Date')\n",
        "plt.ylabel('Close Price')\n",
        "\n",
        "plt.legend(loc='best')\n",
        "plt.savefig('model/FigurePredicted.png')\n",
        "plt.show()"
      ],
      "metadata": {
        "colab": {
          "base_uri": "https://localhost:8080/",
          "height": 295
        },
        "id": "dpwfDYxeFome",
        "outputId": "a078b8be-0780-4d20-c81f-2eab53787715"
      },
      "execution_count": 79,
      "outputs": [
        {
          "output_type": "display_data",
          "data": {
            "text/plain": [
              "<Figure size 432x288 with 1 Axes>"
            ],
            "image/png": "[encoded data removed]"
          },
          "metadata": {
            "needs_background": "light"
          }
        }
      ]
    }
  ]
}