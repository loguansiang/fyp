{
  "nbformat": 4,
  "nbformat_minor": 0,
  "metadata": {
    "colab": {
      "name": "grus windowing method .ipynb",
      "provenance": [],
      "authorship_tag": "ABX9TyO2wFa3WeAckjpMhztGWvc/",
      "include_colab_link": true
    },
    "kernelspec": {
      "name": "python3",
      "display_name": "Python 3"
    },
    "language_info": {
      "name": "python"
    }
  },
  "cells": [
    {
      "cell_type": "markdown",
      "metadata": {
        "id": "view-in-github",
        "colab_type": "text"
      },
      "source": [
        "<a href=\"https://colab.research.google.com/github/loguansiang/fyp/blob/main/grus_windowing_method_.ipynb\" target=\"_parent\"><img src=\"https://colab.research.google.com/assets/colab-badge.svg\" alt=\"Open In Colab\"/></a>"
      ]
    },
    {
      "cell_type": "code",
      "execution_count": 55,
      "metadata": {
        "id": "HnbvOu4QrWxD"
      },
      "outputs": [],
      "source": [
        "import numpy as np\n",
        "import pandas as pd\n",
        "from keras.models import Sequential\n",
        "from keras.layers import LSTM, Dense, Dropout\n",
        "from keras import optimizers\n",
        "import matplotlib.pyplot as plt\n",
        "from keras.models import load_model\n",
        "from sklearn.preprocessing import MinMaxScaler\n",
        "from sklearn.model_selection import train_test_split\n",
        "import sklearn.metrics as metrics\n",
        "from keras.models import Sequential\n",
        "from keras.layers import LSTM, GRU, Dense, Dropout\n",
        "from keras import optimizers\n",
        "import numpy\n",
        "import matplotlib.pyplot as plt\n",
        "import pandas\n",
        "import math\n",
        "from keras.models import Sequential\n",
        "from keras.layers import Dense\n",
        "from keras.layers import LSTM\n",
        "from sklearn.preprocessing import MinMaxScaler\n",
        "from sklearn.metrics import mean_squared_error"
      ]
    },
    {
      "cell_type": "code",
      "source": [
        "url = 'https://raw.githubusercontent.com/loguansiang/fyp/main/SAND%20fyp.csv'\n",
        "df = pd.read_csv(url)"
      ],
      "metadata": {
        "id": "807TWupkrYks"
      },
      "execution_count": 56,
      "outputs": []
    },
    {
      "cell_type": "code",
      "source": [
        "df['Date'] = pd.to_datetime(df['Date'])\n",
        "df.set_index('Date', inplace = True)"
      ],
      "metadata": {
        "id": "K2tLhEJ6rZuC"
      },
      "execution_count": 57,
      "outputs": []
    },
    {
      "cell_type": "code",
      "source": [
        "df = df['Close']"
      ],
      "metadata": {
        "id": "PSh_NUWdrawQ"
      },
      "execution_count": 58,
      "outputs": []
    },
    {
      "cell_type": "code",
      "source": [
        "df"
      ],
      "metadata": {
        "colab": {
          "base_uri": "https://localhost:8080/"
        },
        "id": "T_fyo4etrb1Z",
        "outputId": "c7c3d5bb-2e9f-46f9-e2f4-1403ed714aa1"
      },
      "execution_count": 59,
      "outputs": [
        {
          "output_type": "execute_result",
          "data": {
            "text/plain": [
              "Date\n",
              "2020-08-14    0.065645\n",
              "2020-08-15    0.050964\n",
              "2020-08-16    0.060847\n",
              "2020-08-17    0.053999\n",
              "2020-08-18    0.051700\n",
              "                ...   \n",
              "2022-04-13    2.869923\n",
              "2022-04-14    2.780882\n",
              "2022-04-15    2.803639\n",
              "2022-04-16    2.822680\n",
              "2022-04-17    2.790278\n",
              "Name: Close, Length: 612, dtype: float64"
            ]
          },
          "metadata": {},
          "execution_count": 59
        }
      ]
    },
    {
      "cell_type": "code",
      "source": [
        "array = df.values.reshape(df.shape[0],1)\n",
        "scaler = MinMaxScaler()\n",
        "array = scaler.fit_transform(array)"
      ],
      "metadata": {
        "id": "Mj8Nxfz-redK"
      },
      "execution_count": 60,
      "outputs": []
    },
    {
      "cell_type": "code",
      "source": [
        "train_size = int(len(array) * 0.67)\n",
        "test_size = len(array) - train_size\n",
        "train, test = array[0:train_size,:], array[train_size:len(array),:]\n",
        "print(len(train), len(test))"
      ],
      "metadata": {
        "colab": {
          "base_uri": "https://localhost:8080/"
        },
        "id": "Fn2_JgZqrf4Q",
        "outputId": "b9d4439a-d0b0-46c4-eab4-7e67df02756f"
      },
      "execution_count": 61,
      "outputs": [
        {
          "output_type": "stream",
          "name": "stdout",
          "text": [
            "410 202\n"
          ]
        }
      ]
    },
    {
      "cell_type": "code",
      "source": [
        "def create_dataset(dataset, look_back=1):\n",
        "\tdataX, dataY = [], []\n",
        "\tfor i in range(len(dataset)-look_back-1):\n",
        "\t\ta = dataset[i:(i+look_back), 0]\n",
        "\t\tdataX.append(a)\n",
        "\t\tdataY.append(dataset[i + look_back, 0])\n",
        "    \n",
        "\treturn numpy.array(dataX), numpy.array(dataY)\n",
        " "
      ],
      "metadata": {
        "id": "HVh32xu7rhci"
      },
      "execution_count": 62,
      "outputs": []
    },
    {
      "cell_type": "code",
      "source": [
        "# reshape into X=t and Y=t+1\n",
        "numpy.random.seed(42)\n",
        "look_back = 7\n",
        "trainX, trainY = create_dataset(train, look_back)\n",
        "testX, testY = create_dataset(test, look_back)"
      ],
      "metadata": {
        "id": "Ljv923RDrjJR"
      },
      "execution_count": 63,
      "outputs": []
    },
    {
      "cell_type": "code",
      "source": [
        "\n",
        "# create and fit the LSTM network\n",
        "model = Sequential()\n",
        "model.add(GRU(4, input_shape=(look_back,1 )))\n",
        "model.add(Dropout(0.4))\n",
        "model.add(Dense(1))\n",
        "model.compile(loss='mean_squared_error', optimizer='adam')\n",
        "model.fit(trainX, trainY, epochs=50, batch_size=1, verbose=2)\n",
        "model.summary()"
      ],
      "metadata": {
        "colab": {
          "base_uri": "https://localhost:8080/"
        },
        "id": "mxs4FVFXtAi8",
        "outputId": "e4c97b9b-5111-4548-b339-5b7bd6af7a0d"
      },
      "execution_count": 64,
      "outputs": [
        {
          "output_type": "stream",
          "name": "stdout",
          "text": [
            "Epoch 1/50\n",
            "402/402 - 2s - loss: 6.8258e-04 - 2s/epoch - 6ms/step\n",
            "Epoch 2/50\n",
            "402/402 - 1s - loss: 4.3107e-04 - 816ms/epoch - 2ms/step\n",
            "Epoch 3/50\n",
            "402/402 - 1s - loss: 2.8716e-04 - 824ms/epoch - 2ms/step\n",
            "Epoch 4/50\n",
            "402/402 - 1s - loss: 2.2508e-04 - 818ms/epoch - 2ms/step\n",
            "Epoch 5/50\n",
            "402/402 - 1s - loss: 2.3190e-04 - 831ms/epoch - 2ms/step\n",
            "Epoch 6/50\n",
            "402/402 - 1s - loss: 2.1468e-04 - 808ms/epoch - 2ms/step\n",
            "Epoch 7/50\n",
            "402/402 - 1s - loss: 2.0044e-04 - 804ms/epoch - 2ms/step\n",
            "Epoch 8/50\n",
            "402/402 - 1s - loss: 2.1475e-04 - 811ms/epoch - 2ms/step\n",
            "Epoch 9/50\n",
            "402/402 - 1s - loss: 1.9242e-04 - 791ms/epoch - 2ms/step\n",
            "Epoch 10/50\n",
            "402/402 - 1s - loss: 2.2589e-04 - 790ms/epoch - 2ms/step\n",
            "Epoch 11/50\n",
            "402/402 - 1s - loss: 2.3452e-04 - 819ms/epoch - 2ms/step\n",
            "Epoch 12/50\n",
            "402/402 - 1s - loss: 1.9108e-04 - 803ms/epoch - 2ms/step\n",
            "Epoch 13/50\n",
            "402/402 - 1s - loss: 1.7818e-04 - 814ms/epoch - 2ms/step\n",
            "Epoch 14/50\n",
            "402/402 - 1s - loss: 2.0239e-04 - 807ms/epoch - 2ms/step\n",
            "Epoch 15/50\n",
            "402/402 - 1s - loss: 2.0914e-04 - 780ms/epoch - 2ms/step\n",
            "Epoch 16/50\n",
            "402/402 - 1s - loss: 2.3194e-04 - 791ms/epoch - 2ms/step\n",
            "Epoch 17/50\n",
            "402/402 - 1s - loss: 2.0760e-04 - 797ms/epoch - 2ms/step\n",
            "Epoch 18/50\n",
            "402/402 - 1s - loss: 2.0165e-04 - 822ms/epoch - 2ms/step\n",
            "Epoch 19/50\n",
            "402/402 - 1s - loss: 1.9656e-04 - 813ms/epoch - 2ms/step\n",
            "Epoch 20/50\n",
            "402/402 - 1s - loss: 1.8350e-04 - 795ms/epoch - 2ms/step\n",
            "Epoch 21/50\n",
            "402/402 - 1s - loss: 2.1277e-04 - 806ms/epoch - 2ms/step\n",
            "Epoch 22/50\n",
            "402/402 - 1s - loss: 1.7310e-04 - 798ms/epoch - 2ms/step\n",
            "Epoch 23/50\n",
            "402/402 - 1s - loss: 1.7398e-04 - 822ms/epoch - 2ms/step\n",
            "Epoch 24/50\n",
            "402/402 - 1s - loss: 1.8996e-04 - 776ms/epoch - 2ms/step\n",
            "Epoch 25/50\n",
            "402/402 - 1s - loss: 2.0069e-04 - 812ms/epoch - 2ms/step\n",
            "Epoch 26/50\n",
            "402/402 - 1s - loss: 1.8395e-04 - 822ms/epoch - 2ms/step\n",
            "Epoch 27/50\n",
            "402/402 - 1s - loss: 1.9918e-04 - 806ms/epoch - 2ms/step\n",
            "Epoch 28/50\n",
            "402/402 - 1s - loss: 1.9232e-04 - 802ms/epoch - 2ms/step\n",
            "Epoch 29/50\n",
            "402/402 - 1s - loss: 1.9519e-04 - 803ms/epoch - 2ms/step\n",
            "Epoch 30/50\n",
            "402/402 - 1s - loss: 2.2256e-04 - 808ms/epoch - 2ms/step\n",
            "Epoch 31/50\n",
            "402/402 - 1s - loss: 1.9385e-04 - 828ms/epoch - 2ms/step\n",
            "Epoch 32/50\n",
            "402/402 - 1s - loss: 2.0715e-04 - 798ms/epoch - 2ms/step\n",
            "Epoch 33/50\n",
            "402/402 - 1s - loss: 2.0509e-04 - 804ms/epoch - 2ms/step\n",
            "Epoch 34/50\n",
            "402/402 - 1s - loss: 1.8029e-04 - 790ms/epoch - 2ms/step\n",
            "Epoch 35/50\n",
            "402/402 - 1s - loss: 2.1166e-04 - 806ms/epoch - 2ms/step\n",
            "Epoch 36/50\n",
            "402/402 - 1s - loss: 2.1486e-04 - 803ms/epoch - 2ms/step\n",
            "Epoch 37/50\n",
            "402/402 - 1s - loss: 2.1792e-04 - 819ms/epoch - 2ms/step\n",
            "Epoch 38/50\n",
            "402/402 - 1s - loss: 2.0372e-04 - 795ms/epoch - 2ms/step\n",
            "Epoch 39/50\n",
            "402/402 - 1s - loss: 2.0980e-04 - 802ms/epoch - 2ms/step\n",
            "Epoch 40/50\n",
            "402/402 - 1s - loss: 1.8847e-04 - 813ms/epoch - 2ms/step\n",
            "Epoch 41/50\n",
            "402/402 - 1s - loss: 1.8572e-04 - 805ms/epoch - 2ms/step\n",
            "Epoch 42/50\n",
            "402/402 - 1s - loss: 1.7004e-04 - 805ms/epoch - 2ms/step\n",
            "Epoch 43/50\n",
            "402/402 - 1s - loss: 1.8182e-04 - 801ms/epoch - 2ms/step\n",
            "Epoch 44/50\n",
            "402/402 - 1s - loss: 2.5164e-04 - 838ms/epoch - 2ms/step\n",
            "Epoch 45/50\n",
            "402/402 - 1s - loss: 1.9954e-04 - 787ms/epoch - 2ms/step\n",
            "Epoch 46/50\n",
            "402/402 - 1s - loss: 1.8138e-04 - 814ms/epoch - 2ms/step\n",
            "Epoch 47/50\n",
            "402/402 - 1s - loss: 2.4390e-04 - 816ms/epoch - 2ms/step\n",
            "Epoch 48/50\n",
            "402/402 - 1s - loss: 1.9148e-04 - 805ms/epoch - 2ms/step\n",
            "Epoch 49/50\n",
            "402/402 - 1s - loss: 2.1074e-04 - 803ms/epoch - 2ms/step\n",
            "Epoch 50/50\n",
            "402/402 - 1s - loss: 1.8977e-04 - 828ms/epoch - 2ms/step\n",
            "Model: \"sequential_8\"\n",
            "_________________________________________________________________\n",
            " Layer (type)                Output Shape              Param #   \n",
            "=================================================================\n",
            " gru_7 (GRU)                 (None, 4)                 84        \n",
            "                                                                 \n",
            " dropout_3 (Dropout)         (None, 4)                 0         \n",
            "                                                                 \n",
            " dense_8 (Dense)             (None, 1)                 5         \n",
            "                                                                 \n",
            "=================================================================\n",
            "Total params: 89\n",
            "Trainable params: 89\n",
            "Non-trainable params: 0\n",
            "_________________________________________________________________\n"
          ]
        }
      ]
    },
    {
      "cell_type": "code",
      "source": [
        "# make predictions\n",
        "trainPredict = model.predict(trainX)\n",
        "testPredict = model.predict(testX)\n",
        "# invert predictions\n",
        "trainPredict = scaler.inverse_transform(trainPredict)\n",
        "trainY = scaler.inverse_transform([trainY])\n",
        "testPredict = scaler.inverse_transform(testPredict)\n",
        "testY = scaler.inverse_transform([testY])\n",
        "# calculate root mean squared error\n",
        "trainScore = math.sqrt(mean_squared_error(trainY[0], trainPredict[:,0]))\n",
        "print('Train Score: %.2f RMSE' % (trainScore))\n",
        "testScore = math.sqrt(mean_squared_error(testY[0], testPredict[:,0]))\n",
        "print('Test Score: %.2f RMSE' % (testScore))"
      ],
      "metadata": {
        "colab": {
          "base_uri": "https://localhost:8080/"
        },
        "id": "6my3kcH6tCp5",
        "outputId": "8c899340-a7c6-4860-da4c-7e97b3a9c71c"
      },
      "execution_count": 65,
      "outputs": [
        {
          "output_type": "stream",
          "name": "stdout",
          "text": [
            "Train Score: 0.06 RMSE\n",
            "Test Score: 1.05 RMSE\n"
          ]
        }
      ]
    },
    {
      "cell_type": "code",
      "source": [
        "# shift train predictions for plotting\n",
        "trainPredictPlot = numpy.empty_like(array)\n",
        "trainPredictPlot[:, :] = numpy.nan\n",
        "trainPredictPlot[look_back:len(trainPredict)+look_back, :] = trainPredict\n",
        "# shift test predictions for plotting\n",
        "testPredictPlot = numpy.empty_like(array)\n",
        "testPredictPlot[:, :] = numpy.nan\n",
        "testPredictPlot[len(trainPredict)+(look_back*2)+1:len(array)-1, :] = testPredict\n",
        "# plot baseline and predictions\n",
        "plt.plot(scaler.inverse_transform(array))\n",
        "plt.plot(trainPredictPlot)\n",
        "plt.plot(testPredictPlot)\n",
        "plt.show()"
      ],
      "metadata": {
        "colab": {
          "base_uri": "https://localhost:8080/",
          "height": 265
        },
        "id": "DrT03vXntD6J",
        "outputId": "8c0aec69-4ab8-4cc4-b4fd-c5555a5160a2"
      },
      "execution_count": 66,
      "outputs": [
        {
          "output_type": "display_data",
          "data": {
            "text/plain": [
              "<Figure size 432x288 with 1 Axes>"
            ],
            "image/png": "[encoded data removed]"
          },
          "metadata": {
            "needs_background": "light"
          }
        }
      ]
    }
  ]
}