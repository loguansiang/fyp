{
  "nbformat": 4,
  "nbformat_minor": 0,
  "metadata": {
    "colab": {
      "name": "lstm window method.ipynb",
      "provenance": [],
      "authorship_tag": "ABX9TyMUsu2qgCpnqvjkYD9HdY9v",
      "include_colab_link": true
    },
    "kernelspec": {
      "name": "python3",
      "display_name": "Python 3"
    },
    "language_info": {
      "name": "python"
    }
  },
  "cells": [
    {
      "cell_type": "markdown",
      "metadata": {
        "id": "view-in-github",
        "colab_type": "text"
      },
      "source": [
        "<a href=\"https://colab.research.google.com/github/loguansiang/fyp/blob/main/lstm_window_method.ipynb\" target=\"_parent\"><img src=\"https://colab.research.google.com/assets/colab-badge.svg\" alt=\"Open In Colab\"/></a>"
      ]
    },
    {
      "cell_type": "code",
      "execution_count": 1,
      "metadata": {
        "id": "fmdQmhZi_m5A"
      },
      "outputs": [],
      "source": [
        "import numpy as np\n",
        "import pandas as pd\n",
        "from keras.models import Sequential\n",
        "from keras.layers import LSTM, Dense, Dropout\n",
        "from keras import optimizers\n",
        "import matplotlib.pyplot as plt\n",
        "from keras.models import load_model\n",
        "from sklearn.preprocessing import MinMaxScaler\n",
        "from sklearn.model_selection import train_test_split\n",
        "import sklearn.metrics as metrics\n",
        "from keras.models import Sequential\n",
        "from keras.layers import LSTM, GRU, Dense, Dropout\n",
        "from keras import optimizers\n",
        "import numpy\n",
        "import matplotlib.pyplot as plt\n",
        "import pandas\n",
        "import math\n",
        "from keras.models import Sequential\n",
        "from keras.layers import Dense\n",
        "from keras.layers import LSTM\n",
        "from sklearn.preprocessing import MinMaxScaler\n",
        "from sklearn.metrics import mean_squared_error"
      ]
    },
    {
      "cell_type": "code",
      "source": [
        "url = 'https://raw.githubusercontent.com/loguansiang/fyp/main/SAND%20fyp.csv'\n",
        "df = pd.read_csv(url)"
      ],
      "metadata": {
        "id": "P9opQoMI_taY"
      },
      "execution_count": 2,
      "outputs": []
    },
    {
      "cell_type": "code",
      "source": [
        "df['Date'] = pd.to_datetime(df['Date'])\n",
        "df.set_index('Date', inplace = True)"
      ],
      "metadata": {
        "id": "B7zeogb-_ukL"
      },
      "execution_count": 3,
      "outputs": []
    },
    {
      "cell_type": "code",
      "source": [
        "df = df['Close']\n"
      ],
      "metadata": {
        "id": "5w1GrUe8_vqL"
      },
      "execution_count": 4,
      "outputs": []
    },
    {
      "cell_type": "code",
      "source": [
        "df"
      ],
      "metadata": {
        "colab": {
          "base_uri": "https://localhost:8080/"
        },
        "id": "ARd7EeXC_wsQ",
        "outputId": "1eed9cdd-f416-4a3b-fdb5-0d241ce5d690"
      },
      "execution_count": 5,
      "outputs": [
        {
          "output_type": "execute_result",
          "data": {
            "text/plain": [
              "Date\n",
              "2020-08-14    0.065645\n",
              "2020-08-15    0.050964\n",
              "2020-08-16    0.060847\n",
              "2020-08-17    0.053999\n",
              "2020-08-18    0.051700\n",
              "                ...   \n",
              "2022-04-13    2.869923\n",
              "2022-04-14    2.780882\n",
              "2022-04-15    2.803639\n",
              "2022-04-16    2.822680\n",
              "2022-04-17    2.790278\n",
              "Name: Close, Length: 612, dtype: float64"
            ]
          },
          "metadata": {},
          "execution_count": 5
        }
      ]
    },
    {
      "cell_type": "code",
      "source": [
        "array = df.values.reshape(df.shape[0],1)\n",
        "scaler = MinMaxScaler()\n",
        "array = scaler.fit_transform(array)"
      ],
      "metadata": {
        "id": "FMLYHWYK_yDb"
      },
      "execution_count": 6,
      "outputs": []
    },
    {
      "cell_type": "code",
      "source": [
        "train_size = int(len(array) * 0.67)\n",
        "test_size = len(array) - train_size\n",
        "train, test = array[0:train_size,:], array[train_size:len(array),:]\n",
        "print(len(train), len(test))"
      ],
      "metadata": {
        "colab": {
          "base_uri": "https://localhost:8080/"
        },
        "id": "e443UMmI_zao",
        "outputId": "897fa032-7054-46e8-d5b8-50a589261c17"
      },
      "execution_count": 7,
      "outputs": [
        {
          "output_type": "stream",
          "name": "stdout",
          "text": [
            "410 202\n"
          ]
        }
      ]
    },
    {
      "cell_type": "code",
      "source": [
        "def create_dataset(dataset, look_back):\n",
        "\tdataX, dataY = [], []\n",
        "\tfor i in range(len(dataset)-look_back-1):\n",
        "\t\ta = dataset[i:(i+look_back), 0]\n",
        "\t\tdataX.append(a)\n",
        "\t\tdataY.append(dataset[i + look_back, 0])\n",
        "\treturn numpy.array(dataX), numpy.array(dataY)\n",
        " "
      ],
      "metadata": {
        "id": "dFxSSPFe_1qv"
      },
      "execution_count": 8,
      "outputs": []
    },
    {
      "cell_type": "code",
      "source": [
        "# reshape into X=t and Y=t+1\n",
        "\n",
        "look_back = 7\n",
        "trainX, trainY = create_dataset(train, look_back)\n",
        "testX, testY = create_dataset(test, look_back)\n"
      ],
      "metadata": {
        "id": "ssuyqvyZ_3bP"
      },
      "execution_count": 9,
      "outputs": []
    },
    {
      "cell_type": "code",
      "source": [
        "import tensorflow as tf\n",
        "from tensorflow.keras import layers\n",
        "\n",
        "# Set random seed for as reproducible results as possible\n",
        "tf.random.set_seed(7)\n",
        "# create and fit the LSTM network\n",
        "model = Sequential()\n",
        "model.add(LSTM(4, input_shape=(look_back,1 )))\n",
        "model.add(Dense(1))\n",
        "model.compile(loss='mean_squared_error', optimizer='adam')\n",
        "model.fit(trainX, trainY, epochs=50, batch_size=1, verbose=2)\n",
        "model.summary"
      ],
      "metadata": {
        "colab": {
          "base_uri": "https://localhost:8080/"
        },
        "id": "dGUfz_ODAbLc",
        "outputId": "b90b41da-396a-4b77-a689-85978dd44ea7"
      },
      "execution_count": 10,
      "outputs": [
        {
          "output_type": "stream",
          "name": "stdout",
          "text": [
            "Epoch 1/50\n",
            "402/402 - 6s - loss: 5.1447e-04 - 6s/epoch - 14ms/step\n",
            "Epoch 2/50\n",
            "402/402 - 2s - loss: 6.5313e-05 - 2s/epoch - 5ms/step\n",
            "Epoch 3/50\n",
            "402/402 - 2s - loss: 6.6347e-05 - 2s/epoch - 4ms/step\n",
            "Epoch 4/50\n",
            "402/402 - 2s - loss: 6.3924e-05 - 2s/epoch - 4ms/step\n",
            "Epoch 5/50\n",
            "402/402 - 2s - loss: 6.2862e-05 - 2s/epoch - 5ms/step\n",
            "Epoch 6/50\n",
            "402/402 - 2s - loss: 6.2022e-05 - 2s/epoch - 5ms/step\n",
            "Epoch 7/50\n",
            "402/402 - 2s - loss: 5.8523e-05 - 2s/epoch - 5ms/step\n",
            "Epoch 8/50\n",
            "402/402 - 2s - loss: 5.3754e-05 - 2s/epoch - 4ms/step\n",
            "Epoch 9/50\n",
            "402/402 - 2s - loss: 5.1977e-05 - 2s/epoch - 5ms/step\n",
            "Epoch 10/50\n",
            "402/402 - 2s - loss: 5.4847e-05 - 2s/epoch - 4ms/step\n",
            "Epoch 11/50\n",
            "402/402 - 2s - loss: 5.0019e-05 - 2s/epoch - 5ms/step\n",
            "Epoch 12/50\n",
            "402/402 - 2s - loss: 5.0385e-05 - 2s/epoch - 4ms/step\n",
            "Epoch 13/50\n",
            "402/402 - 2s - loss: 4.9913e-05 - 2s/epoch - 4ms/step\n",
            "Epoch 14/50\n",
            "402/402 - 1s - loss: 4.3205e-05 - 1s/epoch - 4ms/step\n",
            "Epoch 15/50\n",
            "402/402 - 1s - loss: 4.2252e-05 - 1s/epoch - 4ms/step\n",
            "Epoch 16/50\n",
            "402/402 - 1s - loss: 3.9813e-05 - 934ms/epoch - 2ms/step\n",
            "Epoch 17/50\n",
            "402/402 - 1s - loss: 3.5890e-05 - 873ms/epoch - 2ms/step\n",
            "Epoch 18/50\n",
            "402/402 - 1s - loss: 3.5650e-05 - 874ms/epoch - 2ms/step\n",
            "Epoch 19/50\n",
            "402/402 - 1s - loss: 3.3828e-05 - 881ms/epoch - 2ms/step\n",
            "Epoch 20/50\n",
            "402/402 - 1s - loss: 3.2886e-05 - 959ms/epoch - 2ms/step\n",
            "Epoch 21/50\n",
            "402/402 - 1s - loss: 3.2088e-05 - 921ms/epoch - 2ms/step\n",
            "Epoch 22/50\n",
            "402/402 - 1s - loss: 3.0887e-05 - 927ms/epoch - 2ms/step\n",
            "Epoch 23/50\n",
            "402/402 - 1s - loss: 2.9927e-05 - 859ms/epoch - 2ms/step\n",
            "Epoch 24/50\n",
            "402/402 - 1s - loss: 3.1063e-05 - 893ms/epoch - 2ms/step\n",
            "Epoch 25/50\n",
            "402/402 - 1s - loss: 3.1022e-05 - 932ms/epoch - 2ms/step\n",
            "Epoch 26/50\n",
            "402/402 - 1s - loss: 2.8132e-05 - 916ms/epoch - 2ms/step\n",
            "Epoch 27/50\n",
            "402/402 - 1s - loss: 2.9413e-05 - 933ms/epoch - 2ms/step\n",
            "Epoch 28/50\n",
            "402/402 - 1s - loss: 2.9211e-05 - 1s/epoch - 3ms/step\n",
            "Epoch 29/50\n",
            "402/402 - 1s - loss: 2.9400e-05 - 976ms/epoch - 2ms/step\n",
            "Epoch 30/50\n",
            "402/402 - 1s - loss: 3.0206e-05 - 971ms/epoch - 2ms/step\n",
            "Epoch 31/50\n",
            "402/402 - 1s - loss: 2.7663e-05 - 873ms/epoch - 2ms/step\n",
            "Epoch 32/50\n",
            "402/402 - 1s - loss: 2.9213e-05 - 944ms/epoch - 2ms/step\n",
            "Epoch 33/50\n",
            "402/402 - 1s - loss: 2.9282e-05 - 985ms/epoch - 2ms/step\n",
            "Epoch 34/50\n",
            "402/402 - 1s - loss: 2.9276e-05 - 879ms/epoch - 2ms/step\n",
            "Epoch 35/50\n",
            "402/402 - 1s - loss: 2.7620e-05 - 892ms/epoch - 2ms/step\n",
            "Epoch 36/50\n",
            "402/402 - 1s - loss: 2.7019e-05 - 859ms/epoch - 2ms/step\n",
            "Epoch 37/50\n",
            "402/402 - 1s - loss: 2.9776e-05 - 945ms/epoch - 2ms/step\n",
            "Epoch 38/50\n",
            "402/402 - 1s - loss: 2.8762e-05 - 956ms/epoch - 2ms/step\n",
            "Epoch 39/50\n",
            "402/402 - 1s - loss: 2.8047e-05 - 878ms/epoch - 2ms/step\n",
            "Epoch 40/50\n",
            "402/402 - 1s - loss: 2.6462e-05 - 934ms/epoch - 2ms/step\n",
            "Epoch 41/50\n",
            "402/402 - 1s - loss: 2.7110e-05 - 898ms/epoch - 2ms/step\n",
            "Epoch 42/50\n",
            "402/402 - 1s - loss: 2.7231e-05 - 915ms/epoch - 2ms/step\n",
            "Epoch 43/50\n",
            "402/402 - 1s - loss: 2.6726e-05 - 936ms/epoch - 2ms/step\n",
            "Epoch 44/50\n",
            "402/402 - 1s - loss: 3.0242e-05 - 909ms/epoch - 2ms/step\n",
            "Epoch 45/50\n",
            "402/402 - 1s - loss: 2.5154e-05 - 893ms/epoch - 2ms/step\n",
            "Epoch 46/50\n",
            "402/402 - 1s - loss: 2.5205e-05 - 847ms/epoch - 2ms/step\n",
            "Epoch 47/50\n",
            "402/402 - 1s - loss: 2.8967e-05 - 888ms/epoch - 2ms/step\n",
            "Epoch 48/50\n",
            "402/402 - 1s - loss: 2.7119e-05 - 867ms/epoch - 2ms/step\n",
            "Epoch 49/50\n",
            "402/402 - 1s - loss: 2.7633e-05 - 902ms/epoch - 2ms/step\n",
            "Epoch 50/50\n",
            "402/402 - 1s - loss: 2.6734e-05 - 910ms/epoch - 2ms/step\n"
          ]
        },
        {
          "output_type": "execute_result",
          "data": {
            "text/plain": [
              "<bound method Model.summary of <keras.engine.sequential.Sequential object at 0x7f5a12080f90>>"
            ]
          },
          "metadata": {},
          "execution_count": 10
        }
      ]
    },
    {
      "cell_type": "code",
      "source": [
        "# make predictions\n",
        "trainPredict = model.predict(trainX)\n",
        "testPredict = model.predict(testX)\n",
        "# invert predictions\n",
        "trainPredict = scaler.inverse_transform(trainPredict)\n",
        "trainY = scaler.inverse_transform([trainY])\n",
        "testPredict = scaler.inverse_transform(testPredict)\n",
        "testY = scaler.inverse_transform([testY])\n",
        "# calculate root mean squared error\n",
        "trainScore = math.sqrt(mean_squared_error(trainY[0], trainPredict[:,0]))\n",
        "print('Train Score: %.2f RMSE' % (trainScore))\n",
        "testScore = math.sqrt(mean_squared_error(testY[0], testPredict[:,0]))\n",
        "print('Test Score: %.2f RMSE' % (testScore))"
      ],
      "metadata": {
        "colab": {
          "base_uri": "https://localhost:8080/"
        },
        "id": "f06VkR2fCBLb",
        "outputId": "5c5be261-d043-4816-b358-a1038f4d6558"
      },
      "execution_count": 11,
      "outputs": [
        {
          "output_type": "stream",
          "name": "stdout",
          "text": [
            "Train Score: 0.04 RMSE\n",
            "Test Score: 0.74 RMSE\n"
          ]
        }
      ]
    },
    {
      "cell_type": "code",
      "source": [
        "# shift train predictions for plotting\n",
        "trainPredictPlot = numpy.empty_like(array)\n",
        "trainPredictPlot[:, :] = numpy.nan\n",
        "trainPredictPlot[look_back:len(trainPredict)+look_back, :] = trainPredict\n",
        "# shift test predictions for plotting\n",
        "testPredictPlot = numpy.empty_like(array)\n",
        "testPredictPlot[:, :] = numpy.nan\n",
        "testPredictPlot[len(trainPredict)+(look_back*2)+1:len(array)-1, :] = testPredict\n",
        "# plot baseline and predictions\n",
        "plt.plot(scaler.inverse_transform(array))\n",
        "plt.plot(trainPredictPlot)\n",
        "plt.plot(testPredictPlot)\n",
        "plt.show()"
      ],
      "metadata": {
        "colab": {
          "base_uri": "https://localhost:8080/",
          "height": 265
        },
        "id": "bpLFgNK5CCpc",
        "outputId": "89210f04-b2d2-4772-e704-bf76c28b3fed"
      },
      "execution_count": 12,
      "outputs": [
        {
          "output_type": "display_data",
          "data": {
            "text/plain": [
              "<Figure size 432x288 with 1 Axes>"
            ],
            "image/png": "[encoded data removed]"
          },
          "metadata": {
            "needs_background": "light"
          }
        }
      ]
    }
  ]
}