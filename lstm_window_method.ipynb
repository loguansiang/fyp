{
  "nbformat": 4,
  "nbformat_minor": 0,
  "metadata": {
    "colab": {
      "name": "lstm window method.ipynb",
      "provenance": [],
      "authorship_tag": "ABX9TyOlbm0gBQ883ywvTzKK4YLT",
      "include_colab_link": true
    },
    "kernelspec": {
      "name": "python3",
      "display_name": "Python 3"
    },
    "language_info": {
      "name": "python"
    }
  },
  "cells": [
    {
      "cell_type": "markdown",
      "metadata": {
        "id": "view-in-github",
        "colab_type": "text"
      },
      "source": [
        "<a href=\"https://colab.research.google.com/github/loguansiang/fyp/blob/main/lstm_window_method.ipynb\" target=\"_parent\"><img src=\"https://colab.research.google.com/assets/colab-badge.svg\" alt=\"Open In Colab\"/></a>"
      ]
    },
    {
      "cell_type": "code",
      "execution_count": 10,
      "metadata": {
        "id": "fmdQmhZi_m5A"
      },
      "outputs": [],
      "source": [
        "import numpy as np\n",
        "import pandas as pd\n",
        "from keras.models import Sequential\n",
        "from keras.layers import LSTM, Dense, Dropout\n",
        "from keras import optimizers\n",
        "import matplotlib.pyplot as plt\n",
        "from keras.models import load_model\n",
        "from sklearn.preprocessing import MinMaxScaler\n",
        "from sklearn.model_selection import train_test_split\n",
        "import sklearn.metrics as metrics\n",
        "from keras.models import Sequential\n",
        "from keras.layers import LSTM, GRU, Dense, Dropout\n",
        "from keras import optimizers\n",
        "import numpy\n",
        "import matplotlib.pyplot as plt\n",
        "import pandas\n",
        "import math\n",
        "from keras.models import Sequential\n",
        "from keras.layers import Dense\n",
        "from keras.layers import LSTM\n",
        "from sklearn.preprocessing import MinMaxScaler\n",
        "from sklearn.metrics import mean_squared_error"
      ]
    },
    {
      "cell_type": "code",
      "source": [
        "url = 'https://raw.githubusercontent.com/loguansiang/fyp/main/SAND%20fyp.csv'\n",
        "df = pd.read_csv(url)"
      ],
      "metadata": {
        "id": "P9opQoMI_taY"
      },
      "execution_count": 11,
      "outputs": []
    },
    {
      "cell_type": "code",
      "source": [
        "df['Date'] = pd.to_datetime(df['Date'])\n",
        "df.set_index('Date', inplace = True)"
      ],
      "metadata": {
        "id": "B7zeogb-_ukL"
      },
      "execution_count": 12,
      "outputs": []
    },
    {
      "cell_type": "code",
      "source": [
        "df = df['Close']\n"
      ],
      "metadata": {
        "id": "5w1GrUe8_vqL"
      },
      "execution_count": 13,
      "outputs": []
    },
    {
      "cell_type": "code",
      "source": [
        "df"
      ],
      "metadata": {
        "colab": {
          "base_uri": "https://localhost:8080/"
        },
        "id": "ARd7EeXC_wsQ",
        "outputId": "fa6c3089-0a5b-4cae-8140-138bd6cc8cad"
      },
      "execution_count": 14,
      "outputs": [
        {
          "output_type": "execute_result",
          "data": {
            "text/plain": [
              "Date\n",
              "2020-08-14    0.065645\n",
              "2020-08-15    0.050964\n",
              "2020-08-16    0.060847\n",
              "2020-08-17    0.053999\n",
              "2020-08-18    0.051700\n",
              "                ...   \n",
              "2022-04-13    2.869923\n",
              "2022-04-14    2.780882\n",
              "2022-04-15    2.803639\n",
              "2022-04-16    2.822680\n",
              "2022-04-17    2.790278\n",
              "Name: Close, Length: 612, dtype: float64"
            ]
          },
          "metadata": {},
          "execution_count": 14
        }
      ]
    },
    {
      "cell_type": "code",
      "source": [
        "array = df.values.reshape(df.shape[0],1)\n",
        "scaler = MinMaxScaler()\n",
        "array = scaler.fit_transform(array)"
      ],
      "metadata": {
        "id": "FMLYHWYK_yDb"
      },
      "execution_count": 15,
      "outputs": []
    },
    {
      "cell_type": "code",
      "source": [
        "train_size = int(len(array) * 0.67)\n",
        "test_size = len(array) - train_size\n",
        "train, test = array[0:train_size,:], array[train_size:len(array),:]\n",
        "print(len(train), len(test))"
      ],
      "metadata": {
        "colab": {
          "base_uri": "https://localhost:8080/"
        },
        "id": "e443UMmI_zao",
        "outputId": "ccd67e91-3f63-468b-991b-c68939588e79"
      },
      "execution_count": 16,
      "outputs": [
        {
          "output_type": "stream",
          "name": "stdout",
          "text": [
            "410 202\n"
          ]
        }
      ]
    },
    {
      "cell_type": "code",
      "source": [
        "def create_dataset(dataset, look_back):\n",
        "\tdataX, dataY = [], []\n",
        "\tfor i in range(len(dataset)-look_back-1):\n",
        "\t\ta = dataset[i:(i+look_back), 0]\n",
        "\t\tdataX.append(a)\n",
        "\t\tdataY.append(dataset[i + look_back, 0])\n",
        "\treturn numpy.array(dataX), numpy.array(dataY)\n",
        " "
      ],
      "metadata": {
        "id": "dFxSSPFe_1qv"
      },
      "execution_count": 17,
      "outputs": []
    },
    {
      "cell_type": "code",
      "source": [
        "# reshape into X=t and Y=t+1\n",
        "numpy.random.seed(42)\n",
        "look_back = 7\n",
        "trainX, trainY = create_dataset(train, look_back)\n",
        "testX, testY = create_dataset(test, look_back)\n"
      ],
      "metadata": {
        "id": "ssuyqvyZ_3bP"
      },
      "execution_count": 18,
      "outputs": []
    },
    {
      "cell_type": "code",
      "source": [
        "\n",
        "# create and fit the LSTM network\n",
        "model = Sequential()\n",
        "model.add(LSTM(4, input_shape=(look_back,1 )))\n",
        "model.add(Dense(1))\n",
        "model.compile(loss='mean_squared_error', optimizer='adam')\n",
        "model.fit(trainX, trainY, epochs=50, batch_size=1, verbose=2)\n",
        "model.summary"
      ],
      "metadata": {
        "colab": {
          "base_uri": "https://localhost:8080/"
        },
        "id": "dGUfz_ODAbLc",
        "outputId": "e502fefc-ff6e-4b5a-b921-3854178b4d08"
      },
      "execution_count": 19,
      "outputs": [
        {
          "output_type": "stream",
          "name": "stdout",
          "text": [
            "Epoch 1/50\n",
            "402/402 - 5s - loss: 3.4098e-04 - 5s/epoch - 12ms/step\n",
            "Epoch 2/50\n",
            "402/402 - 1s - loss: 7.3705e-05 - 968ms/epoch - 2ms/step\n",
            "Epoch 3/50\n",
            "402/402 - 1s - loss: 6.7066e-05 - 1s/epoch - 3ms/step\n",
            "Epoch 4/50\n",
            "402/402 - 1s - loss: 7.2321e-05 - 1s/epoch - 4ms/step\n",
            "Epoch 5/50\n",
            "402/402 - 2s - loss: 6.7549e-05 - 2s/epoch - 4ms/step\n",
            "Epoch 6/50\n",
            "402/402 - 2s - loss: 6.0416e-05 - 2s/epoch - 4ms/step\n",
            "Epoch 7/50\n",
            "402/402 - 2s - loss: 6.3238e-05 - 2s/epoch - 4ms/step\n",
            "Epoch 8/50\n",
            "402/402 - 2s - loss: 5.8805e-05 - 2s/epoch - 4ms/step\n",
            "Epoch 9/50\n",
            "402/402 - 2s - loss: 6.1089e-05 - 2s/epoch - 4ms/step\n",
            "Epoch 10/50\n",
            "402/402 - 1s - loss: 5.3646e-05 - 939ms/epoch - 2ms/step\n",
            "Epoch 11/50\n",
            "402/402 - 1s - loss: 5.0371e-05 - 979ms/epoch - 2ms/step\n",
            "Epoch 12/50\n",
            "402/402 - 1s - loss: 5.1912e-05 - 928ms/epoch - 2ms/step\n",
            "Epoch 13/50\n",
            "402/402 - 1s - loss: 4.9834e-05 - 920ms/epoch - 2ms/step\n",
            "Epoch 14/50\n",
            "402/402 - 1s - loss: 4.9570e-05 - 916ms/epoch - 2ms/step\n",
            "Epoch 15/50\n",
            "402/402 - 1s - loss: 4.5712e-05 - 914ms/epoch - 2ms/step\n",
            "Epoch 16/50\n",
            "402/402 - 1s - loss: 4.5477e-05 - 926ms/epoch - 2ms/step\n",
            "Epoch 17/50\n",
            "402/402 - 1s - loss: 4.4214e-05 - 921ms/epoch - 2ms/step\n",
            "Epoch 18/50\n",
            "402/402 - 1s - loss: 4.2960e-05 - 949ms/epoch - 2ms/step\n",
            "Epoch 19/50\n",
            "402/402 - 1s - loss: 4.3532e-05 - 963ms/epoch - 2ms/step\n",
            "Epoch 20/50\n",
            "402/402 - 1s - loss: 4.3535e-05 - 929ms/epoch - 2ms/step\n",
            "Epoch 21/50\n",
            "402/402 - 1s - loss: 4.2939e-05 - 943ms/epoch - 2ms/step\n",
            "Epoch 22/50\n",
            "402/402 - 1s - loss: 4.1234e-05 - 955ms/epoch - 2ms/step\n",
            "Epoch 23/50\n",
            "402/402 - 1s - loss: 3.7819e-05 - 933ms/epoch - 2ms/step\n",
            "Epoch 24/50\n",
            "402/402 - 1s - loss: 3.5115e-05 - 932ms/epoch - 2ms/step\n",
            "Epoch 25/50\n",
            "402/402 - 1s - loss: 3.5997e-05 - 910ms/epoch - 2ms/step\n",
            "Epoch 26/50\n",
            "402/402 - 1s - loss: 3.1251e-05 - 922ms/epoch - 2ms/step\n",
            "Epoch 27/50\n",
            "402/402 - 1s - loss: 3.0100e-05 - 926ms/epoch - 2ms/step\n",
            "Epoch 28/50\n",
            "402/402 - 1s - loss: 3.1224e-05 - 930ms/epoch - 2ms/step\n",
            "Epoch 29/50\n",
            "402/402 - 1s - loss: 3.0458e-05 - 896ms/epoch - 2ms/step\n",
            "Epoch 30/50\n",
            "402/402 - 1s - loss: 2.8549e-05 - 961ms/epoch - 2ms/step\n",
            "Epoch 31/50\n",
            "402/402 - 1s - loss: 2.9261e-05 - 934ms/epoch - 2ms/step\n",
            "Epoch 32/50\n",
            "402/402 - 1s - loss: 3.2682e-05 - 945ms/epoch - 2ms/step\n",
            "Epoch 33/50\n",
            "402/402 - 1s - loss: 2.8926e-05 - 950ms/epoch - 2ms/step\n",
            "Epoch 34/50\n",
            "402/402 - 1s - loss: 2.7676e-05 - 914ms/epoch - 2ms/step\n",
            "Epoch 35/50\n",
            "402/402 - 1s - loss: 2.6769e-05 - 918ms/epoch - 2ms/step\n",
            "Epoch 36/50\n",
            "402/402 - 1s - loss: 2.7459e-05 - 917ms/epoch - 2ms/step\n",
            "Epoch 37/50\n",
            "402/402 - 1s - loss: 2.7529e-05 - 932ms/epoch - 2ms/step\n",
            "Epoch 38/50\n",
            "402/402 - 1s - loss: 3.0499e-05 - 908ms/epoch - 2ms/step\n",
            "Epoch 39/50\n",
            "402/402 - 1s - loss: 2.7575e-05 - 929ms/epoch - 2ms/step\n",
            "Epoch 40/50\n",
            "402/402 - 1s - loss: 2.6523e-05 - 941ms/epoch - 2ms/step\n",
            "Epoch 41/50\n",
            "402/402 - 1s - loss: 2.8279e-05 - 919ms/epoch - 2ms/step\n",
            "Epoch 42/50\n",
            "402/402 - 1s - loss: 2.6981e-05 - 928ms/epoch - 2ms/step\n",
            "Epoch 43/50\n",
            "402/402 - 1s - loss: 2.8283e-05 - 968ms/epoch - 2ms/step\n",
            "Epoch 44/50\n",
            "402/402 - 1s - loss: 2.6742e-05 - 946ms/epoch - 2ms/step\n",
            "Epoch 45/50\n",
            "402/402 - 1s - loss: 2.8470e-05 - 942ms/epoch - 2ms/step\n",
            "Epoch 46/50\n",
            "402/402 - 1s - loss: 2.6269e-05 - 944ms/epoch - 2ms/step\n",
            "Epoch 47/50\n",
            "402/402 - 1s - loss: 2.6327e-05 - 932ms/epoch - 2ms/step\n",
            "Epoch 48/50\n",
            "402/402 - 1s - loss: 2.6757e-05 - 915ms/epoch - 2ms/step\n",
            "Epoch 49/50\n",
            "402/402 - 1s - loss: 2.6161e-05 - 909ms/epoch - 2ms/step\n",
            "Epoch 50/50\n",
            "402/402 - 1s - loss: 2.6082e-05 - 909ms/epoch - 2ms/step\n"
          ]
        },
        {
          "output_type": "execute_result",
          "data": {
            "text/plain": [
              "<bound method Model.summary of <keras.engine.sequential.Sequential object at 0x7f4a0342d990>>"
            ]
          },
          "metadata": {},
          "execution_count": 19
        }
      ]
    },
    {
      "cell_type": "code",
      "source": [
        "# make predictions\n",
        "trainPredict = model.predict(trainX)\n",
        "testPredict = model.predict(testX)\n",
        "# invert predictions\n",
        "trainPredict = scaler.inverse_transform(trainPredict)\n",
        "trainY = scaler.inverse_transform([trainY])\n",
        "testPredict = scaler.inverse_transform(testPredict)\n",
        "testY = scaler.inverse_transform([testY])\n",
        "# calculate root mean squared error\n",
        "trainScore = math.sqrt(mean_squared_error(trainY[0], trainPredict[:,0]))\n",
        "print('Train Score: %.2f RMSE' % (trainScore))\n",
        "testScore = math.sqrt(mean_squared_error(testY[0], testPredict[:,0]))\n",
        "print('Test Score: %.2f RMSE' % (testScore))"
      ],
      "metadata": {
        "colab": {
          "base_uri": "https://localhost:8080/"
        },
        "id": "f06VkR2fCBLb",
        "outputId": "546ed773-21b7-4207-b796-17bcfb95cae2"
      },
      "execution_count": 20,
      "outputs": [
        {
          "output_type": "stream",
          "name": "stdout",
          "text": [
            "Train Score: 0.04 RMSE\n",
            "Test Score: 0.72 RMSE\n"
          ]
        }
      ]
    },
    {
      "cell_type": "code",
      "source": [
        "# shift train predictions for plotting\n",
        "trainPredictPlot = numpy.empty_like(array)\n",
        "trainPredictPlot[:, :] = numpy.nan\n",
        "trainPredictPlot[look_back:len(trainPredict)+look_back, :] = trainPredict\n",
        "# shift test predictions for plotting\n",
        "testPredictPlot = numpy.empty_like(array)\n",
        "testPredictPlot[:, :] = numpy.nan\n",
        "testPredictPlot[len(trainPredict)+(look_back*2)+1:len(array)-1, :] = testPredict\n",
        "# plot baseline and predictions\n",
        "plt.plot(scaler.inverse_transform(array))\n",
        "plt.plot(trainPredictPlot)\n",
        "plt.plot(testPredictPlot)\n",
        "plt.show()"
      ],
      "metadata": {
        "colab": {
          "base_uri": "https://localhost:8080/",
          "height": 265
        },
        "id": "bpLFgNK5CCpc",
        "outputId": "bd84ce16-770e-44d2-f720-c9140b1ef828"
      },
      "execution_count": 21,
      "outputs": [
        {
          "output_type": "display_data",
          "data": {
            "text/plain": [
              "<Figure size 432x288 with 1 Axes>"
            ],
            "image/png": "[encoded data removed]"
          },
          "metadata": {
            "needs_background": "light"
          }
        }
      ]
    }
  ]
}