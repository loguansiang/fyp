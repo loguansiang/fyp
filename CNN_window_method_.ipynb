{
  "nbformat": 4,
  "nbformat_minor": 0,
  "metadata": {
    "colab": {
      "name": "CNN window method..ipynb",
      "provenance": [],
      "include_colab_link": true
    },
    "kernelspec": {
      "name": "python3",
      "display_name": "Python 3"
    },
    "language_info": {
      "name": "python"
    }
  },
  "cells": [
    {
      "cell_type": "markdown",
      "metadata": {
        "id": "view-in-github",
        "colab_type": "text"
      },
      "source": [
        "<a href=\"https://colab.research.google.com/github/loguansiang/fyp/blob/main/CNN_window_method_.ipynb\" target=\"_parent\"><img src=\"https://colab.research.google.com/assets/colab-badge.svg\" alt=\"Open In Colab\"/></a>"
      ]
    },
    {
      "cell_type": "code",
      "execution_count": 1,
      "metadata": {
        "id": "X1HkGDRzFCfc"
      },
      "outputs": [],
      "source": [
        "import numpy as np\n",
        "import random\n",
        "import pandas as pd\n",
        "from keras.models import Sequential\n",
        "from keras.layers import LSTM, Dense, Dropout\n",
        "from keras import optimizers\n",
        "import matplotlib.pyplot as plt\n",
        "from keras.models import load_model\n",
        "from sklearn.preprocessing import MinMaxScaler\n",
        "from sklearn.model_selection import train_test_split\n",
        "import sklearn.metrics as metrics\n",
        "from keras.models import Sequential\n",
        "from keras.layers import LSTM, GRU, Dense, Dropout\n",
        "from keras import optimizers\n",
        "import numpy\n",
        "import matplotlib.pyplot as plt\n",
        "import pandas\n",
        "import math\n",
        "from keras.models import Sequential\n",
        "from keras.layers import Dense\n",
        "from keras.layers import LSTM\n",
        "from sklearn.preprocessing import MinMaxScaler\n",
        "from sklearn.metrics import mean_squared_error\n"
      ]
    },
    {
      "cell_type": "code",
      "source": [
        "\n",
        "url = 'https://raw.githubusercontent.com/loguansiang/fyp/main/SAND%20fyp.csv'\n",
        "df = pd.read_csv(url)"
      ],
      "metadata": {
        "id": "15JlQ34rGG7a"
      },
      "execution_count": 2,
      "outputs": []
    },
    {
      "cell_type": "code",
      "source": [
        "df['Date'] = pd.to_datetime(df['Date'])\n",
        "df.set_index('Date', inplace = True)"
      ],
      "metadata": {
        "id": "5mfqvWpRGId9"
      },
      "execution_count": 3,
      "outputs": []
    },
    {
      "cell_type": "code",
      "source": [
        "df = df['Close']\n",
        "\n"
      ],
      "metadata": {
        "id": "h4RupLcUGJnR"
      },
      "execution_count": 4,
      "outputs": []
    },
    {
      "cell_type": "code",
      "source": [
        "df"
      ],
      "metadata": {
        "colab": {
          "base_uri": "https://localhost:8080/"
        },
        "id": "Dgt76_K1GL8p",
        "outputId": "b3f05083-be8c-497e-cc19-a2fa0c05f672"
      },
      "execution_count": 5,
      "outputs": [
        {
          "output_type": "execute_result",
          "data": {
            "text/plain": [
              "Date\n",
              "2020-08-14    0.065645\n",
              "2020-08-15    0.050964\n",
              "2020-08-16    0.060847\n",
              "2020-08-17    0.053999\n",
              "2020-08-18    0.051700\n",
              "                ...   \n",
              "2022-04-13    2.869923\n",
              "2022-04-14    2.780882\n",
              "2022-04-15    2.803639\n",
              "2022-04-16    2.822680\n",
              "2022-04-17    2.790278\n",
              "Name: Close, Length: 612, dtype: float64"
            ]
          },
          "metadata": {},
          "execution_count": 5
        }
      ]
    },
    {
      "cell_type": "code",
      "source": [
        "array = df.values.reshape(df.shape[0],1)\n",
        "scaler = MinMaxScaler()\n",
        "array = scaler.fit_transform(array)\n",
        "dataframe= df.values.reshape(df.shape[0],1)"
      ],
      "metadata": {
        "id": "Iqwu7ekJGO6U"
      },
      "execution_count": 6,
      "outputs": []
    },
    {
      "cell_type": "code",
      "source": [
        "train_size = int(len(array) * 0.67)\n",
        "test_size = len(array) - train_size\n",
        "train, test = array[0:train_size,:], array[train_size:len(array),:]\n",
        "print(len(train), len(test))"
      ],
      "metadata": {
        "colab": {
          "base_uri": "https://localhost:8080/"
        },
        "id": "-5ZPd2kmGeG2",
        "outputId": "98d76ca4-efca-40f6-ba6c-a53702900885"
      },
      "execution_count": 7,
      "outputs": [
        {
          "output_type": "stream",
          "name": "stdout",
          "text": [
            "410 202\n"
          ]
        }
      ]
    },
    {
      "cell_type": "code",
      "source": [
        "def create_dataset(dataset, look_back):\n",
        "\tdataX, dataY = [], []\n",
        "\tfor i in range(len(dataset)-look_back-1):\n",
        "\t\ta = dataset[i:(i+look_back), 0]\n",
        "\t\tdataX.append(a)\n",
        "\t\tdataY.append(dataset[i + look_back, 0])\n",
        "\treturn numpy.array(dataX), numpy.array(dataY)\n"
      ],
      "metadata": {
        "id": "ar7cAhAWGgA2"
      },
      "execution_count": 8,
      "outputs": []
    },
    {
      "cell_type": "code",
      "source": [
        "# reshape into X=t and Y=t+1\n",
        "look_back =3\n",
        "trainX, trainY = create_dataset(train, look_back)\n",
        "testX, testY = create_dataset(test, look_back)"
      ],
      "metadata": {
        "id": "bsGjcOyIGhtJ"
      },
      "execution_count": 9,
      "outputs": []
    },
    {
      "cell_type": "code",
      "source": [
        "trainX = numpy.reshape(trainX, (trainX.shape[0], 1, trainX.shape[1]))\n",
        "testX = numpy.reshape(testX, (testX.shape[0], 1, testX.shape[1]))\n"
      ],
      "metadata": {
        "id": "R3PTU3V2Gm-3"
      },
      "execution_count": 10,
      "outputs": []
    },
    {
      "cell_type": "code",
      "source": [
        "from keras.models import Model\n",
        "from keras.layers import Input\n",
        "from keras.layers import Dense\n",
        "from keras.layers import Flatten\n",
        "from keras.layers.convolutional import Conv1D\n",
        "from keras.layers.convolutional import MaxPooling1D\n",
        "from keras.layers.merge import concatenate"
      ],
      "metadata": {
        "id": "PWhsf63sIuqU"
      },
      "execution_count": 11,
      "outputs": []
    },
    {
      "cell_type": "code",
      "source": [
        "import tensorflow as tf\n",
        "from tensorflow.keras import layers\n",
        "\n",
        "# Set random seed for as reproducible results as possible\n",
        "tf.random.set_seed(7)\n",
        "# define model\n",
        "model = Sequential()\n",
        "model.add(Conv1D(filters=64, kernel_size=1, activation='relu', input_shape=(1, look_back)))\n",
        "model.add(MaxPooling1D(pool_size=1))\n",
        "model.add(Flatten())\n",
        "model.add(Dense(105, activation='relu'))\n",
        "model.add(Dense(1))\n",
        "model.compile(optimizer='adam', loss='mse')\n",
        "model.fit(trainX, trainY,epochs=100,batch_size=32)\n",
        "model.summary()"
      ],
      "metadata": {
        "colab": {
          "base_uri": "https://localhost:8080/"
        },
        "id": "tgKURAUOGpCU",
        "outputId": "99c51614-8101-4634-ccb7-795f70c497ec"
      },
      "execution_count": 13,
      "outputs": [
        {
          "output_type": "stream",
          "name": "stdout",
          "text": [
            "Epoch 1/100\n",
            "13/13 [==============================] - 1s 8ms/step - loss: 4.6918e-04\n",
            "Epoch 2/100\n",
            "13/13 [==============================] - 0s 8ms/step - loss: 5.7570e-05\n",
            "Epoch 3/100\n",
            "13/13 [==============================] - 0s 5ms/step - loss: 3.9021e-05\n",
            "Epoch 4/100\n",
            "13/13 [==============================] - 0s 6ms/step - loss: 3.2519e-05\n",
            "Epoch 5/100\n",
            "13/13 [==============================] - 0s 7ms/step - loss: 2.7391e-05\n",
            "Epoch 6/100\n",
            "13/13 [==============================] - 0s 6ms/step - loss: 2.6623e-05\n",
            "Epoch 7/100\n",
            "13/13 [==============================] - 0s 7ms/step - loss: 2.7492e-05\n",
            "Epoch 8/100\n",
            "13/13 [==============================] - 0s 5ms/step - loss: 2.4921e-05\n",
            "Epoch 9/100\n",
            "13/13 [==============================] - 0s 4ms/step - loss: 2.5577e-05\n",
            "Epoch 10/100\n",
            "13/13 [==============================] - 0s 4ms/step - loss: 2.6056e-05\n",
            "Epoch 11/100\n",
            "13/13 [==============================] - 0s 5ms/step - loss: 2.5524e-05\n",
            "Epoch 12/100\n",
            "13/13 [==============================] - 0s 4ms/step - loss: 2.3961e-05\n",
            "Epoch 13/100\n",
            "13/13 [==============================] - 0s 6ms/step - loss: 2.2851e-05\n",
            "Epoch 14/100\n",
            "13/13 [==============================] - 0s 6ms/step - loss: 2.3254e-05\n",
            "Epoch 15/100\n",
            "13/13 [==============================] - 0s 4ms/step - loss: 2.3256e-05\n",
            "Epoch 16/100\n",
            "13/13 [==============================] - 0s 5ms/step - loss: 2.2579e-05\n",
            "Epoch 17/100\n",
            "13/13 [==============================] - 0s 7ms/step - loss: 2.2836e-05\n",
            "Epoch 18/100\n",
            "13/13 [==============================] - 0s 10ms/step - loss: 2.2825e-05\n",
            "Epoch 19/100\n",
            "13/13 [==============================] - 0s 6ms/step - loss: 2.4432e-05\n",
            "Epoch 20/100\n",
            "13/13 [==============================] - 0s 5ms/step - loss: 2.5111e-05\n",
            "Epoch 21/100\n",
            "13/13 [==============================] - 0s 4ms/step - loss: 2.3704e-05\n",
            "Epoch 22/100\n",
            "13/13 [==============================] - 0s 4ms/step - loss: 2.4891e-05\n",
            "Epoch 23/100\n",
            "13/13 [==============================] - 0s 4ms/step - loss: 2.3080e-05\n",
            "Epoch 24/100\n",
            "13/13 [==============================] - 0s 3ms/step - loss: 2.1914e-05\n",
            "Epoch 25/100\n",
            "13/13 [==============================] - 0s 4ms/step - loss: 2.3004e-05\n",
            "Epoch 26/100\n",
            "13/13 [==============================] - 0s 4ms/step - loss: 2.2297e-05\n",
            "Epoch 27/100\n",
            "13/13 [==============================] - 0s 3ms/step - loss: 2.2206e-05\n",
            "Epoch 28/100\n",
            "13/13 [==============================] - 0s 6ms/step - loss: 2.1940e-05\n",
            "Epoch 29/100\n",
            "13/13 [==============================] - 0s 3ms/step - loss: 2.2463e-05\n",
            "Epoch 30/100\n",
            "13/13 [==============================] - 0s 4ms/step - loss: 2.2120e-05\n",
            "Epoch 31/100\n",
            "13/13 [==============================] - 0s 4ms/step - loss: 2.2811e-05\n",
            "Epoch 32/100\n",
            "13/13 [==============================] - 0s 4ms/step - loss: 2.2090e-05\n",
            "Epoch 33/100\n",
            "13/13 [==============================] - 0s 5ms/step - loss: 2.4800e-05\n",
            "Epoch 34/100\n",
            "13/13 [==============================] - 0s 5ms/step - loss: 2.7453e-05\n",
            "Epoch 35/100\n",
            "13/13 [==============================] - 0s 4ms/step - loss: 2.9349e-05\n",
            "Epoch 36/100\n",
            "13/13 [==============================] - 0s 5ms/step - loss: 2.5220e-05\n",
            "Epoch 37/100\n",
            "13/13 [==============================] - 0s 4ms/step - loss: 2.2873e-05\n",
            "Epoch 38/100\n",
            "13/13 [==============================] - 0s 6ms/step - loss: 2.4082e-05\n",
            "Epoch 39/100\n",
            "13/13 [==============================] - 0s 11ms/step - loss: 2.2764e-05\n",
            "Epoch 40/100\n",
            "13/13 [==============================] - 0s 7ms/step - loss: 2.2679e-05\n",
            "Epoch 41/100\n",
            "13/13 [==============================] - 0s 6ms/step - loss: 2.4651e-05\n",
            "Epoch 42/100\n",
            "13/13 [==============================] - 0s 4ms/step - loss: 2.9476e-05\n",
            "Epoch 43/100\n",
            "13/13 [==============================] - 0s 4ms/step - loss: 2.3597e-05\n",
            "Epoch 44/100\n",
            "13/13 [==============================] - 0s 7ms/step - loss: 2.1486e-05\n",
            "Epoch 45/100\n",
            "13/13 [==============================] - 0s 8ms/step - loss: 2.1955e-05\n",
            "Epoch 46/100\n",
            "13/13 [==============================] - 0s 3ms/step - loss: 2.3091e-05\n",
            "Epoch 47/100\n",
            "13/13 [==============================] - 0s 3ms/step - loss: 2.2500e-05\n",
            "Epoch 48/100\n",
            "13/13 [==============================] - 0s 3ms/step - loss: 2.3856e-05\n",
            "Epoch 49/100\n",
            "13/13 [==============================] - 0s 7ms/step - loss: 2.2203e-05\n",
            "Epoch 50/100\n",
            "13/13 [==============================] - 0s 8ms/step - loss: 2.1995e-05\n",
            "Epoch 51/100\n",
            "13/13 [==============================] - 0s 6ms/step - loss: 2.2556e-05\n",
            "Epoch 52/100\n",
            "13/13 [==============================] - 0s 6ms/step - loss: 2.2539e-05\n",
            "Epoch 53/100\n",
            "13/13 [==============================] - 0s 6ms/step - loss: 2.5799e-05\n",
            "Epoch 54/100\n",
            "13/13 [==============================] - 0s 5ms/step - loss: 2.6465e-05\n",
            "Epoch 55/100\n",
            "13/13 [==============================] - 0s 6ms/step - loss: 2.2413e-05\n",
            "Epoch 56/100\n",
            "13/13 [==============================] - 0s 5ms/step - loss: 2.2408e-05\n",
            "Epoch 57/100\n",
            "13/13 [==============================] - 0s 5ms/step - loss: 2.1931e-05\n",
            "Epoch 58/100\n",
            "13/13 [==============================] - 0s 4ms/step - loss: 2.3424e-05\n",
            "Epoch 59/100\n",
            "13/13 [==============================] - 0s 5ms/step - loss: 2.2014e-05\n",
            "Epoch 60/100\n",
            "13/13 [==============================] - 0s 6ms/step - loss: 2.1804e-05\n",
            "Epoch 61/100\n",
            "13/13 [==============================] - 0s 6ms/step - loss: 2.2697e-05\n",
            "Epoch 62/100\n",
            "13/13 [==============================] - 0s 6ms/step - loss: 2.5751e-05\n",
            "Epoch 63/100\n",
            "13/13 [==============================] - 0s 6ms/step - loss: 2.1459e-05\n",
            "Epoch 64/100\n",
            "13/13 [==============================] - 0s 7ms/step - loss: 2.2499e-05\n",
            "Epoch 65/100\n",
            "13/13 [==============================] - 0s 5ms/step - loss: 2.2239e-05\n",
            "Epoch 66/100\n",
            "13/13 [==============================] - 0s 7ms/step - loss: 2.1193e-05\n",
            "Epoch 67/100\n",
            "13/13 [==============================] - 0s 4ms/step - loss: 2.3319e-05\n",
            "Epoch 68/100\n",
            "13/13 [==============================] - 0s 4ms/step - loss: 2.1683e-05\n",
            "Epoch 69/100\n",
            "13/13 [==============================] - 0s 4ms/step - loss: 2.1244e-05\n",
            "Epoch 70/100\n",
            "13/13 [==============================] - 0s 6ms/step - loss: 2.1237e-05\n",
            "Epoch 71/100\n",
            "13/13 [==============================] - 0s 4ms/step - loss: 2.7866e-05\n",
            "Epoch 72/100\n",
            "13/13 [==============================] - 0s 5ms/step - loss: 2.4599e-05\n",
            "Epoch 73/100\n",
            "13/13 [==============================] - 0s 4ms/step - loss: 2.1799e-05\n",
            "Epoch 74/100\n",
            "13/13 [==============================] - 0s 4ms/step - loss: 2.3992e-05\n",
            "Epoch 75/100\n",
            "13/13 [==============================] - 0s 3ms/step - loss: 2.0590e-05\n",
            "Epoch 76/100\n",
            "13/13 [==============================] - 0s 3ms/step - loss: 2.4416e-05\n",
            "Epoch 77/100\n",
            "13/13 [==============================] - 0s 4ms/step - loss: 2.1721e-05\n",
            "Epoch 78/100\n",
            "13/13 [==============================] - 0s 4ms/step - loss: 2.3336e-05\n",
            "Epoch 79/100\n",
            "13/13 [==============================] - 0s 6ms/step - loss: 2.7675e-05\n",
            "Epoch 80/100\n",
            "13/13 [==============================] - 0s 6ms/step - loss: 3.5175e-05\n",
            "Epoch 81/100\n",
            "13/13 [==============================] - 0s 6ms/step - loss: 2.2704e-05\n",
            "Epoch 82/100\n",
            "13/13 [==============================] - 0s 5ms/step - loss: 2.1333e-05\n",
            "Epoch 83/100\n",
            "13/13 [==============================] - 0s 3ms/step - loss: 2.1435e-05\n",
            "Epoch 84/100\n",
            "13/13 [==============================] - 0s 3ms/step - loss: 2.2385e-05\n",
            "Epoch 85/100\n",
            "13/13 [==============================] - 0s 8ms/step - loss: 2.1487e-05\n",
            "Epoch 86/100\n",
            "13/13 [==============================] - 0s 5ms/step - loss: 2.2613e-05\n",
            "Epoch 87/100\n",
            "13/13 [==============================] - 0s 5ms/step - loss: 2.0758e-05\n",
            "Epoch 88/100\n",
            "13/13 [==============================] - 0s 4ms/step - loss: 2.1393e-05\n",
            "Epoch 89/100\n",
            "13/13 [==============================] - 0s 3ms/step - loss: 2.2640e-05\n",
            "Epoch 90/100\n",
            "13/13 [==============================] - 0s 3ms/step - loss: 2.4654e-05\n",
            "Epoch 91/100\n",
            "13/13 [==============================] - 0s 3ms/step - loss: 2.2301e-05\n",
            "Epoch 92/100\n",
            "13/13 [==============================] - 0s 4ms/step - loss: 2.1035e-05\n",
            "Epoch 93/100\n",
            "13/13 [==============================] - 0s 3ms/step - loss: 2.1197e-05\n",
            "Epoch 94/100\n",
            "13/13 [==============================] - 0s 3ms/step - loss: 2.3232e-05\n",
            "Epoch 95/100\n",
            "13/13 [==============================] - 0s 4ms/step - loss: 2.1116e-05\n",
            "Epoch 96/100\n",
            "13/13 [==============================] - 0s 4ms/step - loss: 2.1269e-05\n",
            "Epoch 97/100\n",
            "13/13 [==============================] - 0s 3ms/step - loss: 2.1320e-05\n",
            "Epoch 98/100\n",
            "13/13 [==============================] - 0s 3ms/step - loss: 2.4245e-05\n",
            "Epoch 99/100\n",
            "13/13 [==============================] - 0s 4ms/step - loss: 2.3335e-05\n",
            "Epoch 100/100\n",
            "13/13 [==============================] - 0s 4ms/step - loss: 2.2873e-05\n",
            "Model: \"sequential_1\"\n",
            "_________________________________________________________________\n",
            " Layer (type)                Output Shape              Param #   \n",
            "=================================================================\n",
            " conv1d_1 (Conv1D)           (None, 1, 64)             256       \n",
            "                                                                 \n",
            " max_pooling1d_1 (MaxPooling  (None, 1, 64)            0         \n",
            " 1D)                                                             \n",
            "                                                                 \n",
            " flatten_1 (Flatten)         (None, 64)                0         \n",
            "                                                                 \n",
            " dense_2 (Dense)             (None, 105)               6825      \n",
            "                                                                 \n",
            " dense_3 (Dense)             (None, 1)                 106       \n",
            "                                                                 \n",
            "=================================================================\n",
            "Total params: 7,187\n",
            "Trainable params: 7,187\n",
            "Non-trainable params: 0\n",
            "_________________________________________________________________\n"
          ]
        }
      ]
    },
    {
      "cell_type": "code",
      "source": [
        "# make predictions\n",
        "trainPredict = model.predict(trainX)\n",
        "testPredict = model.predict(testX)\n",
        "# invert predictions\n",
        "trainPredict = scaler.inverse_transform(trainPredict)\n",
        "trainY = scaler.inverse_transform([trainY])\n",
        "testPredict = scaler.inverse_transform(testPredict)\n",
        "testY = scaler.inverse_transform([testY])\n",
        "# calculate root mean squared error\n",
        "trainScore = math.sqrt(mean_squared_error(trainY[0], trainPredict[:,0]))\n",
        "print('Train Score: %.2f RMSE' % (trainScore))\n",
        "testScore = math.sqrt(mean_squared_error(testY[0], testPredict[:,0]))\n",
        "print('Test Score: %.2f RMSE' % (testScore))"
      ],
      "metadata": {
        "colab": {
          "base_uri": "https://localhost:8080/"
        },
        "id": "s93_Nh70Gql5",
        "outputId": "8cd43e0c-dcdf-413f-987a-4632be989899"
      },
      "execution_count": 14,
      "outputs": [
        {
          "output_type": "stream",
          "name": "stdout",
          "text": [
            "Train Score: 0.04 RMSE\n",
            "Test Score: 0.60 RMSE\n"
          ]
        }
      ]
    },
    {
      "cell_type": "code",
      "source": [
        "# shift train predictions for plotting\n",
        "trainPredictPlot = numpy.empty_like(array)\n",
        "trainPredictPlot[:, :] = numpy.nan\n",
        "trainPredictPlot[look_back:len(trainPredict)+look_back, :] = trainPredict\n",
        "# shift test predictions for plotting\n",
        "testPredictPlot = numpy.empty_like(array)\n",
        "testPredictPlot[:, :] = numpy.nan\n",
        "testPredictPlot[len(trainPredict)+(look_back*2)+1:len(array)-1, :] = testPredict\n",
        "# plot baseline and predictions\n",
        "plt.plot(scaler.inverse_transform(array))\n",
        "plt.plot(trainPredictPlot)\n",
        "plt.plot(testPredictPlot)\n",
        "plt.show()"
      ],
      "metadata": {
        "colab": {
          "base_uri": "https://localhost:8080/",
          "height": 265
        },
        "id": "lXt7TuJ1Gse6",
        "outputId": "9d0aa42c-885f-4d58-9f26-98bc84c687e5"
      },
      "execution_count": 15,
      "outputs": [
        {
          "output_type": "display_data",
          "data": {
            "text/plain": [
              "<Figure size 432x288 with 1 Axes>"
            ],
            "image/png": "[encoded data removed]"
          },
          "metadata": {
            "needs_background": "light"
          }
        }
      ]
    },
    {
      "cell_type": "code",
      "source": [
        ""
      ],
      "metadata": {
        "id": "Su2_wd13PEl_"
      },
      "execution_count": null,
      "outputs": []
    }
  ]
}