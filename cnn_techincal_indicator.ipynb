{
  "nbformat": 4,
  "nbformat_minor": 0,
  "metadata": {
    "colab": {
      "name": "cnn techincal indicator.ipynb",
      "provenance": [],
      "authorship_tag": "ABX9TyMc70f4fcin4nMdLqDiRvgn",
      "include_colab_link": true
    },
    "kernelspec": {
      "name": "python3",
      "display_name": "Python 3"
    },
    "language_info": {
      "name": "python"
    }
  },
  "cells": [
    {
      "cell_type": "markdown",
      "metadata": {
        "id": "view-in-github",
        "colab_type": "text"
      },
      "source": [
        "<a href=\"https://colab.research.google.com/github/loguansiang/fyp/blob/main/cnn_techincal_indicator.ipynb\" target=\"_parent\"><img src=\"https://colab.research.google.com/assets/colab-badge.svg\" alt=\"Open In Colab\"/></a>"
      ]
    },
    {
      "cell_type": "code",
      "execution_count": 121,
      "metadata": {
        "id": "6r5emgwN_F-_"
      },
      "outputs": [],
      "source": [
        "import numpy as np\n",
        "import pandas as pd\n",
        "from keras.models import Sequential\n",
        "from keras.layers import LSTM, Dense, Dropout\n",
        "from keras import optimizers\n",
        "import matplotlib.pyplot as plt\n",
        "from keras.models import load_model\n",
        "from sklearn.preprocessing import MinMaxScaler\n",
        "from sklearn.model_selection import train_test_split\n",
        "import sklearn.metrics as metrics\n",
        "from keras.models import Sequential\n",
        "from keras.layers import LSTM, GRU, Dense, Dropout\n",
        "from keras import optimizers\n",
        "import numpy\n",
        "import matplotlib.pyplot as plt\n",
        "import pandas\n",
        "import math\n",
        "from keras.models import Sequential\n",
        "from keras.layers import Dense\n",
        "from keras.layers import LSTM\n",
        "from sklearn.preprocessing import MinMaxScaler\n",
        "from sklearn.metrics import mean_squared_error"
      ]
    },
    {
      "cell_type": "code",
      "source": [
        "\n",
        "url = 'https://raw.githubusercontent.com/loguansiang/fyp/main/SAND%20fyp.csv'\n",
        "df = pd.read_csv(url)"
      ],
      "metadata": {
        "id": "QsNzkIw1_IjO"
      },
      "execution_count": 122,
      "outputs": []
    },
    {
      "cell_type": "code",
      "source": [
        "df['Date'] = pd.to_datetime(df['Date'])\n",
        "df.set_index('Date', inplace = True)"
      ],
      "metadata": {
        "id": "V1EiUFwj_L7L"
      },
      "execution_count": 123,
      "outputs": []
    },
    {
      "cell_type": "code",
      "source": [
        "pip install ta"
      ],
      "metadata": {
        "colab": {
          "base_uri": "https://localhost:8080/"
        },
        "id": "t2qffNXdEOmT",
        "outputId": "894aa484-e7ae-49ac-a3b4-3030935de7b7"
      },
      "execution_count": 124,
      "outputs": [
        {
          "output_type": "stream",
          "name": "stdout",
          "text": [
            "Looking in indexes: https://pypi.org/simple, https://us-python.pkg.dev/colab-wheels/public/simple/\n",
            "Requirement already satisfied: ta in /usr/local/lib/python3.7/dist-packages (0.10.1)\n",
            "Requirement already satisfied: numpy in /usr/local/lib/python3.7/dist-packages (from ta) (1.21.6)\n",
            "Requirement already satisfied: pandas in /usr/local/lib/python3.7/dist-packages (from ta) (1.3.5)\n",
            "Requirement already satisfied: python-dateutil>=2.7.3 in /usr/local/lib/python3.7/dist-packages (from pandas->ta) (2.8.2)\n",
            "Requirement already satisfied: pytz>=2017.3 in /usr/local/lib/python3.7/dist-packages (from pandas->ta) (2022.1)\n",
            "Requirement already satisfied: six>=1.5 in /usr/local/lib/python3.7/dist-packages (from python-dateutil>=2.7.3->pandas->ta) (1.15.0)\n"
          ]
        }
      ]
    },
    {
      "cell_type": "code",
      "source": [
        "import pandas as pd\n",
        "import ta\n",
        "from ta import add_all_ta_features\n",
        "from ta.utils import dropna"
      ],
      "metadata": {
        "id": "HEzGfVQqENGp"
      },
      "execution_count": 125,
      "outputs": []
    },
    {
      "cell_type": "code",
      "source": [
        "def applytechnicals(df):\n",
        "  for i in range (2,10,4):\n",
        "    df['rsi_'+str(i)]=ta.momentum.rsi(df.Close,window=i)\n",
        "    df['SMA_'+str(i)]=df.Close.rolling(i*10).mean()\n",
        "  df['macd']  =ta.trend.macd_diff(df.Close)\n",
        "  df.dropna(inplace= True)\n",
        "  "
      ],
      "metadata": {
        "id": "GtYBzP9V_S4Z"
      },
      "execution_count": 126,
      "outputs": []
    },
    {
      "cell_type": "code",
      "source": [
        "applytechnicals(df)\n",
        "df"
      ],
      "metadata": {
        "colab": {
          "base_uri": "https://localhost:8080/",
          "height": 455
        },
        "id": "8o70jSAI_VHJ",
        "outputId": "47e10eea-3c44-47f9-9fa6-299a9f9ec86c"
      },
      "execution_count": 127,
      "outputs": [
        {
          "output_type": "execute_result",
          "data": {
            "text/plain": [
              "                Open      High       Low     Close  Adj Close     Volume  \\\n",
              "Date                                                                       \n",
              "2020-10-12  0.048891  0.050484  0.046535  0.047589   0.047589    9049431   \n",
              "2020-10-13  0.047421  0.049109  0.045674  0.046522   0.046522    7175418   \n",
              "2020-10-14  0.046483  0.046989  0.045195  0.045895   0.045895    4333146   \n",
              "2020-10-15  0.045956  0.046236  0.044238  0.045027   0.045027    3469517   \n",
              "2020-10-16  0.045025  0.045025  0.041341  0.043696   0.043696    6499827   \n",
              "...              ...       ...       ...       ...        ...        ...   \n",
              "2022-04-13  2.781983  2.886945  2.751847  2.869923   2.869923  321784424   \n",
              "2022-04-14  2.869366  2.916186  2.714203  2.780882   2.780882  349909147   \n",
              "2022-04-15  2.781060  2.820187  2.755915  2.803639   2.803639  189256519   \n",
              "2022-04-16  2.803614  2.901280  2.777383  2.822680   2.822680  234480315   \n",
              "2022-04-17  2.820111  2.820111  2.781153  2.790278   2.790278  176793328   \n",
              "\n",
              "                rsi_2     SMA_2      rsi_6     SMA_6      macd  \n",
              "Date                                                            \n",
              "2020-10-12  45.692130  0.045914  52.276238  0.049379  0.000584  \n",
              "2020-10-13  30.796000  0.046106  48.313257  0.049060  0.000434  \n",
              "2020-10-14  22.265172  0.046012  45.861645  0.048975  0.000280  \n",
              "2020-10-15  12.600755  0.045829  42.296152  0.048712  0.000116  \n",
              "2020-10-16   5.405304  0.045687  37.002657  0.048540 -0.000076  \n",
              "...               ...       ...        ...       ...       ...  \n",
              "2022-04-13  65.808704  3.234065  40.737599  3.209165 -0.066120  \n",
              "2022-04-14  37.201068  3.204703  35.951236  3.187497 -0.060530  \n",
              "2022-04-15  48.618327  3.175205  38.178917  3.167078 -0.051785  \n",
              "2022-04-16  60.604085  3.137671  40.264980  3.140819 -0.041642  \n",
              "2022-04-17  33.783303  3.104057  37.669353  3.117694 -0.034341  \n",
              "\n",
              "[553 rows x 11 columns]"
            ],
            "text/html": [
              "\n",
              "  <div id=\"df-8711ccb5-c343-4cf4-84d7-70dec1e9108b\">\n",
              "    <div class=\"colab-df-container\">\n",
              "      <div>\n",
              "<style scoped>\n",
              "    .dataframe tbody tr th:only-of-type {\n",
              "        vertical-align: middle;\n",
              "    }\n",
              "\n",
              "    .dataframe tbody tr th {\n",
              "        vertical-align: top;\n",
              "    }\n",
              "\n",
              "    .dataframe thead th {\n",
              "        text-align: right;\n",
              "    }\n",
              "</style>\n",
              "<table border=\"1\" class=\"dataframe\">\n",
              "  <thead>\n",
              "    <tr style=\"text-align: right;\">\n",
              "      <th></th>\n",
              "      <th>Open</th>\n",
              "      <th>High</th>\n",
              "      <th>Low</th>\n",
              "      <th>Close</th>\n",
              "      <th>Adj Close</th>\n",
              "      <th>Volume</th>\n",
              "      <th>rsi_2</th>\n",
              "      <th>SMA_2</th>\n",
              "      <th>rsi_6</th>\n",
              "      <th>SMA_6</th>\n",
              "      <th>macd</th>\n",
              "    </tr>\n",
              "    <tr>\n",
              "      <th>Date</th>\n",
              "      <th></th>\n",
              "      <th></th>\n",
              "      <th></th>\n",
              "      <th></th>\n",
              "      <th></th>\n",
              "      <th></th>\n",
              "      <th></th>\n",
              "      <th></th>\n",
              "      <th></th>\n",
              "      <th></th>\n",
              "      <th></th>\n",
              "    </tr>\n",
              "  </thead>\n",
              "  <tbody>\n",
              "    <tr>\n",
              "      <th>2020-10-12</th>\n",
              "      <td>0.048891</td>\n",
              "      <td>0.050484</td>\n",
              "      <td>0.046535</td>\n",
              "      <td>0.047589</td>\n",
              "      <td>0.047589</td>\n",
              "      <td>9049431</td>\n",
              "      <td>45.692130</td>\n",
              "      <td>0.045914</td>\n",
              "      <td>52.276238</td>\n",
              "      <td>0.049379</td>\n",
              "      <td>0.000584</td>\n",
              "    </tr>\n",
              "    <tr>\n",
              "      <th>2020-10-13</th>\n",
              "      <td>0.047421</td>\n",
              "      <td>0.049109</td>\n",
              "      <td>0.045674</td>\n",
              "      <td>0.046522</td>\n",
              "      <td>0.046522</td>\n",
              "      <td>7175418</td>\n",
              "      <td>30.796000</td>\n",
              "      <td>0.046106</td>\n",
              "      <td>48.313257</td>\n",
              "      <td>0.049060</td>\n",
              "      <td>0.000434</td>\n",
              "    </tr>\n",
              "    <tr>\n",
              "      <th>2020-10-14</th>\n",
              "      <td>0.046483</td>\n",
              "      <td>0.046989</td>\n",
              "      <td>0.045195</td>\n",
              "      <td>0.045895</td>\n",
              "      <td>0.045895</td>\n",
              "      <td>4333146</td>\n",
              "      <td>22.265172</td>\n",
              "      <td>0.046012</td>\n",
              "      <td>45.861645</td>\n",
              "      <td>0.048975</td>\n",
              "      <td>0.000280</td>\n",
              "    </tr>\n",
              "    <tr>\n",
              "      <th>2020-10-15</th>\n",
              "      <td>0.045956</td>\n",
              "      <td>0.046236</td>\n",
              "      <td>0.044238</td>\n",
              "      <td>0.045027</td>\n",
              "      <td>0.045027</td>\n",
              "      <td>3469517</td>\n",
              "      <td>12.600755</td>\n",
              "      <td>0.045829</td>\n",
              "      <td>42.296152</td>\n",
              "      <td>0.048712</td>\n",
              "      <td>0.000116</td>\n",
              "    </tr>\n",
              "    <tr>\n",
              "      <th>2020-10-16</th>\n",
              "      <td>0.045025</td>\n",
              "      <td>0.045025</td>\n",
              "      <td>0.041341</td>\n",
              "      <td>0.043696</td>\n",
              "      <td>0.043696</td>\n",
              "      <td>6499827</td>\n",
              "      <td>5.405304</td>\n",
              "      <td>0.045687</td>\n",
              "      <td>37.002657</td>\n",
              "      <td>0.048540</td>\n",
              "      <td>-0.000076</td>\n",
              "    </tr>\n",
              "    <tr>\n",
              "      <th>...</th>\n",
              "      <td>...</td>\n",
              "      <td>...</td>\n",
              "      <td>...</td>\n",
              "      <td>...</td>\n",
              "      <td>...</td>\n",
              "      <td>...</td>\n",
              "      <td>...</td>\n",
              "      <td>...</td>\n",
              "      <td>...</td>\n",
              "      <td>...</td>\n",
              "      <td>...</td>\n",
              "    </tr>\n",
              "    <tr>\n",
              "      <th>2022-04-13</th>\n",
              "      <td>2.781983</td>\n",
              "      <td>2.886945</td>\n",
              "      <td>2.751847</td>\n",
              "      <td>2.869923</td>\n",
              "      <td>2.869923</td>\n",
              "      <td>321784424</td>\n",
              "      <td>65.808704</td>\n",
              "      <td>3.234065</td>\n",
              "      <td>40.737599</td>\n",
              "      <td>3.209165</td>\n",
              "      <td>-0.066120</td>\n",
              "    </tr>\n",
              "    <tr>\n",
              "      <th>2022-04-14</th>\n",
              "      <td>2.869366</td>\n",
              "      <td>2.916186</td>\n",
              "      <td>2.714203</td>\n",
              "      <td>2.780882</td>\n",
              "      <td>2.780882</td>\n",
              "      <td>349909147</td>\n",
              "      <td>37.201068</td>\n",
              "      <td>3.204703</td>\n",
              "      <td>35.951236</td>\n",
              "      <td>3.187497</td>\n",
              "      <td>-0.060530</td>\n",
              "    </tr>\n",
              "    <tr>\n",
              "      <th>2022-04-15</th>\n",
              "      <td>2.781060</td>\n",
              "      <td>2.820187</td>\n",
              "      <td>2.755915</td>\n",
              "      <td>2.803639</td>\n",
              "      <td>2.803639</td>\n",
              "      <td>189256519</td>\n",
              "      <td>48.618327</td>\n",
              "      <td>3.175205</td>\n",
              "      <td>38.178917</td>\n",
              "      <td>3.167078</td>\n",
              "      <td>-0.051785</td>\n",
              "    </tr>\n",
              "    <tr>\n",
              "      <th>2022-04-16</th>\n",
              "      <td>2.803614</td>\n",
              "      <td>2.901280</td>\n",
              "      <td>2.777383</td>\n",
              "      <td>2.822680</td>\n",
              "      <td>2.822680</td>\n",
              "      <td>234480315</td>\n",
              "      <td>60.604085</td>\n",
              "      <td>3.137671</td>\n",
              "      <td>40.264980</td>\n",
              "      <td>3.140819</td>\n",
              "      <td>-0.041642</td>\n",
              "    </tr>\n",
              "    <tr>\n",
              "      <th>2022-04-17</th>\n",
              "      <td>2.820111</td>\n",
              "      <td>2.820111</td>\n",
              "      <td>2.781153</td>\n",
              "      <td>2.790278</td>\n",
              "      <td>2.790278</td>\n",
              "      <td>176793328</td>\n",
              "      <td>33.783303</td>\n",
              "      <td>3.104057</td>\n",
              "      <td>37.669353</td>\n",
              "      <td>3.117694</td>\n",
              "      <td>-0.034341</td>\n",
              "    </tr>\n",
              "  </tbody>\n",
              "</table>\n",
              "<p>553 rows × 11 columns</p>\n",
              "</div>\n",
              "      <button class=\"colab-df-convert\" onclick=\"convertToInteractive('df-8711ccb5-c343-4cf4-84d7-70dec1e9108b')\"\n",
              "              title=\"Convert this dataframe to an interactive table.\"\n",
              "              style=\"display:none;\">\n",
              "        \n",
              "  <svg xmlns=\"http://www.w3.org/2000/svg\" height=\"24px\"viewBox=\"0 0 24 24\"\n",
              "       width=\"24px\">\n",
              "    <path d=\"M0 0h24v24H0V0z\" fill=\"none\"/>\n",
              "    <path d=\"M18.56 5.44l.94 2.06.94-2.06 2.06-.94-2.06-.94-.94-2.06-.94 2.06-2.06.94zm-11 1L8.5 8.5l.94-2.06 2.06-.94-2.06-.94L8.5 2.5l-.94 2.06-2.06.94zm10 10l.94 2.06.94-2.06 2.06-.94-2.06-.94-.94-2.06-.94 2.06-2.06.94z\"/><path d=\"M17.41 7.96l-1.37-1.37c-.4-.4-.92-.59-1.43-.59-.52 0-1.04.2-1.43.59L10.3 9.45l-7.72 7.72c-.78.78-.78 2.05 0 2.83L4 21.41c.39.39.9.59 1.41.59.51 0 1.02-.2 1.41-.59l7.78-7.78 2.81-2.81c.8-.78.8-2.07 0-2.86zM5.41 20L4 18.59l7.72-7.72 1.47 1.35L5.41 20z\"/>\n",
              "  </svg>\n",
              "      </button>\n",
              "      \n",
              "  <style>\n",
              "    .colab-df-container {\n",
              "      display:flex;\n",
              "      flex-wrap:wrap;\n",
              "      gap: 12px;\n",
              "    }\n",
              "\n",
              "    .colab-df-convert {\n",
              "      background-color: #E8F0FE;\n",
              "      border: none;\n",
              "      border-radius: 50%;\n",
              "      cursor: pointer;\n",
              "      display: none;\n",
              "      fill: #1967D2;\n",
              "      height: 32px;\n",
              "      padding: 0 0 0 0;\n",
              "      width: 32px;\n",
              "    }\n",
              "\n",
              "    .colab-df-convert:hover {\n",
              "      background-color: #E2EBFA;\n",
              "      box-shadow: 0px 1px 2px rgba(60, 64, 67, 0.3), 0px 1px 3px 1px rgba(60, 64, 67, 0.15);\n",
              "      fill: #174EA6;\n",
              "    }\n",
              "\n",
              "    [theme=dark] .colab-df-convert {\n",
              "      background-color: #3B4455;\n",
              "      fill: #D2E3FC;\n",
              "    }\n",
              "\n",
              "    [theme=dark] .colab-df-convert:hover {\n",
              "      background-color: #434B5C;\n",
              "      box-shadow: 0px 1px 3px 1px rgba(0, 0, 0, 0.15);\n",
              "      filter: drop-shadow(0px 1px 2px rgba(0, 0, 0, 0.3));\n",
              "      fill: #FFFFFF;\n",
              "    }\n",
              "  </style>\n",
              "\n",
              "      <script>\n",
              "        const buttonEl =\n",
              "          document.querySelector('#df-8711ccb5-c343-4cf4-84d7-70dec1e9108b button.colab-df-convert');\n",
              "        buttonEl.style.display =\n",
              "          google.colab.kernel.accessAllowed ? 'block' : 'none';\n",
              "\n",
              "        async function convertToInteractive(key) {\n",
              "          const element = document.querySelector('#df-8711ccb5-c343-4cf4-84d7-70dec1e9108b');\n",
              "          const dataTable =\n",
              "            await google.colab.kernel.invokeFunction('convertToInteractive',\n",
              "                                                     [key], {});\n",
              "          if (!dataTable) return;\n",
              "\n",
              "          const docLinkHtml = 'Like what you see? Visit the ' +\n",
              "            '<a target=\"_blank\" href=https://colab.research.google.com/notebooks/data_table.ipynb>data table notebook</a>'\n",
              "            + ' to learn more about interactive tables.';\n",
              "          element.innerHTML = '';\n",
              "          dataTable['output_type'] = 'display_data';\n",
              "          await google.colab.output.renderOutput(dataTable, element);\n",
              "          const docLink = document.createElement('div');\n",
              "          docLink.innerHTML = docLinkHtml;\n",
              "          element.appendChild(docLink);\n",
              "        }\n",
              "      </script>\n",
              "    </div>\n",
              "  </div>\n",
              "  "
            ]
          },
          "metadata": {},
          "execution_count": 127
        }
      ]
    },
    {
      "cell_type": "code",
      "source": [
        "validate = df[['Open','High',\t'Low'\t,\t'Volume','rsi_2','SMA_2','rsi_6','SMA_6','macd','Close']].tail(10)"
      ],
      "metadata": {
        "id": "mU7neLH3I2CW"
      },
      "execution_count": 128,
      "outputs": []
    },
    {
      "cell_type": "code",
      "source": [
        "def custom_ts_multi_data_prep(dataset, target, start, end, window, horizon):\n",
        "    X = []\n",
        "    y = []\n",
        "    start = start + window\n",
        "    if end is None:\n",
        "        end = len(dataset) - horizon\n",
        "\n",
        "    for i in range(start, end):\n",
        "        indices = range(i-window, i)\n",
        "        X.append(dataset[indices])\n",
        "\n",
        "        indicey = range(i+1, i+1+horizon)\n",
        "        y.append(target[indicey])\n",
        "    return np.array(X), np.array(y)"
      ],
      "metadata": {
        "id": "nUVCrzpt_Xb-"
      },
      "execution_count": 129,
      "outputs": []
    },
    {
      "cell_type": "code",
      "source": [
        "X_scaler = MinMaxScaler()\n",
        "Y_scaler = MinMaxScaler()\n",
        "X_data = X_scaler.fit_transform(df[['Open','High',\t'Low'\t,\t'Volume','rsi_2','SMA_2','rsi_6','SMA_6','macd']])\n",
        "Y_data = Y_scaler.fit_transform(df[['Close']])"
      ],
      "metadata": {
        "id": "8uxf-46a_Zm1"
      },
      "execution_count": 130,
      "outputs": []
    },
    {
      "cell_type": "code",
      "source": [
        "hist_window = 20\n",
        "horizon = 10\n",
        "TRAIN_SPLIT = 350\n",
        "x_train, y_train = custom_ts_multi_data_prep(X_data, Y_data, 0, TRAIN_SPLIT, hist_window, horizon)\n",
        "x_vali, y_vali = custom_ts_multi_data_prep(X_data, Y_data, TRAIN_SPLIT, None, hist_window, horizon)"
      ],
      "metadata": {
        "id": "vhampguE_cgy"
      },
      "execution_count": 131,
      "outputs": []
    },
    {
      "cell_type": "code",
      "source": [
        "x_train"
      ],
      "metadata": {
        "colab": {
          "base_uri": "https://localhost:8080/"
        },
        "id": "BJNFqmFL_eer",
        "outputId": "fc8f35c3-7c94-445f-97c4-71804c295782"
      },
      "execution_count": 132,
      "outputs": [
        {
          "output_type": "execute_result",
          "data": {
            "text/plain": [
              "array([[[2.40970507e-03, 2.21860599e-03, 2.54364021e-03, ...,\n",
              "         4.87758113e-01, 1.54748855e-03, 4.59140825e-01],\n",
              "        [2.21368567e-03, 2.05511474e-03, 2.41917589e-03, ...,\n",
              "         4.42115373e-01, 1.48936441e-03, 4.58934951e-01],\n",
              "        [2.08860663e-03, 1.80304096e-03, 2.34993267e-03, ...,\n",
              "         4.13879489e-01, 1.47395725e-03, 4.58723850e-01],\n",
              "        ...,\n",
              "        [5.90325069e-04, 8.79047865e-04, 6.15527394e-04, ...,\n",
              "         3.35154815e-01, 7.29474128e-04, 4.57728307e-01],\n",
              "        [8.90621445e-04, 7.99739746e-04, 7.62253628e-04, ...,\n",
              "         2.46489914e-01, 6.24718167e-04, 4.57727676e-01],\n",
              "        [6.53264630e-04, 5.73111147e-04, 8.79490058e-04, ...,\n",
              "         2.40354756e-01, 5.50822130e-04, 4.57773364e-01]],\n",
              "\n",
              "       [[2.21368567e-03, 2.05511474e-03, 2.41917589e-03, ...,\n",
              "         4.42115373e-01, 1.48936441e-03, 4.58934951e-01],\n",
              "        [2.08860663e-03, 1.80304096e-03, 2.34993267e-03, ...,\n",
              "         4.13879489e-01, 1.47395725e-03, 4.58723850e-01],\n",
              "        [2.01833301e-03, 1.71350721e-03, 2.21159079e-03, ...,\n",
              "         3.72814724e-01, 1.42587255e-03, 4.58498536e-01],\n",
              "        ...,\n",
              "        [8.90621445e-04, 7.99739746e-04, 7.62253628e-04, ...,\n",
              "         2.46489914e-01, 6.24718167e-04, 4.57727676e-01],\n",
              "        [6.53264630e-04, 5.73111147e-04, 8.79490058e-04, ...,\n",
              "         2.40354756e-01, 5.50822130e-04, 4.57773364e-01],\n",
              "        [6.35929581e-04, 5.13421978e-04, 8.35833582e-04, ...,\n",
              "         2.40354756e-01, 4.79445829e-04, 4.57858374e-01]],\n",
              "\n",
              "       [[2.08860663e-03, 1.80304096e-03, 2.34993267e-03, ...,\n",
              "         4.13879489e-01, 1.47395725e-03, 4.58723850e-01],\n",
              "        [2.01833301e-03, 1.71350721e-03, 2.21159079e-03, ...,\n",
              "         3.72814724e-01, 1.42587255e-03, 4.58498536e-01],\n",
              "        [1.89418740e-03, 1.56951600e-03, 1.79280666e-03, ...,\n",
              "         3.11848092e-01, 1.39455670e-03, 4.58235174e-01],\n",
              "        ...,\n",
              "        [6.53264630e-04, 5.73111147e-04, 8.79490058e-04, ...,\n",
              "         2.40354756e-01, 5.50822130e-04, 4.57773364e-01],\n",
              "        [6.35929581e-04, 5.13421978e-04, 8.35833582e-04, ...,\n",
              "         2.40354756e-01, 4.79445829e-04, 4.57858374e-01],\n",
              "        [6.35929581e-04, 5.16751254e-04, 7.22933889e-04, ...,\n",
              "         2.24283193e-01, 4.52096514e-04, 4.57942578e-01]],\n",
              "\n",
              "       ...,\n",
              "\n",
              "       [[1.29571886e-01, 1.26173510e-01, 1.36960627e-01, ...,\n",
              "         7.44829213e-01, 1.09965191e-01, 4.94424338e-01],\n",
              "        [1.28550985e-01, 1.16677582e-01, 1.33178126e-01, ...,\n",
              "         6.69867220e-01, 1.11728355e-01, 4.85849611e-01],\n",
              "        [1.26128612e-01, 1.15121740e-01, 1.27621177e-01, ...,\n",
              "         5.89873220e-01, 1.13331782e-01, 4.76358751e-01],\n",
              "        ...,\n",
              "        [8.06747814e-02, 7.87990967e-02, 8.01397007e-02, ...,\n",
              "         1.09495879e-01, 1.26023342e-01, 4.15315415e-01],\n",
              "        [7.57424268e-02, 7.99669593e-02, 8.01798878e-02, ...,\n",
              "         3.83053943e-01, 1.25914261e-01, 4.21599959e-01],\n",
              "        [8.87473134e-02, 8.51715695e-02, 9.55101050e-02, ...,\n",
              "         4.64266229e-01, 1.25859191e-01, 4.30846052e-01]],\n",
              "\n",
              "       [[1.28550985e-01, 1.16677582e-01, 1.33178126e-01, ...,\n",
              "         6.69867220e-01, 1.11728355e-01, 4.85849611e-01],\n",
              "        [1.26128612e-01, 1.15121740e-01, 1.27621177e-01, ...,\n",
              "         5.89873220e-01, 1.13331782e-01, 4.76358751e-01],\n",
              "        [1.23914259e-01, 1.11499487e-01, 8.71156297e-02, ...,\n",
              "         1.81542774e-01, 1.14115390e-01, 4.50025018e-01],\n",
              "        ...,\n",
              "        [7.57424268e-02, 7.99669593e-02, 8.01798878e-02, ...,\n",
              "         3.83053943e-01, 1.25914261e-01, 4.21599959e-01],\n",
              "        [8.87473134e-02, 8.51715695e-02, 9.55101050e-02, ...,\n",
              "         4.64266229e-01, 1.25859191e-01, 4.30846052e-01],\n",
              "        [9.39136912e-02, 8.52650270e-02, 8.64613608e-02, ...,\n",
              "         3.63983316e-01, 1.25923385e-01, 4.33410435e-01]],\n",
              "\n",
              "       [[1.26128612e-01, 1.15121740e-01, 1.27621177e-01, ...,\n",
              "         5.89873220e-01, 1.13331782e-01, 4.76358751e-01],\n",
              "        [1.23914259e-01, 1.11499487e-01, 8.71156297e-02, ...,\n",
              "         1.81542774e-01, 1.14115390e-01, 4.50025018e-01],\n",
              "        [9.60407016e-02, 9.60239404e-02, 9.56047904e-02, ...,\n",
              "         2.90056882e-01, 1.15036656e-01, 4.36716562e-01],\n",
              "        ...,\n",
              "        [8.87473134e-02, 8.51715695e-02, 9.55101050e-02, ...,\n",
              "         4.64266229e-01, 1.25859191e-01, 4.30846052e-01],\n",
              "        [9.39136912e-02, 8.52650270e-02, 8.64613608e-02, ...,\n",
              "         3.63983316e-01, 1.25923385e-01, 4.33410435e-01],\n",
              "        [8.66040347e-02, 7.92409393e-02, 8.99553244e-02, ...,\n",
              "         3.40494131e-01, 1.25896027e-01, 4.35276155e-01]]])"
            ]
          },
          "metadata": {},
          "execution_count": 132
        }
      ]
    },
    {
      "cell_type": "code",
      "source": [
        "print ('Multiple window of past history\\n')\n",
        "print(x_train[0])\n",
        "print ('\\n Target horizon\\n')\n",
        "print (y_train[0])"
      ],
      "metadata": {
        "colab": {
          "base_uri": "https://localhost:8080/"
        },
        "id": "QxuHL7J-_g9-",
        "outputId": "7cd26c23-8f12-4975-f3f2-ed1c6305ef2d"
      },
      "execution_count": 133,
      "outputs": [
        {
          "output_type": "stream",
          "name": "stdout",
          "text": [
            "Multiple window of past history\n",
            "\n",
            "[[2.40970507e-03 2.21860599e-03 2.54364021e-03 5.80760036e-04\n",
            "  4.56912130e-01 1.49922790e-03 4.87758113e-01 1.54748855e-03\n",
            "  4.59140825e-01]\n",
            " [2.21368567e-03 2.05511474e-03 2.41917589e-03 4.11554601e-04\n",
            "  3.07332958e-01 1.53082269e-03 4.42115373e-01 1.48936441e-03\n",
            "  4.58934951e-01]\n",
            " [2.08860663e-03 1.80304096e-03 2.34993267e-03 1.54924649e-04\n",
            "  2.21670824e-01 1.51534165e-03 4.13879489e-01 1.47395725e-03\n",
            "  4.58723850e-01]\n",
            " [2.01833301e-03 1.71350721e-03 2.21159079e-03 7.69472175e-05\n",
            "  1.24625788e-01 1.48528347e-03 3.72814724e-01 1.42587255e-03\n",
            "  4.58498536e-01]\n",
            " [1.89418740e-03 1.56951600e-03 1.79280666e-03 3.50555202e-04\n",
            "  5.23728167e-02 1.46193867e-03 3.11848092e-01 1.39455670e-03\n",
            "  4.58235174e-01]\n",
            " [1.71190270e-03 1.47950664e-03 1.98868256e-03 4.26442590e-05\n",
            "  3.63532223e-02 1.46429698e-03 2.89606359e-01 1.36874536e-03\n",
            "  4.58035905e-01]\n",
            " [1.64616286e-03 1.39330216e-03 1.92449887e-03 9.55751258e-05\n",
            "  2.08543261e-02 1.47142121e-03 2.62387963e-01 1.34002220e-03\n",
            "  4.57881372e-01]\n",
            " [1.57135546e-03 1.42742724e-03 1.71879303e-03 6.54082183e-04\n",
            "  4.83685775e-03 1.45232465e-03 1.90182280e-01 1.30156052e-03\n",
            "  4.57668645e-01]\n",
            " [1.34960019e-03 1.17190528e-03 1.32371638e-03 3.43598324e-04\n",
            "  5.12204406e-04 1.39390101e-03 1.21285399e-01 1.28532965e-03\n",
            "  4.57392850e-01]\n",
            " [1.07650650e-03 9.25182123e-04 1.12971972e-03 4.39729368e-04\n",
            "  0.00000000e+00 1.36169816e-03 1.08597893e-01 1.26236328e-03\n",
            "  4.57239571e-01]\n",
            " [1.01236682e-03 1.16346319e-03 1.36939667e-03 2.98788449e-04\n",
            "  5.93313365e-01 1.35402338e-03 2.76822119e-01 1.25006551e-03\n",
            "  4.57344217e-01]\n",
            " [1.21892059e-03 1.32980811e-03 1.43199022e-03 4.57682355e-04\n",
            "  5.92378950e-01 1.30982355e-03 2.76709254e-01 1.21559771e-03\n",
            "  4.57475111e-01]\n",
            " [1.21865390e-03 1.20246328e-03 1.58363142e-03 4.18572154e-04\n",
            "  8.29455479e-01 1.24859787e-03 3.76686913e-01 1.19357054e-03\n",
            "  4.57694357e-01]\n",
            " [1.33519876e-03 1.08153921e-03 1.38443068e-03 1.71671175e-04\n",
            "  2.90707365e-01 1.15710859e-03 2.78168530e-01 1.13685673e-03\n",
            "  4.57760400e-01]\n",
            " [1.14971375e-03 1.14634120e-03 1.24088472e-03 2.43372429e-04\n",
            "  1.17948798e-01 1.08578408e-03 1.95267736e-01 1.02800354e-03\n",
            "  4.57714600e-01]\n",
            " [9.43426670e-04 8.53483779e-04 1.25794255e-03 6.17964838e-05\n",
            "  1.12366620e-01 1.02550337e-03 1.92055136e-01 9.31314381e-04\n",
            "  4.57732526e-01]\n",
            " [9.34892492e-04 7.14248685e-04 7.79166899e-04 2.79404629e-04\n",
            "  2.20973536e-02 9.26355742e-04 8.95538356e-02 8.18056972e-04\n",
            "  4.57569928e-01]\n",
            " [5.90325069e-04 8.79047865e-04 6.15527394e-04 2.88166142e-04\n",
            "  5.89778101e-01 8.25507167e-04 3.35154815e-01 7.29474128e-04\n",
            "  4.57728307e-01]\n",
            " [8.90621445e-04 7.99739746e-04 7.62253628e-04 3.49591983e-04\n",
            "  3.06992469e-01 7.42547239e-04 2.46489914e-01 6.24718167e-04\n",
            "  4.57727676e-01]\n",
            " [6.53264630e-04 5.73111147e-04 8.79490058e-04 0.00000000e+00\n",
            "  2.86824755e-01 6.33284345e-04 2.40354756e-01 5.50822130e-04\n",
            "  4.57773364e-01]]\n",
            "\n",
            " Target horizon\n",
            "\n",
            "[[0.00053946]\n",
            " [0.        ]\n",
            " [0.00011133]\n",
            " [0.000385  ]\n",
            " [0.00080142]\n",
            " [0.00067181]\n",
            " [0.00085804]\n",
            " [0.00084311]\n",
            " [0.00126957]\n",
            " [0.00141614]]\n"
          ]
        }
      ]
    },
    {
      "cell_type": "code",
      "source": [
        "import pandas as pd\n",
        "import numpy as np\n",
        "import matplotlib.pyplot as plt\n",
        "import plotly.express as px # to plot the time series plot\n",
        "from sklearn import metrics # for the evalution\n",
        "from sklearn.preprocessing import LabelEncoder,MinMaxScaler\n",
        "\n",
        "import tensorflow as tf"
      ],
      "metadata": {
        "id": "9YHpXcEK_jRu"
      },
      "execution_count": 134,
      "outputs": []
    },
    {
      "cell_type": "code",
      "source": [
        "batch_size = 256\n",
        "buffer_size = 150\n",
        "\n",
        "train_data = tf.data.Dataset.from_tensor_slices((x_train, y_train))\n",
        "train_data = train_data.cache().shuffle(buffer_size).batch(batch_size).repeat()\n",
        "\n",
        "val_data = tf.data.Dataset.from_tensor_slices((x_vali, y_vali))\n",
        "val_data = val_data.batch(batch_size).repeat()"
      ],
      "metadata": {
        "id": "0zQIYwlSH0yK"
      },
      "execution_count": 135,
      "outputs": []
    },
    {
      "cell_type": "code",
      "source": [
        "from keras.models import Model\n",
        "from keras.layers import Input\n",
        "from keras.layers import Dense\n",
        "from keras.layers import Flatten\n",
        "from keras.layers.convolutional import Conv1D\n",
        "from keras.layers.convolutional import MaxPooling1D\n",
        "from keras.layers.merge import concatenate\n",
        "import tensorflow as tf"
      ],
      "metadata": {
        "id": "rqnDiq95Drku"
      },
      "execution_count": 136,
      "outputs": []
    },
    {
      "cell_type": "code",
      "source": [
        "# define model\n",
        "import tensorflow as tf\n",
        "from tensorflow.keras import layers\n",
        "\n",
        "# Set random seed for as reproducible results as possible\n",
        "tf.random.set_seed(7)\n",
        "\n",
        "cnn_model = Sequential()\n",
        "cnn_model.add(Conv1D(filters=256, kernel_size=1, activation='relu', input_shape=( x_train.shape[-2:])))\n",
        "cnn_model.add(MaxPooling1D(pool_size=1))\n",
        "cnn_model.add(Flatten())\n",
        "cnn_model.add(Dense(50, activation='relu'))\n",
        "cnn_model.add(Dense(10))\n",
        "cnn_model.compile(optimizer='adam', loss='mse')\n",
        "cnn_model.summary()"
      ],
      "metadata": {
        "colab": {
          "base_uri": "https://localhost:8080/"
        },
        "id": "h7vQ_Ll1_5ec",
        "outputId": "adcdbdc4-8c57-4069-f6c6-20f5b379546f"
      },
      "execution_count": 137,
      "outputs": [
        {
          "output_type": "stream",
          "name": "stdout",
          "text": [
            "Model: \"sequential_4\"\n",
            "_________________________________________________________________\n",
            " Layer (type)                Output Shape              Param #   \n",
            "=================================================================\n",
            " conv1d_4 (Conv1D)           (None, 20, 256)           2560      \n",
            "                                                                 \n",
            " max_pooling1d_4 (MaxPooling  (None, 20, 256)          0         \n",
            " 1D)                                                             \n",
            "                                                                 \n",
            " flatten_4 (Flatten)         (None, 5120)              0         \n",
            "                                                                 \n",
            " dense_8 (Dense)             (None, 50)                256050    \n",
            "                                                                 \n",
            " dense_9 (Dense)             (None, 10)                510       \n",
            "                                                                 \n",
            "=================================================================\n",
            "Total params: 259,120\n",
            "Trainable params: 259,120\n",
            "Non-trainable params: 0\n",
            "_________________________________________________________________\n"
          ]
        }
      ]
    },
    {
      "cell_type": "code",
      "source": [
        "model_path = 'CNN_Multivariate.h5'\n",
        "early_stopings = tf.keras.callbacks.EarlyStopping(monitor='val_loss', min_delta=0, patience=10, verbose=1, mode='min')\n",
        "checkpoint =  tf.keras.callbacks.ModelCheckpoint(model_path, monitor='val_loss', save_best_only=True, mode='min', verbose=0)\n",
        "callbacks=[early_stopings,checkpoint]"
      ],
      "metadata": {
        "id": "pkWp7tm0HoY4"
      },
      "execution_count": 138,
      "outputs": []
    },
    {
      "cell_type": "code",
      "source": [
        "history = cnn_model.fit(train_data,epochs=50,steps_per_epoch=100,validation_data=val_data,validation_steps=50,verbose=1,callbacks=callbacks)"
      ],
      "metadata": {
        "colab": {
          "base_uri": "https://localhost:8080/"
        },
        "id": "1vqC4wRgHrxZ",
        "outputId": "7d04bc31-8669-4570-e16f-4127ba9606b4"
      },
      "execution_count": 139,
      "outputs": [
        {
          "output_type": "stream",
          "name": "stdout",
          "text": [
            "Epoch 1/50\n",
            "100/100 [==============================] - 5s 42ms/step - loss: 0.0011 - val_loss: 0.0782\n",
            "Epoch 2/50\n",
            "100/100 [==============================] - 6s 56ms/step - loss: 2.3729e-04 - val_loss: 0.0852\n",
            "Epoch 3/50\n",
            "100/100 [==============================] - 6s 55ms/step - loss: 1.2252e-04 - val_loss: 0.0972\n",
            "Epoch 4/50\n",
            "100/100 [==============================] - 6s 55ms/step - loss: 7.7603e-05 - val_loss: 0.1204\n",
            "Epoch 5/50\n",
            "100/100 [==============================] - 6s 62ms/step - loss: 6.0074e-05 - val_loss: 0.1278\n",
            "Epoch 6/50\n",
            "100/100 [==============================] - 5s 54ms/step - loss: 5.0764e-05 - val_loss: 0.1189\n",
            "Epoch 7/50\n",
            "100/100 [==============================] - 5s 55ms/step - loss: 4.5842e-05 - val_loss: 0.1172\n",
            "Epoch 8/50\n",
            "100/100 [==============================] - 5s 53ms/step - loss: 4.3512e-05 - val_loss: 0.1159\n",
            "Epoch 9/50\n",
            "100/100 [==============================] - 5s 54ms/step - loss: 4.1029e-05 - val_loss: 0.1122\n",
            "Epoch 10/50\n",
            "100/100 [==============================] - 4s 36ms/step - loss: 3.9885e-05 - val_loss: 0.1093\n",
            "Epoch 11/50\n",
            "100/100 [==============================] - 3s 31ms/step - loss: 3.9132e-05 - val_loss: 0.1101\n",
            "Epoch 11: early stopping\n"
          ]
        }
      ]
    },
    {
      "cell_type": "code",
      "source": [
        "plt.figure(figsize=(16,9))\n",
        "plt.plot(history.history['loss'])\n",
        "plt.plot(history.history['val_loss'])\n",
        "plt.title('Model loss')\n",
        "plt.ylabel('loss')\n",
        "plt.xlabel('epoch')\n",
        "plt.legend(['train loss', 'validation loss'])\n",
        "plt.show()"
      ],
      "metadata": {
        "colab": {
          "base_uri": "https://localhost:8080/",
          "height": 567
        },
        "id": "05kGXARbH9w3",
        "outputId": "e9d94cd1-7296-49d8-df51-3b34593244d7"
      },
      "execution_count": 140,
      "outputs": [
        {
          "output_type": "display_data",
          "data": {
            "text/plain": [
              "<Figure size 1152x648 with 1 Axes>"
            ],
            "image/png": "[encoded data removed]"
          },
          "metadata": {
            "needs_background": "light"
          }
        }
      ]
    },
    {
      "cell_type": "code",
      "source": [
        "df.columns"
      ],
      "metadata": {
        "colab": {
          "base_uri": "https://localhost:8080/"
        },
        "id": "jJ6fj09EIUFi",
        "outputId": "578cc03a-dfc8-4e86-f9bb-1b59f00d2b2c"
      },
      "execution_count": 141,
      "outputs": [
        {
          "output_type": "execute_result",
          "data": {
            "text/plain": [
              "Index(['Open', 'High', 'Low', 'Close', 'Adj Close', 'Volume', 'rsi_2', 'SMA_2',\n",
              "       'rsi_6', 'SMA_6', 'macd'],\n",
              "      dtype='object')"
            ]
          },
          "metadata": {},
          "execution_count": 141
        }
      ]
    },
    {
      "cell_type": "code",
      "source": [
        "model_path = 'CNN_Multivariate.h5'\n",
        "early_stopings = tf.keras.callbacks.EarlyStopping(monitor='val_loss', min_delta=0, patience=10, verbose=1, mode='min')\n",
        "checkpoint =  tf.keras.callbacks.ModelCheckpoint(model_path, monitor='val_loss', save_best_only=True, mode='min', verbose=0)\n",
        "callbacks=[early_stopings,checkpoint]"
      ],
      "metadata": {
        "id": "35hSQNorIWZr"
      },
      "execution_count": 142,
      "outputs": []
    },
    {
      "cell_type": "code",
      "source": [
        "  data_val = X_scaler.fit_transform(df[['Open','High',\t'Low'\t,\t'Volume','rsi_2','SMA_2','rsi_6','SMA_6','macd']].tail(20))\n",
        "  val_rescaled = data_val.reshape(1, data_val.shape[0], data_val.shape[1])"
      ],
      "metadata": {
        "id": "eFhfHDpCIbc2"
      },
      "execution_count": 143,
      "outputs": []
    },
    {
      "cell_type": "code",
      "source": [
        "pred =cnn_model.predict(val_rescaled)\n",
        "pred"
      ],
      "metadata": {
        "colab": {
          "base_uri": "https://localhost:8080/"
        },
        "id": "cl_2UpmvIhFD",
        "outputId": "90153130-f2f7-4622-d3bf-6f3f2e71fe5e"
      },
      "execution_count": 144,
      "outputs": [
        {
          "output_type": "stream",
          "name": "stdout",
          "text": [
            "WARNING:tensorflow:5 out of the last 5 calls to <function Model.make_predict_function.<locals>.predict_function at 0x7ff70bc5e440> triggered tf.function retracing. Tracing is expensive and the excessive number of tracings could be due to (1) creating @tf.function repeatedly in a loop, (2) passing tensors with different shapes, (3) passing Python objects instead of tensors. For (1), please define your @tf.function outside of the loop. For (2), @tf.function has experimental_relax_shapes=True option that relaxes argument shapes that can avoid unnecessary retracing. For (3), please refer to https://www.tensorflow.org/guide/function#controlling_retracing and https://www.tensorflow.org/api_docs/python/tf/function for  more details.\n"
          ]
        },
        {
          "output_type": "execute_result",
          "data": {
            "text/plain": [
              "array([[0.28335387, 0.30012757, 0.32465717, 0.27545464, 0.3032919 ,\n",
              "        0.17356369, 0.14089513, 0.2485624 , 0.32060176, 0.24295482]],\n",
              "      dtype=float32)"
            ]
          },
          "metadata": {},
          "execution_count": 144
        }
      ]
    },
    {
      "cell_type": "code",
      "source": [
        "pred_Inverse = Y_scaler.inverse_transform(pred)"
      ],
      "metadata": {
        "id": "L6k0Upq8In09"
      },
      "execution_count": 145,
      "outputs": []
    },
    {
      "cell_type": "code",
      "source": [
        "pred_Inverse"
      ],
      "metadata": {
        "colab": {
          "base_uri": "https://localhost:8080/"
        },
        "id": "xCsb3AfJIpih",
        "outputId": "f5d3ea38-e70d-4e03-ce99-2fd06876321d"
      },
      "execution_count": 146,
      "outputs": [
        {
          "output_type": "execute_result",
          "data": {
            "text/plain": [
              "array([[2.402881 , 2.5432997, 2.748646 , 2.3367534, 2.5697894, 1.4837867,\n",
              "        1.2103062, 2.1116285, 2.7146966, 2.0646856]], dtype=float32)"
            ]
          },
          "metadata": {},
          "execution_count": 146
        }
      ]
    },
    {
      "cell_type": "code",
      "source": [
        "def timeseries_evaluation_metrics_func(y_true, y_pred):\n",
        "    def mean_absolute_percentage_error(y_true, y_pred): \n",
        "        y_true, y_pred = np.array(y_true), np.array(y_pred)\n",
        "        return np.mean(np.abs((y_true - y_pred) / y_true)) * 100\n",
        "    print('Evaluation metric results:-')\n",
        "    print(f'MSE is : {metrics.mean_squared_error(y_true, y_pred)}')\n",
        "    print(f'MAE is : {metrics.mean_absolute_error(y_true, y_pred)}')\n",
        "    print(f'RMSE is : {np.sqrt(metrics.mean_squared_error(y_true, y_pred))}')\n",
        "    print(f'MAPE is : {mean_absolute_percentage_error(y_true, y_pred)}')\n"
      ],
      "metadata": {
        "id": "qCa3fcUgIro5"
      },
      "execution_count": 147,
      "outputs": []
    },
    {
      "cell_type": "code",
      "source": [
        "pred_Inverse[0]"
      ],
      "metadata": {
        "colab": {
          "base_uri": "https://localhost:8080/"
        },
        "id": "ehhTu4AWIuAO",
        "outputId": "08727b09-3233-4e83-8c74-3edf08ec9a47"
      },
      "execution_count": 148,
      "outputs": [
        {
          "output_type": "execute_result",
          "data": {
            "text/plain": [
              "array([2.402881 , 2.5432997, 2.748646 , 2.3367534, 2.5697894, 1.4837867,\n",
              "       1.2103062, 2.1116285, 2.7146966, 2.0646856], dtype=float32)"
            ]
          },
          "metadata": {},
          "execution_count": 148
        }
      ]
    },
    {
      "cell_type": "code",
      "source": [
        "timeseries_evaluation_metrics_func(validate['Close'],pred_Inverse[0])"
      ],
      "metadata": {
        "colab": {
          "base_uri": "https://localhost:8080/"
        },
        "id": "vZheU0ClIv6C",
        "outputId": "c740c8ca-f9fe-49f1-bf11-9f06587b243a"
      },
      "execution_count": 149,
      "outputs": [
        {
          "output_type": "stream",
          "name": "stdout",
          "text": [
            "Evaluation metric results:-\n",
            "MSE is : 0.6043737880348369\n",
            "MAE is : 0.613241698802948\n",
            "RMSE is : 0.777414810789476\n",
            "MAPE is : 21.69363377162982\n"
          ]
        }
      ]
    },
    {
      "cell_type": "code",
      "source": [
        "plt.figure(figsize=(16,9))\n",
        "plt.plot( list(validate['Close']))\n",
        "plt.plot( list(pred_Inverse[0]))\n",
        "plt.title(\"Actual vs Predicted\")\n",
        "plt.ylabel(\"Close\")\n",
        "plt.legend(('Actual','predicted'))\n",
        "plt.show()"
      ],
      "metadata": {
        "id": "9F4dY-uMJau0",
        "outputId": "10268cbb-c462-4fe9-acba-fb8580ad252f",
        "colab": {
          "base_uri": "https://localhost:8080/",
          "height": 553
        }
      },
      "execution_count": 150,
      "outputs": [
        {
          "output_type": "display_data",
          "data": {
            "text/plain": [
              "<Figure size 1152x648 with 1 Axes>"
            ],
            "image/png": "[encoded data removed]"
          },
          "metadata": {
            "needs_background": "light"
          }
        }
      ]
    }
  ]
}